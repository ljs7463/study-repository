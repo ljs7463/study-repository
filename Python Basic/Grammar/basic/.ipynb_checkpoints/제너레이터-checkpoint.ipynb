{
 "cells": [
  {
   "cell_type": "markdown",
   "id": "9c715ae4",
   "metadata": {},
   "source": [
    "- 제너레이터 객체는 모든 값을 메모리에 올려두고 이용하는 것이 아니라 필요할 때마다 생성해서 반환하는 일을 한다.\n",
    "- 이 때문에 메모리를 효율적으로 사용할 수 있다는 장점이 있다.\n",
    "- 반복문과 동일한 일을 하는것 처럼 보이지만 미리 메모리에 값을 올려두는것이 아닌 필요할때마다 받아오는 것이기 때문에 메모리를 효율적으로 사용한다"
   ]
  },
  {
   "cell_type": "code",
   "execution_count": 1,
   "id": "c6236632",
   "metadata": {},
   "outputs": [],
   "source": [
    "def generate():\n",
    "    yield \"test\"\n",
    "    yield \"test2\"\n",
    "    yield \"test3\""
   ]
  },
  {
   "cell_type": "code",
   "execution_count": 2,
   "id": "c32720bf",
   "metadata": {},
   "outputs": [
    {
     "data": {
      "text/plain": [
       "<generator object generate at 0x0000024CECA03CA0>"
      ]
     },
     "execution_count": 2,
     "metadata": {},
     "output_type": "execute_result"
    }
   ],
   "source": [
    "gen = generate()\n",
    "gen"
   ]
  },
  {
   "cell_type": "code",
   "execution_count": 4,
   "id": "952a511a",
   "metadata": {},
   "outputs": [
    {
     "data": {
      "text/plain": [
       "'test'"
      ]
     },
     "execution_count": 4,
     "metadata": {},
     "output_type": "execute_result"
    }
   ],
   "source": [
    "next(gen)"
   ]
  },
  {
   "cell_type": "code",
   "execution_count": 5,
   "id": "a11352ce",
   "metadata": {},
   "outputs": [
    {
     "data": {
      "text/plain": [
       "'test2'"
      ]
     },
     "execution_count": 5,
     "metadata": {},
     "output_type": "execute_result"
    }
   ],
   "source": [
    "next(gen)"
   ]
  },
  {
   "cell_type": "code",
   "execution_count": 6,
   "id": "a411070e",
   "metadata": {},
   "outputs": [
    {
     "data": {
      "text/plain": [
       "'test3'"
      ]
     },
     "execution_count": 6,
     "metadata": {},
     "output_type": "execute_result"
    }
   ],
   "source": [
    "next(gen)"
   ]
  },
  {
   "cell_type": "code",
   "execution_count": 7,
   "id": "7a311e07",
   "metadata": {},
   "outputs": [
    {
     "ename": "StopIteration",
     "evalue": "",
     "output_type": "error",
     "traceback": [
      "\u001b[1;31m---------------------------------------------------------------------------\u001b[0m",
      "\u001b[1;31mStopIteration\u001b[0m                             Traceback (most recent call last)",
      "Input \u001b[1;32mIn [7]\u001b[0m, in \u001b[0;36m<cell line: 1>\u001b[1;34m()\u001b[0m\n\u001b[1;32m----> 1\u001b[0m \u001b[38;5;28;43mnext\u001b[39;49m\u001b[43m(\u001b[49m\u001b[43mgen\u001b[49m\u001b[43m)\u001b[49m\n",
      "\u001b[1;31mStopIteration\u001b[0m: "
     ]
    }
   ],
   "source": [
    "next(gen)"
   ]
  },
  {
   "cell_type": "code",
   "execution_count": 9,
   "id": "bd801503",
   "metadata": {},
   "outputs": [],
   "source": [
    "def create_gen():\n",
    "    alist = range(1, 4)\n",
    "    for x in alist:\n",
    "        yield x"
   ]
  },
  {
   "cell_type": "code",
   "execution_count": 10,
   "id": "c1a76533",
   "metadata": {},
   "outputs": [
    {
     "data": {
      "text/plain": [
       "<function __main__.create_gen()>"
      ]
     },
     "execution_count": 10,
     "metadata": {},
     "output_type": "execute_result"
    }
   ],
   "source": [
    "create_gen"
   ]
  },
  {
   "cell_type": "code",
   "execution_count": 13,
   "id": "adbb3c45",
   "metadata": {},
   "outputs": [
    {
     "name": "stdout",
     "output_type": "stream",
     "text": [
      "1\n",
      "2\n",
      "3\n"
     ]
    }
   ],
   "source": [
    "for n in create_gen():\n",
    "    print(n)"
   ]
  },
  {
   "cell_type": "markdown",
   "id": "bf14adef",
   "metadata": {},
   "source": [
    "제너레이터를 사용할 때 주의사항\n",
    "- 제너레이터는 실행될때 함수의 몸체를 실행하는 것이 아니라, 제너레이트 함수가 가진 객체를 반환한다.\n",
    "- 제너레이터는 한번 생성해서 반환한 객체를 보관하지 않기 때문에 이전의 코드를 실행한 후 추가한 코드를 실행하면 아무런 객체도 출력되지않는다."
   ]
  }
 ],
 "metadata": {
  "kernelspec": {
   "display_name": "jupyter",
   "language": "python",
   "name": "jupyter"
  },
  "language_info": {
   "codemirror_mode": {
    "name": "ipython",
    "version": 3
   },
   "file_extension": ".py",
   "mimetype": "text/x-python",
   "name": "python",
   "nbconvert_exporter": "python",
   "pygments_lexer": "ipython3",
   "version": "3.10.4"
  },
  "toc": {
   "base_numbering": 1,
   "nav_menu": {},
   "number_sections": true,
   "sideBar": true,
   "skip_h1_title": false,
   "title_cell": "Table of Contents",
   "title_sidebar": "Contents",
   "toc_cell": false,
   "toc_position": {},
   "toc_section_display": true,
   "toc_window_display": false
  }
 },
 "nbformat": 4,
 "nbformat_minor": 5
}
