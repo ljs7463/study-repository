{
 "cells": [
  {
   "cell_type": "markdown",
   "id": "d7657aec",
   "metadata": {},
   "source": [
    "map() 함수는 리스트의 요소를 함수에 넣고 리턴된 값으로 새로운 리스트를 구성해 주는 함수입니다.\n",
    "\n",
    "filter() 함수는 리스트의 요소를 함수에 넣고 리턴된 값이 True인 것으로, 새로운 리스트를 구성해주는 함수입니다."
   ]
  },
  {
   "cell_type": "code",
   "execution_count": 1,
   "id": "7b14ee74",
   "metadata": {},
   "outputs": [],
   "source": [
    "# map\n",
    "def power(item):\n",
    "    return item * item\n",
    "def under_3(item):\n",
    "    return item<3"
   ]
  },
  {
   "cell_type": "code",
   "execution_count": 7,
   "id": "7107fb91",
   "metadata": {},
   "outputs": [
    {
     "name": "stdout",
     "output_type": "stream",
     "text": [
      "[1, 4, 9, 16, 25]\n",
      "[1, 4, 9, 16, 25]\n"
     ]
    }
   ],
   "source": [
    "list_input_a = [1,2,3,4,5]\n",
    "\n",
    "output_a = map(power, list_input_a)\n",
    "print(list(output_a))\n",
    "print(list(map(power, list_input_a)))"
   ]
  },
  {
   "cell_type": "code",
   "execution_count": 10,
   "id": "353bb894",
   "metadata": {},
   "outputs": [
    {
     "name": "stdout",
     "output_type": "stream",
     "text": [
      "[1, 2]\n",
      "[1, 2]\n"
     ]
    }
   ],
   "source": [
    "output_b = filter(under_3, list_input_a)\n",
    "print(list(output_b))\n",
    "print(list(filter(under_3, list_input_a)))"
   ]
  },
  {
   "cell_type": "code",
   "execution_count": 12,
   "id": "ecbd5ee5",
   "metadata": {},
   "outputs": [
    {
     "data": {
      "text/plain": [
       "[1, 4, 9, 16, 25]"
      ]
     },
     "execution_count": 12,
     "metadata": {},
     "output_type": "execute_result"
    }
   ],
   "source": [
    "# 람다를 활용\n",
    "power = lambda x: x*x\n",
    "under_3 = lambda x: x <3\n",
    "\n",
    "list_input_a = [1,2,3,4,5]\n",
    "output_a = map(power, list_input_a)\n",
    "list(output_a)"
   ]
  },
  {
   "cell_type": "code",
   "execution_count": 13,
   "id": "6c82f394",
   "metadata": {},
   "outputs": [
    {
     "data": {
      "text/plain": [
       "[1, 2]"
      ]
     },
     "execution_count": 13,
     "metadata": {},
     "output_type": "execute_result"
    }
   ],
   "source": [
    "output_b = filter(under_3, list_input_a)\n",
    "list(output_b)"
   ]
  }
 ],
 "metadata": {
  "kernelspec": {
   "display_name": "Python 3 (ipykernel)",
   "language": "python",
   "name": "python3"
  },
  "language_info": {
   "codemirror_mode": {
    "name": "ipython",
    "version": 3
   },
   "file_extension": ".py",
   "mimetype": "text/x-python",
   "name": "python",
   "nbconvert_exporter": "python",
   "pygments_lexer": "ipython3",
   "version": "3.8.2"
  },
  "toc": {
   "base_numbering": 1,
   "nav_menu": {},
   "number_sections": true,
   "sideBar": true,
   "skip_h1_title": false,
   "title_cell": "Table of Contents",
   "title_sidebar": "Contents",
   "toc_cell": false,
   "toc_position": {},
   "toc_section_display": true,
   "toc_window_display": false
  }
 },
 "nbformat": 4,
 "nbformat_minor": 5
}
