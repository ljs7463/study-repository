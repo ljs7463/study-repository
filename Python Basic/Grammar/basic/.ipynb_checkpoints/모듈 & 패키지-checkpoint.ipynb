{
 "cells": [
  {
   "cell_type": "markdown",
   "id": "93e30e9e",
   "metadata": {},
   "source": [
    "## 모듈"
   ]
  },
  {
   "cell_type": "code",
   "execution_count": 1,
   "id": "2730e13d",
   "metadata": {},
   "outputs": [
    {
     "data": {
      "text/plain": [
       "'__main__'"
      ]
     },
     "execution_count": 1,
     "metadata": {},
     "output_type": "execute_result"
    }
   ],
   "source": [
    "__name__"
   ]
  },
  {
   "cell_type": "markdown",
   "id": "476300f2",
   "metadata": {},
   "source": [
    "프로그램의 진입점을 \"엔트리 포인트\" 또는 \"메인\" 이라고 부른다, 그리고 이러한 엔트리 포인트 또는 메인 내부에서의 __name__은 \"__main__\"이다.\n",
    "\n",
    "모듈을 import해서 가져온 경우 __name__은 \"을 출력한다.\n",
    "\n",
    "만약에 코드에서 if __name__ == \"__main__\":  이러한 조건문이 있다면, 엔트리 포인트에서 실행한 경우 어떤 조건에 맞는 행위를 하겠다는 뜻이다."
   ]
  },
  {
   "cell_type": "markdown",
   "id": "525cb5f0",
   "metadata": {},
   "source": [
    "## 패키지"
   ]
  },
  {
   "cell_type": "markdown",
   "id": "4b630d90",
   "metadata": {},
   "source": [
    "- 모듈이 모여서 구조를 이루면 패키지라고 부른다\n",
    "- 즉, 폴더하나에 한개이상의 .py들을 구조화 시킨다면 이것을 패키지라고 부를 수 있다."
   ]
  },
  {
   "cell_type": "markdown",
   "id": "5c5feecf",
   "metadata": {},
   "source": [
    "## __init__.py 파일"
   ]
  },
  {
   "cell_type": "markdown",
   "id": "9ea11e55",
   "metadata": {},
   "source": [
    "패키지를 읽을때 어떤 처리를 수행해야 하거나 패키지 내부의 모듈들을 한꺼번에 가져오고 싶을 때 가 있다. 이때 패키지 폴더 내부에 __init__.py를 사용한다."
   ]
  },
  {
   "cell_type": "code",
   "execution_count": 2,
   "id": "0d4c0496",
   "metadata": {},
   "outputs": [
    {
     "name": "stdout",
     "output_type": "stream",
     "text": [
      "test_package를 읽어 들였습니다.\n"
     ]
    }
   ],
   "source": [
    "from test_package import *"
   ]
  },
  {
   "cell_type": "code",
   "execution_count": 10,
   "id": "29e12193",
   "metadata": {},
   "outputs": [
    {
     "name": "stdout",
     "output_type": "stream",
     "text": [
      "타입이 int형이 아닙니다.\n"
     ]
    }
   ],
   "source": [
    "module_a.variable()"
   ]
  },
  {
   "cell_type": "code",
   "execution_count": 9,
   "id": "1555c38a",
   "metadata": {},
   "outputs": [
    {
     "data": {
      "text/plain": [
       "'variable'"
      ]
     },
     "execution_count": 9,
     "metadata": {},
     "output_type": "execute_result"
    }
   ],
   "source": [
    "module_a.variable.__name__"
   ]
  }
 ],
 "metadata": {
  "kernelspec": {
   "display_name": "jupyter",
   "language": "python",
   "name": "jupyter"
  },
  "language_info": {
   "codemirror_mode": {
    "name": "ipython",
    "version": 3
   },
   "file_extension": ".py",
   "mimetype": "text/x-python",
   "name": "python",
   "nbconvert_exporter": "python",
   "pygments_lexer": "ipython3",
   "version": "3.10.4"
  },
  "toc": {
   "base_numbering": 1,
   "nav_menu": {},
   "number_sections": true,
   "sideBar": true,
   "skip_h1_title": false,
   "title_cell": "Table of Contents",
   "title_sidebar": "Contents",
   "toc_cell": false,
   "toc_position": {},
   "toc_section_display": true,
   "toc_window_display": false
  }
 },
 "nbformat": 4,
 "nbformat_minor": 5
}
