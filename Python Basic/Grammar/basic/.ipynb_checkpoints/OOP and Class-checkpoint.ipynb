{
 "cells": [
  {
   "cell_type": "markdown",
   "id": "9308773e",
   "metadata": {},
   "source": [
    "추상화 : 대상을 일반화 하는 과정\n",
    "ex, \"후라이드 치킨\" 객체가 존재한다고 가정, 이때 후라이드 치킨은 \"치킨\"의 한 종륭다. 즉, \"치킨\"이라는 객체가 있다고 할 수있다.\n",
    "\n",
    "\"치킨\"은 \"음식\"이다. 즉, 음식이라는 객체 하나가 있다고 할 수 있다. 이렇게 대상을 일반화하는 과정을 추상화라고 한다.\n",
    "\n",
    "왜 사용할까??\n",
    "\n",
    "1. 개발을 빠르게 하기 위해서.\n",
    "\n",
    "ex, 전자제품 -> 통신기기 -> 휴대폰 -> 아이폰\n",
    "\n",
    "APPLE의 고유기능만 추가하게 되면 위에서 상속받아 오기만 하면되기 때문이다.\n",
    "\n",
    "2. 유연한 기능\n",
    "\n",
    "\n",
    "다형성 : 상위 요소인 치킨 상자를 활용하여 후라이드 치킨과 양념치킨등 다양한 하위요소를 가질 수 있는 성질\n"
   ]
  },
  {
   "cell_type": "code",
   "execution_count": 1,
   "id": "338d0d1f",
   "metadata": {},
   "outputs": [],
   "source": [
    "import pandas as pd\n",
    "import numpy as np"
   ]
  },
  {
   "cell_type": "code",
   "execution_count": 2,
   "id": "d11b20a9",
   "metadata": {},
   "outputs": [
    {
     "name": "stdout",
     "output_type": "stream",
     "text": [
      "이름\t총점\t평균\n",
      "윤인성\t368\t92.0\n",
      "연하진\t384\t96.0\n",
      "구지연\t358\t89.5\n"
     ]
    }
   ],
   "source": [
    "def create_student(name, korean, math, english, science):\n",
    "    return {\n",
    "        'name':name,\n",
    "        'korean':korean,\n",
    "        'math':math,\n",
    "        'english':english,\n",
    "        'science':science\n",
    "    }\n",
    "students = [\n",
    "    create_student('윤인성',87,98,88,95),\n",
    "    create_student('연하진',92,98,96,98),\n",
    "    create_student('구지연',76,96,94,92)    \n",
    "]\n",
    "\n",
    "print('이름','총점','평균',sep ='\\t')\n",
    "for student in students:\n",
    "    score_sum = student['korean'] + student['math'] +\\\n",
    "    student['english'] + student['science']\n",
    "    score_average = score_sum/4\n",
    "    print(student['name'], score_sum, score_average, sep = '\\t')"
   ]
  },
  {
   "cell_type": "markdown",
   "id": "c3d8cc85",
   "metadata": {},
   "source": [
    "속성을 가질 수 있는 대상을 객체라고 한다. "
   ]
  },
  {
   "cell_type": "markdown",
   "id": "a619d0fa",
   "metadata": {},
   "source": [
    "총점과 평균을 구하는 처리는 학생을 대상으로만 이루어 진다. 따라서 학생을 매개변수로 받는 형태의 함수로 만들면 더 균형잡히지 않을까? "
   ]
  },
  {
   "cell_type": "code",
   "execution_count": 3,
   "id": "a1d34597",
   "metadata": {},
   "outputs": [
    {
     "name": "stdout",
     "output_type": "stream",
     "text": [
      "이름\t총점\t평균\n",
      "윤인성 \t368 \t92.0\n",
      "연하진 \t384 \t96.0\n",
      "구지연 \t358 \t89.5\n"
     ]
    }
   ],
   "source": [
    "def create_student(name, korean, math, english, science):\n",
    "    return {\n",
    "        'name':name,\n",
    "        'korean':korean,\n",
    "        'math':math,\n",
    "        'english':english,\n",
    "        'science':science\n",
    "    }\n",
    "\n",
    "def student_get_sum(student):\n",
    "    return student['korean'] + student['math'] + student['english'] + student['science']\n",
    "\n",
    "def student_get_average(student):\n",
    "    return student_get_sum(student) / 4\n",
    "\n",
    "def student_to_string(student):\n",
    "    return '{} \\t{} \\t{}'.format(student['name'], student_get_sum(student), student_get_average(student))\n",
    "students = [\n",
    "    create_student('윤인성',87,98,88,95),\n",
    "    create_student('연하진',92,98,96,98),\n",
    "    create_student('구지연',76,96,94,92)\n",
    "]\n",
    "\n",
    "print('이름', '총점' ,'평균', sep = '\\t')\n",
    "\n",
    "for student in students:\n",
    "    print(student_to_string(student))\n"
   ]
  },
  {
   "cell_type": "markdown",
   "id": "c97c503b",
   "metadata": {},
   "source": [
    "# 클래스 선언하기"
   ]
  },
  {
   "cell_type": "markdown",
   "id": "219666fd",
   "metadata": {},
   "source": [
    "클래스는 객체를 조금 더 효율적으로 생성하기 위해 만들어진 구문입니다. "
   ]
  },
  {
   "cell_type": "markdown",
   "id": "ee15ac80",
   "metadata": {},
   "source": [
    "- 생성자 : 클래스 이름과 같은 함수를 생성자 라고 부른다.\n",
    "- 인스턴스 : 클래스 기반으로 만들어진 객체를 인스턴스라고 부른다.(인스턴스 이름(변수이름) = 클래스 이름())"
   ]
  },
  {
   "cell_type": "code",
   "execution_count": 4,
   "id": "dcbd9b9c",
   "metadata": {},
   "outputs": [],
   "source": [
    "class Student:\n",
    "    def __init__(self, name, korean, math, english, science):\n",
    "        self.name = name\n",
    "        self.korean = korean\n",
    "        self.math = math\n",
    "        self.english = english\n",
    "        self.science = science\n",
    "        "
   ]
  },
  {
   "cell_type": "code",
   "execution_count": 5,
   "id": "7d24a0ac",
   "metadata": {},
   "outputs": [
    {
     "name": "stdout",
     "output_type": "stream",
     "text": [
      "윤인성\n",
      "87\n",
      "98\n",
      "88\n",
      "95\n"
     ]
    }
   ],
   "source": [
    "students = [\n",
    "    Student('윤인성',87,98,88,95),\n",
    "    Student('연하진',92,98,96,98),\n",
    "    Student('구지연',76,96,94,92)\n",
    "    \n",
    "]\n",
    "print(students[0].name)\n",
    "print(students[0].korean)\n",
    "print(students[0].math)\n",
    "print(students[0].english)\n",
    "print(students[0].science)"
   ]
  },
  {
   "cell_type": "markdown",
   "id": "ece09629",
   "metadata": {},
   "source": [
    "- 메소드 : 클래스가 가지고 있는 함수를 메소드(method)라고 부른다. 클래스 내부에 메소드를 만들 때 첫번째 매개변수로 self를 넣어야한다."
   ]
  },
  {
   "cell_type": "code",
   "execution_count": 6,
   "id": "873b7f50",
   "metadata": {},
   "outputs": [],
   "source": [
    "class 클래스명:\n",
    "    def 메소드이름(self, 추가적인매개변수):\n",
    "        pass"
   ]
  },
  {
   "cell_type": "code",
   "execution_count": 7,
   "id": "a24daa57",
   "metadata": {},
   "outputs": [],
   "source": [
    "class Student:\n",
    "    def __init__(self, name, korean, math, english, science):\n",
    "        self.name = name\n",
    "        self.korean = korean\n",
    "        self.math = math\n",
    "        self.english = english\n",
    "        self.science = science\n",
    "        \n",
    "    def get_sum(self):\n",
    "        return self.korean + self.math + self.english + self.science\n",
    "    \n",
    "    def get_average(self):\n",
    "        return self.get_sum() / 4\n",
    "    \n",
    "    def to_string(self):\n",
    "        return \"{} \\t{} \\t{}\".format(self.name, self.get_sum(), self.get_average())"
   ]
  },
  {
   "cell_type": "code",
   "execution_count": 8,
   "id": "3a65cdab",
   "metadata": {},
   "outputs": [
    {
     "name": "stdout",
     "output_type": "stream",
     "text": [
      "이름\t총점\t평균\n",
      "윤인성 \t368 \t92.0\n",
      "연하진 \t384 \t96.0\n",
      "구지연 \t358 \t89.5\n"
     ]
    }
   ],
   "source": [
    "students = [\n",
    "    Student('윤인성',87,98,88,95),\n",
    "    Student('연하진',92,98,96,98),\n",
    "    Student('구지연',76,96,94,92)\n",
    "]\n",
    "\n",
    "print('이름','총점','평균',sep = '\\t')\n",
    "for student in students:\n",
    "    print(student.to_string())"
   ]
  },
  {
   "cell_type": "markdown",
   "id": "54f4df27",
   "metadata": {},
   "source": [
    "# 어떤 클래스의 인스턴스인지 확인하기"
   ]
  },
  {
   "cell_type": "code",
   "execution_count": 9,
   "id": "e5c808b2",
   "metadata": {},
   "outputs": [],
   "source": [
    "student = Student('윤인성',87,98,88,95)"
   ]
  },
  {
   "cell_type": "code",
   "execution_count": 10,
   "id": "bdfddc4d",
   "metadata": {},
   "outputs": [
    {
     "data": {
      "text/plain": [
       "True"
      ]
     },
     "execution_count": 10,
     "metadata": {},
     "output_type": "execute_result"
    }
   ],
   "source": [
    "isinstance(student, Student)"
   ]
  },
  {
   "cell_type": "code",
   "execution_count": 11,
   "id": "d15b06f6",
   "metadata": {},
   "outputs": [
    {
     "data": {
      "text/plain": [
       "True"
      ]
     },
     "execution_count": 11,
     "metadata": {},
     "output_type": "execute_result"
    }
   ],
   "source": [
    "# 단순확인 방법으로 아래와 같은 방법도 있다.\n",
    "type(student)==Student"
   ]
  },
  {
   "cell_type": "markdown",
   "id": "6e67fe2b",
   "metadata": {},
   "source": [
    "위 두가지 방법의 차이는 isinstance를 사용하면 상속관계도 확인가능하다."
   ]
  },
  {
   "cell_type": "code",
   "execution_count": 12,
   "id": "9706ac98",
   "metadata": {},
   "outputs": [
    {
     "name": "stdout",
     "output_type": "stream",
     "text": [
      "공부를 합니다.\n",
      "공부를 합니다.\n",
      "학생을 가르칩니다.\n",
      "공부를 합니다.\n"
     ]
    }
   ],
   "source": [
    "class Student:\n",
    "    def study(self):\n",
    "        print('공부를 합니다.')\n",
    "class Teacher:\n",
    "    def teach(self):\n",
    "        print('학생을 가르칩니다.')\n",
    "        \n",
    "        \n",
    "classroom = [Student(),Student(),Teacher(),Student(),]\n",
    "\n",
    "for person in classroom:\n",
    "    if isinstance(person, Student):\n",
    "        person.study()\n",
    "    elif isinstance(person, Teacher):\n",
    "        person.teach()"
   ]
  },
  {
   "cell_type": "markdown",
   "id": "246eacb2",
   "metadata": {},
   "source": [
    "일반적으로 객체 지향 프로그래밍은 모든 데이터를 클래스로 구현한다. 이러한 데이터를 관리할 때 종류별로 리스트를 따로 만들고 활용해야 한다고 생각하는 경우가 많은데, isinstance()함수를 사용하면 이처럼 하나의 리스트로 여러종류의 데이터를 사용할 수 있다."
   ]
  },
  {
   "cell_type": "markdown",
   "id": "52da4f0b",
   "metadata": {},
   "source": [
    "# 클래스 변수와 메소드"
   ]
  },
  {
   "cell_type": "markdown",
   "id": "cd591545",
   "metadata": {},
   "source": [
    "인스턴스가 속성과 기능을 가질 수도 있지만, 클래스가 속성(변수)과 기능(함수)을 가질 수도 있다."
   ]
  },
  {
   "cell_type": "code",
   "execution_count": 13,
   "id": "e23f9b08",
   "metadata": {},
   "outputs": [],
   "source": [
    "# 학생의 수를 세는 클래스\n",
    "class Student:\n",
    "    count = 0\n",
    "    \n",
    "    def __init__(self, name, korean, math, english, science):\n",
    "        # 인스턴스 변수 초기화\n",
    "        self.name = name\n",
    "        self.korean = korean\n",
    "        self.math = math\n",
    "        self.english = english\n",
    "        self.science = science\n",
    "        \n",
    "        #클래스 변수 설정\n",
    "        Student.count += 1\n",
    "        print(f\"{Student.count}번째 학생이 생성되었습니다.\")"
   ]
  },
  {
   "cell_type": "code",
   "execution_count": 14,
   "id": "c546a004",
   "metadata": {},
   "outputs": [
    {
     "name": "stdout",
     "output_type": "stream",
     "text": [
      "1번째 학생이 생성되었습니다.\n",
      "2번째 학생이 생성되었습니다.\n",
      "3번째 학생이 생성되었습니다.\n",
      "\n",
      "현재 생성된 총 학생 수는 3명입니다.\n"
     ]
    }
   ],
   "source": [
    "students = [\n",
    "    Student('윤인성',87,98,88,95),\n",
    "    Student('연하진',92,98,96,98),\n",
    "    Student('구지연',76,96,94,90)\n",
    "]\n",
    "print()\n",
    "print(f\"현재 생성된 총 학생 수는 {Student.count}명입니다.\")"
   ]
  },
  {
   "cell_type": "markdown",
   "id": "fd0ffce1",
   "metadata": {},
   "source": [
    "## 가비지 컬렉터"
   ]
  },
  {
   "cell_type": "markdown",
   "id": "682e5f00",
   "metadata": {},
   "source": [
    "가비지 컬렉터는 더 사용할 가능성이 없는 데이터를 메모리에서 제거하는 역할을 한다. "
   ]
  },
  {
   "cell_type": "markdown",
   "id": "2d1661dc",
   "metadata": {},
   "source": [
    "# 프라이빗 변수"
   ]
  },
  {
   "cell_type": "markdown",
   "id": "372b0fa3",
   "metadata": {},
   "source": [
    " 변수를 마음대로 사용하는 것을 막아야한다.(ex, 양수만 넣어야하는데 음수가들어가는것을 방지)"
   ]
  },
  {
   "cell_type": "markdown",
   "id": "cedc0cd5",
   "metadata": {},
   "source": [
    "클래스 내부의 변수를 외부에서 사용하는것을 막고싶을 때 인스턴스 변수 이름을 __<변수이름> 형태로 선언한다. 이때 언더바는 두개이다."
   ]
  },
  {
   "cell_type": "code",
   "execution_count": 15,
   "id": "b215d7cc",
   "metadata": {},
   "outputs": [],
   "source": [
    "import math\n",
    "class Circle:\n",
    "    def __init__(self, radius):\n",
    "        self.__radius = radius\n",
    "    def get_circumference(self):\n",
    "        return 2*math.pi * self.__radius\n",
    "    def get_area(self):\n",
    "        return math.pi*(self.__radius**2)"
   ]
  },
  {
   "cell_type": "code",
   "execution_count": 17,
   "id": "1391645a",
   "metadata": {},
   "outputs": [
    {
     "name": "stdout",
     "output_type": "stream",
     "text": [
      "#원의 둘레와 넓이를 구합니다.\n",
      "원의 둘레: 62.83185307179586\n",
      "원의 넓이: 314.1592653589793\n",
      "\n"
     ]
    }
   ],
   "source": [
    "cirlce = Circle(10)\n",
    "print('#원의 둘레와 넓이를 구합니다.')\n",
    "print('원의 둘레:',cirlce.get_circumference())\n",
    "print('원의 넓이:',cirlce.get_area())\n",
    "print()"
   ]
  },
  {
   "cell_type": "code",
   "execution_count": null,
   "id": "11633b06",
   "metadata": {},
   "outputs": [],
   "source": []
  }
 ],
 "metadata": {
  "kernelspec": {
   "display_name": "jupyter",
   "language": "python",
   "name": "jupyter"
  },
  "language_info": {
   "codemirror_mode": {
    "name": "ipython",
    "version": 3
   },
   "file_extension": ".py",
   "mimetype": "text/x-python",
   "name": "python",
   "nbconvert_exporter": "python",
   "pygments_lexer": "ipython3",
   "version": "3.10.4"
  },
  "toc": {
   "base_numbering": 1,
   "nav_menu": {},
   "number_sections": true,
   "sideBar": true,
   "skip_h1_title": false,
   "title_cell": "Table of Contents",
   "title_sidebar": "Contents",
   "toc_cell": false,
   "toc_position": {},
   "toc_section_display": true,
   "toc_window_display": false
  }
 },
 "nbformat": 4,
 "nbformat_minor": 5
}
