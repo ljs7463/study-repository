{
 "cells": [
  {
   "cell_type": "code",
   "execution_count": 1,
   "id": "338d0d1f",
   "metadata": {},
   "outputs": [],
   "source": [
    "import pandas as pd\n",
    "import numpy as np"
   ]
  },
  {
   "cell_type": "code",
   "execution_count": 4,
   "id": "d11b20a9",
   "metadata": {},
   "outputs": [
    {
     "name": "stdout",
     "output_type": "stream",
     "text": [
      "이름\t총점\t평균\n",
      "윤인성\t368\t92.0\n",
      "연하진\t384\t96.0\n",
      "구지연\t358\t89.5\n"
     ]
    }
   ],
   "source": [
    "def create_student(name, korean, math, english, science):\n",
    "    return {\n",
    "        'name':name,\n",
    "        'korean':korean,\n",
    "        'math':math,\n",
    "        'english':english,\n",
    "        'science':science\n",
    "    }\n",
    "students = [\n",
    "    create_student('윤인성',87,98,88,95),\n",
    "    create_student('연하진',92,98,96,98),\n",
    "    create_student('구지연',76,96,94,92)    \n",
    "]\n",
    "\n",
    "print('이름','총점','평균',sep ='\\t')\n",
    "for student in students:\n",
    "    score_sum = student['korean'] + student['math'] +\\\n",
    "    student['english'] + student['science']\n",
    "    score_average = score_sum/4\n",
    "    print(student['name'], score_sum, score_average, sep = '\\t')"
   ]
  },
  {
   "cell_type": "markdown",
   "id": "a619d0fa",
   "metadata": {},
   "source": [
    "총점과 평균을 구하는 처리는 학생을 대상으로만 이루어 진다. 따라서 학생을 매개변수로 받는 형태의 함수로 만들면 더 균형잡히지 않을까? "
   ]
  },
  {
   "cell_type": "code",
   "execution_count": 13,
   "id": "a1d34597",
   "metadata": {},
   "outputs": [
    {
     "name": "stdout",
     "output_type": "stream",
     "text": [
      "이름\t총점\t평균\n",
      "윤인성 \t368 \t92.0\n",
      "연하진 \t384 \t96.0\n",
      "구지연 \t358 \t89.5\n"
     ]
    }
   ],
   "source": [
    "def create_student(name, korean, math, english, science):\n",
    "    return {\n",
    "        'name':name,\n",
    "        'korean':korean,\n",
    "        'math':math,\n",
    "        'english':english,\n",
    "        'science':science\n",
    "    }\n",
    "\n",
    "def student_get_sum(student):\n",
    "    return student['korean'] + student['math'] + student['english'] + student['science']\n",
    "\n",
    "def student_get_average(student):\n",
    "    return student_get_sum(student) / 4\n",
    "\n",
    "def student_to_string(student):\n",
    "    return '{} \\t{} \\t{}'.format(student['name'], student_get_sum(student), student_get_average(student))\n",
    "students = [\n",
    "    create_student('윤인성',87,98,88,95),\n",
    "    create_student('연하진',92,98,96,98),\n",
    "    create_student('구지연',76,96,94,92)\n",
    "]\n",
    "\n",
    "print('이름', '총점' ,'평균', sep = '\\t')\n",
    "\n",
    "for student in students:\n",
    "    print(student_to_string(student))\n"
   ]
  },
  {
   "cell_type": "markdown",
   "id": "c97c503b",
   "metadata": {},
   "source": [
    "# 클래스 선언하기"
   ]
  },
  {
   "cell_type": "markdown",
   "id": "219666fd",
   "metadata": {},
   "source": [
    "클래스는 객체를 조금 더 효율적으로 생성하기 위해 만들어진 구문입니다. "
   ]
  },
  {
   "cell_type": "markdown",
   "id": "ee15ac80",
   "metadata": {},
   "source": [
    "- 생성자 : 클래스 이름과 같은 함수를 생성자 라고 부른다."
   ]
  },
  {
   "cell_type": "code",
   "execution_count": 15,
   "id": "dcbd9b9c",
   "metadata": {},
   "outputs": [],
   "source": [
    "class Student:\n",
    "    def __init__(self, name, korean, math, english, science):\n",
    "        self.name = name\n",
    "        self.korean = korean\n",
    "        self.math = math\n",
    "        self.english = english\n",
    "        self.science = science\n",
    "        "
   ]
  },
  {
   "cell_type": "code",
   "execution_count": 19,
   "id": "7d24a0ac",
   "metadata": {},
   "outputs": [
    {
     "data": {
      "text/plain": [
       "95"
      ]
     },
     "execution_count": 19,
     "metadata": {},
     "output_type": "execute_result"
    }
   ],
   "source": [
    "students = [\n",
    "    Student('윤인성',87,98,88,95),\n",
    "    Student('연하진',92,98,96,98),\n",
    "    Student('구지연',76,96,94,92)\n",
    "    \n",
    "]\n",
    "students[0].name\n",
    "students[0].korean\n",
    "students[0].math\n",
    "students[0].english\n",
    "students[0].science"
   ]
  },
  {
   "cell_type": "markdown",
   "id": "ece09629",
   "metadata": {},
   "source": [
    "- 메소드 : 클래스가 가지고 있는 함수를 메소드(method)라고 부른다. 클래스 내부에 메소드를 만들 때 첫번째 매개변수로 self를 넣어야한다."
   ]
  },
  {
   "cell_type": "code",
   "execution_count": 20,
   "id": "873b7f50",
   "metadata": {},
   "outputs": [],
   "source": [
    "class 클래스명:\n",
    "    def 메소드이름(self, 추가적인매개변수):\n",
    "        pass"
   ]
  },
  {
   "cell_type": "code",
   "execution_count": 24,
   "id": "a24daa57",
   "metadata": {},
   "outputs": [],
   "source": [
    "class Student:\n",
    "    def __init__(self, name, korean, math, english, science):\n",
    "        self.name = name\n",
    "        self.korean = korean\n",
    "        self.math = math\n",
    "        self.english = english\n",
    "        self.science = science\n",
    "        \n",
    "    def get_sum(self):\n",
    "        return self.korean + self.math + self.english + self.science\n",
    "    \n",
    "    def get_average(self):\n",
    "        return self.get_sum() / 4\n",
    "    \n",
    "    def to_string(self):\n",
    "        return \"{} \\t{} \\t{}\".format(self.name, self.get_sum(), self.get_average())"
   ]
  },
  {
   "cell_type": "code",
   "execution_count": 25,
   "id": "3a65cdab",
   "metadata": {},
   "outputs": [
    {
     "name": "stdout",
     "output_type": "stream",
     "text": [
      "이름\t총점\t평균\n",
      "윤인성 \t368 \t92.0\n",
      "연하진 \t384 \t96.0\n",
      "구지연 \t358 \t89.5\n"
     ]
    }
   ],
   "source": [
    "students = [\n",
    "    Student('윤인성',87,98,88,95),\n",
    "    Student('연하진',92,98,96,98),\n",
    "    Student('구지연',76,96,94,92)\n",
    "]\n",
    "\n",
    "print('이름','총점','평균',sep = '\\t')\n",
    "for student in students:\n",
    "    print(student.to_string())"
   ]
  }
 ],
 "metadata": {
  "kernelspec": {
   "display_name": "jupyter",
   "language": "python",
   "name": "jupyter"
  },
  "language_info": {
   "codemirror_mode": {
    "name": "ipython",
    "version": 3
   },
   "file_extension": ".py",
   "mimetype": "text/x-python",
   "name": "python",
   "nbconvert_exporter": "python",
   "pygments_lexer": "ipython3",
   "version": "3.10.4"
  },
  "toc": {
   "base_numbering": 1,
   "nav_menu": {},
   "number_sections": true,
   "sideBar": true,
   "skip_h1_title": false,
   "title_cell": "Table of Contents",
   "title_sidebar": "Contents",
   "toc_cell": false,
   "toc_position": {},
   "toc_section_display": true,
   "toc_window_display": false
  }
 },
 "nbformat": 4,
 "nbformat_minor": 5
}
