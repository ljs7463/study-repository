{
 "cells": [
  {
   "cell_type": "code",
   "execution_count": 2,
   "id": "bafefb80",
   "metadata": {},
   "outputs": [],
   "source": [
    "import pandas as pd"
   ]
  },
  {
   "cell_type": "code",
   "execution_count": 3,
   "id": "119e65f4",
   "metadata": {},
   "outputs": [
    {
     "name": "stdout",
     "output_type": "stream",
     "text": [
      "Parent 클래스의 __init()__ 메소드가 호출되었습니다.\n",
      "Child 클래스의 __init()__메소드가 호출되었습니다.\n",
      "Parent 클래스의 test()메소드 입니다.\n",
      "테스트\n"
     ]
    }
   ],
   "source": [
    "# 부모 클래스를 선언합니다.\n",
    "class Parent:\n",
    "    def __init__(self):\n",
    "        self.value = '테스트'\n",
    "        print('Parent 클래스의 __init()__ 메소드가 호출되었습니다.')\n",
    "    def test(self):\n",
    "        print('Parent 클래스의 test()메소드 입니다.')\n",
    "        \n",
    "# 자식 클래스를 선언합니다.\n",
    "class Child(Parent):\n",
    "    def __init__(self):\n",
    "        Parent.__init__(self)\n",
    "        print('Child 클래스의 __init()__메소드가 호출되었습니다.')\n",
    "        \n",
    "# 자식 클래스의 인스턴스를 생성하고 부모의 메소드를 호출합니다.\n",
    "child = Child()\n",
    "child.test()\n",
    "print(child.value)\n"
   ]
  }
 ],
 "metadata": {
  "kernelspec": {
   "display_name": "jupyter",
   "language": "python",
   "name": "jupyter"
  },
  "language_info": {
   "codemirror_mode": {
    "name": "ipython",
    "version": 3
   },
   "file_extension": ".py",
   "mimetype": "text/x-python",
   "name": "python",
   "nbconvert_exporter": "python",
   "pygments_lexer": "ipython3",
   "version": "3.10.4"
  },
  "toc": {
   "base_numbering": 1,
   "nav_menu": {},
   "number_sections": true,
   "sideBar": true,
   "skip_h1_title": false,
   "title_cell": "Table of Contents",
   "title_sidebar": "Contents",
   "toc_cell": false,
   "toc_position": {},
   "toc_section_display": true,
   "toc_window_display": false
  }
 },
 "nbformat": 4,
 "nbformat_minor": 5
}
