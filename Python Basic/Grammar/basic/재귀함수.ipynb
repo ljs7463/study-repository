{
 "cells": [
  {
   "cell_type": "code",
   "execution_count": 1,
   "id": "5e277d05",
   "metadata": {},
   "outputs": [],
   "source": [
    "# 반복문으로 팩토리얼 구하기\n",
    "def factorial1(n):\n",
    "    output = 1\n",
    "    \n",
    "    for i in range(1, n+1):\n",
    "        output *= i\n",
    "        \n",
    "    return output"
   ]
  },
  {
   "cell_type": "code",
   "execution_count": 2,
   "id": "9d73207c",
   "metadata": {},
   "outputs": [
    {
     "data": {
      "text/plain": [
       "2"
      ]
     },
     "execution_count": 2,
     "metadata": {},
     "output_type": "execute_result"
    }
   ],
   "source": [
    "factorial1(2)"
   ]
  },
  {
   "cell_type": "code",
   "execution_count": 3,
   "id": "918007ed",
   "metadata": {},
   "outputs": [],
   "source": [
    "# 재귀함수를 사용하여 팩토리얼 구하기\n",
    "def factorial2(n):\n",
    "    # n이 0이라면 1을 리턴\n",
    "    if n == 0:\n",
    "        return 1\n",
    "    else:\n",
    "        return n * factorial2(n-1)"
   ]
  },
  {
   "cell_type": "code",
   "execution_count": 4,
   "id": "50480783",
   "metadata": {},
   "outputs": [
    {
     "data": {
      "text/plain": [
       "2"
      ]
     },
     "execution_count": 4,
     "metadata": {},
     "output_type": "execute_result"
    }
   ],
   "source": [
    "factorial2(2)"
   ]
  },
  {
   "cell_type": "code",
   "execution_count": 11,
   "id": "5fef8408",
   "metadata": {},
   "outputs": [],
   "source": [
    "# 재귀함수를 사용하여 피보나치 수열 구현하기\n",
    "def fibonacci(n):\n",
    "    if n ==1:\n",
    "        return 1\n",
    "    elif n ==2 :\n",
    "        return 1\n",
    "    else:\n",
    "        return fibonacci(n-1) + fibonacci(n-2) "
   ]
  },
  {
   "cell_type": "code",
   "execution_count": 13,
   "id": "1c4009f9",
   "metadata": {},
   "outputs": [
    {
     "data": {
      "text/plain": [
       "5"
      ]
     },
     "execution_count": 13,
     "metadata": {},
     "output_type": "execute_result"
    }
   ],
   "source": [
    "temp(5)"
   ]
  },
  {
   "cell_type": "markdown",
   "id": "fe9433c7",
   "metadata": {},
   "source": [
    "재귀함수를 통해 피보나치 수열을 계산하기위해서는 똑같은 연산을 계속해서 반복해야하기 때문에 시간이 오래걸린다 이를 해결하기 위해 메모화를 사용한다."
   ]
  },
  {
   "cell_type": "code",
   "execution_count": 14,
   "id": "870dc753",
   "metadata": {},
   "outputs": [],
   "source": [
    "# 메모화\n",
    "dictionary = {\n",
    "    1:1,\n",
    "    2:1\n",
    "}\n",
    "\n",
    "def fibonacci(n):\n",
    "    if n in dictionary:\n",
    "        return dictionary[n]\n",
    "    else:\n",
    "        output = fibonacci(n-1) + fibonacci(n-2)\n",
    "        dictionary[n] = output\n",
    "        return output"
   ]
  },
  {
   "cell_type": "code",
   "execution_count": 17,
   "id": "69ede332",
   "metadata": {},
   "outputs": [
    {
     "data": {
      "text/plain": [
       "12586269025"
      ]
     },
     "execution_count": 17,
     "metadata": {},
     "output_type": "execute_result"
    }
   ],
   "source": [
    "fibonacci(50)"
   ]
  }
 ],
 "metadata": {
  "kernelspec": {
   "display_name": "Python 3 (ipykernel)",
   "language": "python",
   "name": "python3"
  },
  "language_info": {
   "codemirror_mode": {
    "name": "ipython",
    "version": 3
   },
   "file_extension": ".py",
   "mimetype": "text/x-python",
   "name": "python",
   "nbconvert_exporter": "python",
   "pygments_lexer": "ipython3",
   "version": "3.8.2"
  },
  "toc": {
   "base_numbering": 1,
   "nav_menu": {},
   "number_sections": true,
   "sideBar": true,
   "skip_h1_title": false,
   "title_cell": "Table of Contents",
   "title_sidebar": "Contents",
   "toc_cell": false,
   "toc_position": {},
   "toc_section_display": true,
   "toc_window_display": false
  }
 },
 "nbformat": 4,
 "nbformat_minor": 5
}
