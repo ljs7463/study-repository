{
 "cells": [
  {
   "cell_type": "code",
   "execution_count": 1,
   "id": "5e68831b",
   "metadata": {},
   "outputs": [],
   "source": [
    "# 함수 데코레이터, 클래스 데코레이터 \n",
    "# 함수 데코레이터"
   ]
  },
  {
   "cell_type": "code",
   "execution_count": 2,
   "id": "49c3af32",
   "metadata": {},
   "outputs": [],
   "source": [
    "def decofunc(func):\n",
    "    def wrapper(*args, **kwargs):\n",
    "        print('my pre-process')\n",
    "        print(func(*args, **kwargs))\n",
    "        print('my post-process')\n",
    "    return wrapper"
   ]
  },
  {
   "cell_type": "code",
   "execution_count": 3,
   "id": "fb161186",
   "metadata": {},
   "outputs": [],
   "source": [
    "@decofunc\n",
    "def demo():\n",
    "    print(\"i'm demo\")"
   ]
  },
  {
   "cell_type": "code",
   "execution_count": 4,
   "id": "1c730f5f",
   "metadata": {},
   "outputs": [
    {
     "name": "stdout",
     "output_type": "stream",
     "text": [
      "my pre-process\n",
      "i'm demo\n",
      "None\n",
      "my post-process\n"
     ]
    }
   ],
   "source": [
    "demo()"
   ]
  },
  {
   "cell_type": "code",
   "execution_count": null,
   "id": "74cefd11",
   "metadata": {},
   "outputs": [],
   "source": []
  }
 ],
 "metadata": {
  "kernelspec": {
   "display_name": "Python 3 (ipykernel)",
   "language": "python",
   "name": "python3"
  },
  "language_info": {
   "codemirror_mode": {
    "name": "ipython",
    "version": 3
   },
   "file_extension": ".py",
   "mimetype": "text/x-python",
   "name": "python",
   "nbconvert_exporter": "python",
   "pygments_lexer": "ipython3",
   "version": "3.8.2"
  },
  "toc": {
   "base_numbering": 1,
   "nav_menu": {},
   "number_sections": true,
   "sideBar": true,
   "skip_h1_title": false,
   "title_cell": "Table of Contents",
   "title_sidebar": "Contents",
   "toc_cell": false,
   "toc_position": {},
   "toc_section_display": true,
   "toc_window_display": false
  }
 },
 "nbformat": 4,
 "nbformat_minor": 5
}
