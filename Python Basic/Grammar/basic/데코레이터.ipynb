{
 "cells": [
  {
   "cell_type": "markdown",
   "id": "c605ff7d",
   "metadata": {},
   "source": [
    "# 데코레이터(함수)"
   ]
  },
  {
   "cell_type": "code",
   "execution_count": 1,
   "id": "5e68831b",
   "metadata": {},
   "outputs": [],
   "source": [
<<<<<<< HEAD
    "def decofunc(func):\n",
    "    def wrapper(*args, **kwargs):\n",
    "        print('my pre-process')\n",
    "        print(func(*args, **kwargs))\n",
    "        print('my post-process')\n",
    "    return wrapper"
   ]
  },
  {
   "cell_type": "code",
   "execution_count": 2,
   "id": "437edeee",
   "metadata": {},
   "outputs": [],
   "source": [
    "@decofunc\n",
    "def demo():\n",
    "    print(\"i'm demo\")"
   ]
  },
  {
   "cell_type": "code",
   "execution_count": 3,
   "id": "b87a2724",
   "metadata": {},
   "outputs": [
    {
     "name": "stdout",
     "output_type": "stream",
     "text": [
      "my pre-process\n",
      "i'm demo\n",
      "None\n",
      "my post-process\n"
     ]
    }
   ],
   "source": [
    "demo()"
   ]
  },
  {
   "cell_type": "code",
   "execution_count": 4,
   "id": "658f8f55",
   "metadata": {},
   "outputs": [],
   "source": [
    "def decoarg(arg):\n",
    "    print(f\"decoarg: {arg}\")\n",
    "    def decofunc(func):\n",
    "        def wrapper(*args, **kwargs):\n",
    "            print(f\"wrapper: {arg}\")\n",
    "            decovalue = func(*args, **kwargs)\n",
    "            print(decovalue*5)\n",
    "        return wrapper\n",
    "    return decofunc"
   ]
  },
  {
   "cell_type": "code",
   "execution_count": 5,
   "id": "9a891567",
   "metadata": {},
   "outputs": [
    {
     "name": "stdout",
     "output_type": "stream",
     "text": [
      "decoarg: deco arg\n"
     ]
    }
   ],
   "source": [
    "@decoarg('deco arg')\n",
    "def demo(arg1):\n",
    "    return arg1"
   ]
  },
  {
   "cell_type": "code",
   "execution_count": 6,
   "id": "fa98efde",
   "metadata": {},
   "outputs": [
    {
     "name": "stdout",
     "output_type": "stream",
     "text": [
      "wrapper: deco arg\n",
      "15\n"
     ]
    }
   ],
   "source": [
    "demo(3)"
   ]
  },
  {
   "cell_type": "markdown",
   "id": "daf1b043",
   "metadata": {},
   "source": [
    "# 데코레이터(클래스)"
   ]
  },
  {
   "cell_type": "code",
   "execution_count": 10,
   "id": "2aedfbdb",
   "metadata": {},
   "outputs": [],
   "source": [
    "class DecoClass:\n",
    "    def __init__(self, func ):\n",
    "        self.func = func\n",
    "    def __call__(self, *args, **kwargs):\n",
    "        print('my pre-process')\n",
    "        print(self.func(*args, **kwargs))\n",
    "        print('my post-process')"
   ]
  },
  {
   "cell_type": "code",
   "execution_count": 11,
   "id": "cdb1a780",
   "metadata": {},
   "outputs": [],
   "source": [
    "@DecoClass\n",
    "def demo():\n",
    "    return \"i'm demo\""
   ]
  },
  {
   "cell_type": "code",
   "execution_count": 12,
   "id": "be76ee59",
   "metadata": {},
   "outputs": [
    {
     "name": "stdout",
     "output_type": "stream",
     "text": [
      "my pre-process\n",
      "i'm demo\n",
      "my post-process\n"
     ]
    }
   ],
   "source": [
    "demo()"
   ]
  },
  {
   "cell_type": "code",
   "execution_count": 14,
   "id": "3b9c197a",
   "metadata": {},
   "outputs": [],
   "source": [
    "class DecoClass:\n",
    "    def __init__(self, arg):\n",
    "        self.arg = arg\n",
    "    def __call__(self, func, *args, **kwargs):\n",
    "        def wrapper(*args):\n",
    "            print(f\"wrapper: {self.arg}\")\n",
    "            decovalue = func(*args)\n",
    "            print(decovalue*5)\n",
    "        return wrapper"
   ]
  },
  {
   "cell_type": "code",
   "execution_count": 17,
   "id": "8608cdbd",
   "metadata": {},
   "outputs": [],
   "source": [
    "@DecoClass('deco arg')\n",
    "def demo(val):\n",
    "    return val+10\n"
   ]
  },
  {
   "cell_type": "code",
   "execution_count": 18,
   "id": "de591ca8",
   "metadata": {},
   "outputs": [
    {
     "name": "stdout",
     "output_type": "stream",
     "text": [
      "wrapper: deco arg\n",
      "60\n"
     ]
    }
   ],
   "source": [
    "demo(2)"
=======
    "# 함수 데코레이터, 클래스 데코레이터 \n",
    "# 함수 데코레이터"
>>>>>>> 57651981790419a8824c05244d5849c25cf23234
   ]
  },
  {
   "cell_type": "code",
   "execution_count": 2,
   "id": "49c3af32",
   "metadata": {},
   "outputs": [],
   "source": [
    "def decofunc(func):\n",
    "    def wrapper(*args, **kwargs):\n",
    "        print('my pre-process')\n",
    "        print(func(*args, **kwargs))\n",
    "        print('my post-process')\n",
    "    return wrapper"
   ]
  },
  {
   "cell_type": "code",
   "execution_count": 3,
   "id": "fb161186",
   "metadata": {},
   "outputs": [],
   "source": [
    "@decofunc\n",
    "def demo():\n",
    "    print(\"i'm demo\")"
   ]
  },
  {
   "cell_type": "code",
   "execution_count": 4,
   "id": "1c730f5f",
   "metadata": {},
   "outputs": [
    {
     "name": "stdout",
     "output_type": "stream",
     "text": [
      "my pre-process\n",
      "i'm demo\n",
      "None\n",
      "my post-process\n"
     ]
    }
   ],
   "source": [
    "demo()"
   ]
  },
  {
   "cell_type": "code",
   "execution_count": null,
   "id": "74cefd11",
   "metadata": {},
   "outputs": [],
   "source": []
  }
 ],
 "metadata": {
  "kernelspec": {
   "display_name": "Python 3 (ipykernel)",
   "language": "python",
   "name": "python3"
  },
  "language_info": {
   "codemirror_mode": {
    "name": "ipython",
    "version": 3
   },
   "file_extension": ".py",
   "mimetype": "text/x-python",
   "name": "python",
   "nbconvert_exporter": "python",
   "pygments_lexer": "ipython3",
   "version": "3.8.2"
  },
  "toc": {
   "base_numbering": 1,
   "nav_menu": {},
   "number_sections": true,
   "sideBar": true,
   "skip_h1_title": false,
   "title_cell": "Table of Contents",
   "title_sidebar": "Contents",
   "toc_cell": false,
   "toc_position": {},
   "toc_section_display": true,
   "toc_window_display": false
  }
 },
 "nbformat": 4,
 "nbformat_minor": 5
}
