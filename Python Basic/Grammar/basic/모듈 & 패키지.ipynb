{
 "cells": [
  {
   "cell_type": "markdown",
   "id": "93e30e9e",
   "metadata": {},
   "source": [
    "## 모듈"
   ]
  },
  {
   "cell_type": "code",
   "execution_count": 2,
   "id": "2730e13d",
   "metadata": {},
   "outputs": [
    {
     "data": {
      "text/plain": [
       "'__main__'"
      ]
     },
     "execution_count": 2,
     "metadata": {},
     "output_type": "execute_result"
    }
   ],
   "source": [
    "__name__"
   ]
  },
  {
   "cell_type": "markdown",
   "id": "476300f2",
   "metadata": {},
   "source": [
    "프로그램의 진입점을 \"엔트리 포인트\" 또는 \"메인\" 이라고 부른다, 그리고 이러한 엔트리 포인트 또는 메인 내부에서의 __name__은 \"__main__\"이다.\n",
    "\n",
    "모듈을 import해서 가져온 경우 __name__은 \"을 출력한다.\n",
    "\n",
    "만약에 코드에서 if __name__ == \"__main__\":  이러한 조건문이 있다면, 엔트리 포인트에서 실행한 경우 어떤 조건에 맞는 행위를 하겠다는 뜻이다."
   ]
  },
  {
   "cell_type": "markdown",
   "id": "525cb5f0",
   "metadata": {},
   "source": [
    "## 패키지"
   ]
  },
  {
   "cell_type": "markdown",
   "id": "4b630d90",
   "metadata": {},
   "source": [
    "- 모듈이 모여서 구조를 이루면 패키지라고 부른다\n",
    "- 즉, 폴더하나에 한개이상의 .py들을 구조화 시킨다면 이것을 패키지라고 부를 수 있다."
   ]
  },
  {
   "cell_type": "code",
   "execution_count": null,
   "id": "4d83d50a",
   "metadata": {},
   "outputs": [],
   "source": []
  }
 ],
 "metadata": {
  "kernelspec": {
   "display_name": "jupyter",
   "language": "python",
   "name": "jupyter"
  },
  "language_info": {
   "codemirror_mode": {
    "name": "ipython",
    "version": 3
   },
   "file_extension": ".py",
   "mimetype": "text/x-python",
   "name": "python",
   "nbconvert_exporter": "python",
   "pygments_lexer": "ipython3",
   "version": "3.10.4"
  },
  "toc": {
   "base_numbering": 1,
   "nav_menu": {},
   "number_sections": true,
   "sideBar": true,
   "skip_h1_title": false,
   "title_cell": "Table of Contents",
   "title_sidebar": "Contents",
   "toc_cell": false,
   "toc_position": {},
   "toc_section_display": true,
   "toc_window_display": false
  }
 },
 "nbformat": 4,
 "nbformat_minor": 5
}
