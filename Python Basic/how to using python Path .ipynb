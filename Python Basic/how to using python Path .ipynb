{
 "cells": [
  {
   "cell_type": "markdown",
   "id": "b5ef2ca7",
   "metadata": {},
   "source": [
    "### sys"
   ]
  },
  {
   "cell_type": "code",
   "execution_count": 2,
   "id": "7eedf427",
   "metadata": {},
   "outputs": [
    {
     "data": {
      "text/plain": [
       "['C:\\\\github\\\\study-repository\\\\Python Basic',\n",
       " 'C:\\\\Users\\\\jeongseokLim\\\\anaconda3\\\\envs\\\\aide\\\\python38.zip',\n",
       " 'C:\\\\Users\\\\jeongseokLim\\\\anaconda3\\\\envs\\\\aide\\\\DLLs',\n",
       " 'C:\\\\Users\\\\jeongseokLim\\\\anaconda3\\\\envs\\\\aide\\\\lib',\n",
       " 'C:\\\\Users\\\\jeongseokLim\\\\anaconda3\\\\envs\\\\aide',\n",
       " '',\n",
       " 'C:\\\\Users\\\\jeongseokLim\\\\anaconda3\\\\envs\\\\aide\\\\lib\\\\site-packages',\n",
       " 'C:\\\\Users\\\\jeongseokLim\\\\anaconda3\\\\envs\\\\aide\\\\lib\\\\site-packages\\\\win32',\n",
       " 'C:\\\\Users\\\\jeongseokLim\\\\anaconda3\\\\envs\\\\aide\\\\lib\\\\site-packages\\\\win32\\\\lib',\n",
       " 'C:\\\\Users\\\\jeongseokLim\\\\anaconda3\\\\envs\\\\aide\\\\lib\\\\site-packages\\\\Pythonwin',\n",
       " 'C:\\\\Users\\\\jeongseokLim\\\\anaconda3\\\\envs\\\\aide\\\\lib\\\\site-packages\\\\IPython\\\\extensions',\n",
       " 'C:\\\\Users\\\\jeongseokLim\\\\.ipython']"
      ]
     },
     "execution_count": 2,
     "metadata": {},
     "output_type": "execute_result"
    }
   ],
   "source": [
    "# 자신이 만든 모듈 불러와서 사용할때 \n",
    "import sys\n",
    "#sys.path 는 파이썬 모듈들이 저장된 위치를 나타내며 이 위치에 있는 파이썬 모듈들은 자유롭게 불러올 수 있다. \n",
    "sys.path"
   ]
  },
  {
   "cell_type": "code",
   "execution_count": 3,
   "id": "2c2eaba7",
   "metadata": {},
   "outputs": [],
   "source": [
    "# 다른경로를 추가하고 싶을때는 append를 통해 추가해 준다. \n",
    "path = \"C:\\github/aide-analysis/\"\n",
    "sys.path.append(path)"
   ]
  }
 ],
 "metadata": {
  "kernelspec": {
   "display_name": "aide",
   "language": "python",
   "name": "aide"
  },
  "language_info": {
   "codemirror_mode": {
    "name": "ipython",
    "version": 3
   },
   "file_extension": ".py",
   "mimetype": "text/x-python",
   "name": "python",
   "nbconvert_exporter": "python",
   "pygments_lexer": "ipython3",
   "version": "3.8.12"
  }
 },
 "nbformat": 4,
 "nbformat_minor": 5
}
