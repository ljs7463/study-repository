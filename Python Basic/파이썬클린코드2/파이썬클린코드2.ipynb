{
 "cells": [
  {
   "cell_type": "markdown",
   "id": "1c0b6daf",
   "metadata": {},
   "source": [
    "# docstring\n",
    "\n",
    "소스코드에 포함된 문서(Documentation)"
   ]
  },
  {
   "cell_type": "code",
   "execution_count": 1,
   "id": "44c0d260",
   "metadata": {},
   "outputs": [],
   "source": [
    "def my_function(firstNum : int, secondNum : int):\n",
    "    \"\"\"두개의 숫자를 입력받아 곱해주는 함수이다.\n",
    "    \"\"\"\n",
    "    return firstNum * secondNum"
   ]
  },
  {
   "cell_type": "code",
   "execution_count": 2,
   "id": "daebc363",
   "metadata": {},
   "outputs": [
    {
     "name": "stdout",
     "output_type": "stream",
     "text": [
      "Help on function my_function in module __main__:\n",
      "\n",
      "my_function(firstNum: int, secondNum: int)\n",
      "    두개의 숫자를 입력받아 곱해주는 함수이다.\n",
      "\n"
     ]
    }
   ],
   "source": [
    "help(my_function)"
   ]
  },
  {
   "cell_type": "code",
   "execution_count": 3,
   "id": "794b3209",
   "metadata": {},
   "outputs": [
    {
     "data": {
      "text/plain": [
       "6"
      ]
     },
     "execution_count": 3,
     "metadata": {},
     "output_type": "execute_result"
    }
   ],
   "source": [
    "my_function(2,3)"
   ]
  },
  {
   "cell_type": "code",
   "execution_count": 20,
   "id": "3ea2b502",
   "metadata": {},
   "outputs": [],
   "source": [
    "def locate(latitude:float, longitude:float)->str:\n",
    "    \"\"\"맵에서 좌표에 해당하는 객체를 검사한다.\"\"\"\n",
    "    return latitude + longitude"
   ]
  },
  {
   "cell_type": "code",
   "execution_count": 25,
   "id": "b9496e20",
   "metadata": {},
   "outputs": [
    {
     "data": {
      "text/plain": [
       "{'latitude': float, 'longitude': float, 'return': str}"
      ]
     },
     "execution_count": 25,
     "metadata": {},
     "output_type": "execute_result"
    }
   ],
   "source": [
    "locate.__annotations__"
   ]
  },
  {
   "cell_type": "markdown",
   "id": "1430662e",
   "metadata": {},
   "source": [
    "# mypy"
   ]
  },
  {
   "cell_type": "code",
   "execution_count": 1,
   "id": "9092ca64",
   "metadata": {},
   "outputs": [],
   "source": [
    "def my_function(firstNum, secondNum):\n",
    "    \"\"\"두개의 숫자를 입력받아 곱해주는 함수이다.\"\"\"\n",
    "    return firtsNum * secondNum"
   ]
  },
  {
   "cell_type": "markdown",
   "id": "acc66bc8",
   "metadata": {},
   "source": [
    "# 컨텍스트 관리자"
   ]
  },
  {
   "cell_type": "code",
   "execution_count": null,
   "id": "9d60a3ff",
   "metadata": {},
   "outputs": [],
   "source": [
    "def stop_database():\n",
    "    run(\"systemctl stop postgresql.service\")\n",
    "    \n",
    "def start_database():\n",
    "    run(\"systemctl start postgresql.service\")\n",
    "    \n",
    "class DBHandler:\n",
    "    def __enter__(self):\n",
    "        stop_database()\n",
    "        return self\n",
    "    \n",
    "    def __exit__(self, exc_type, ex_value, ex_traceback):\n",
    "        start_database()\n",
    "        \n",
    "    def db_backup():\n",
    "        run(\"pg_dump database\")\n",
    "        \n",
    "    def main():\n",
    "        with DBHandler():\n",
    "            db_backup()\n",
    "        "
   ]
  },
  {
   "cell_type": "markdown",
   "id": "68253af7",
   "metadata": {},
   "source": [
    "# 리스트컨프리헨션"
   ]
  },
  {
   "cell_type": "code",
   "execution_count": 2,
   "id": "2eca9ca1",
   "metadata": {},
   "outputs": [],
   "source": [
    "from typing import Iterable, Set\n",
    "\n",
    "def collect_account_ids_from_arns(arns: Iterable[str]) -> Set[str]:\n",
    "    \"\"\"rn : partition : service : region : account-id : resource-id 형태의\n",
    "    ARN들이 주어진 경우 고유한 계정 ID(account-id)를 찾아서 반환\n",
    "    \"\"\"\n",
    "    collected_account_ids = set()\n",
    "    for arn in arns:\n",
    "        matched = re.match(ARN_REGEX, arn)\n",
    "        if matched is not None:\n",
    "            account_id = matched.groupdict()[\"account_id\"]\n",
    "            collected_account_ids.add(account_id)\n",
    "    return collected_account_ids"
   ]
  },
  {
   "cell_type": "markdown",
   "id": "39a1bba8",
   "metadata": {},
   "source": [
    "# 프로퍼티"
   ]
  },
  {
   "cell_type": "code",
   "execution_count": 1,
   "id": "7ce1792c",
   "metadata": {},
   "outputs": [],
   "source": [
    "class Connector:\n",
    "    def __init__(self, source):\n",
    "        self.source = source \n",
    "        self._timeout = 60"
   ]
  },
  {
   "cell_type": "markdown",
   "id": "77e0e6d6",
   "metadata": {},
   "source": [
    "# 데코레이터 "
   ]
  },
  {
   "cell_type": "markdown",
   "id": "fd8a81f4",
   "metadata": {},
   "source": [
    "## 함수"
   ]
  },
  {
   "cell_type": "code",
   "execution_count": 9,
   "id": "118ab0ac",
   "metadata": {},
   "outputs": [],
   "source": [
    "# 도메인의 특정 예외에 대해서 특정 횟수만큼 재시도하는 데코레이터를 만들어 볼 수 있다.\n",
    "class ControlledException(Exception):\n",
    "    \n",
    "    \"\"\"도메인- 일반적인 예외\"\"\"\n",
    "    \n",
    "    def retry(operation):\n",
    "        \n",
    "        @wraps(operation)\n",
    "        def wrapped(*args, **kwargs):\n",
    "            \n",
    "            last_raised = None\n",
    "            # 시도 횟수\n",
    "            RETRIES_LIMIT = 3\n",
    "            for _ in range(RETRIES_LIMIT):\n",
    "                \n",
    "                try:\n",
    "                    return operation(*args, **kwargs)\n",
    "                \n",
    "                except ControlledException as e:\n",
    "                    logger.info(\"%s 재시도\",operation.__qualname__)\n",
    "                    last_raised = e\n",
    "        \n",
    "            raise last_raised\n",
    "        \n",
    "        return wrapped      \n"
   ]
  },
  {
   "cell_type": "code",
   "execution_count": 10,
   "id": "acd52277",
   "metadata": {},
   "outputs": [],
   "source": [
    "@retry\n",
    "def run_operation(task):\n",
    "    \"\"\"실행중 예외가 발생할 것으로 예상되는 특정 작업을 실행\"\"\"\n",
    "    return task.run()"
   ]
  },
  {
   "cell_type": "markdown",
   "id": "2b607b0a",
   "metadata": {},
   "source": [
    "## 클래스"
   ]
  },
  {
   "cell_type": "code",
   "execution_count": 4,
   "id": "d69d9ab6",
   "metadata": {},
   "outputs": [],
   "source": [
    "from dataclasses import dataclass\n",
    "from datetime import date\n",
    "\n",
    "class LoginEventSerializer:\n",
    "    def __init__(self, event):\n",
    "        self.event = event\n",
    "    def serialize(self) -> dict:\n",
    "        return {\n",
    "            \"username\":self.event.username,\n",
    "            \"password\":\"**민감한 정보 삭제\",\n",
    "            \"ip\":self.event.ip,\n",
    "            \"timestamp\":self.event.timestamp.strftime('%Y-%m-%d %H:%m'),  \n",
    "        }\n",
    "@dataclass\n",
    "class LoginEvent:\n",
    "    SERIALIZER = LoginEventSerializer\n",
    "    \n",
    "    username : str\n",
    "    password : str\n",
    "    ip : str\n",
    "    timestamp : str#(원래는 datetime으로해야함)\n",
    "    \n",
    "    def serialize(self) -> dict:\n",
    "        return self.SERIALIZER(self).serialize()"
   ]
  },
  {
   "cell_type": "markdown",
   "id": "f8bdaad2",
   "metadata": {},
   "source": [
    "위의 클래스를 아래처럼 변환"
   ]
  },
  {
   "cell_type": "code",
   "execution_count": null,
   "id": "ecde4577",
   "metadata": {},
   "outputs": [],
   "source": [
    "from datetime import datetime\n",
    "\n",
    "def hide_field(field)-> str:\n",
    "    return \"**민감한 정보 삭제**\"\n",
    "\n",
    "def format_time(field_timestamp: datetime)-> str:\n",
    "    return field_timestamp.strftime('%Y-%m-%d %H:%M')\n",
    "\n",
    "def show_original(event_field):\n",
    "    return event_field\n",
    "\n",
    "class EventSerializer:\n",
    "    def __init__(self, serialization_fields: dict) -> None:\n",
    "        self.serialization_fields = serialization_fields\n",
    "    def serialize(self, event)-> dict:\n",
    "        return {\n",
    "            field : transformation(getattr(event, field))\n",
    "            for field, transformation\n",
    "            in self.serialization_fields.items()\n",
    "        }\n",
    "class Serialization:\n",
    "    def __init__(self, **transformations):\n",
    "        self.serialize"
   ]
  },
  {
   "cell_type": "markdown",
   "id": "eb617930",
   "metadata": {},
   "source": [
    "# 프로퍼티"
   ]
  },
  {
   "cell_type": "code",
   "execution_count": 4,
   "id": "a4b1c147",
   "metadata": {},
   "outputs": [
    {
     "name": "stdout",
     "output_type": "stream",
     "text": [
      "나이를 리턴합니다.\n",
      "20\n",
      "나이를 새로 설정합니다.\n",
      "나이를 리턴합니다.\n",
      "25\n"
     ]
    }
   ],
   "source": [
    "class Citizen:\n",
    "    def __init__(self, age_value):\n",
    "        self._age = age_value\n",
    "\n",
    "    def get_age(self):\n",
    "        print(\"나이를 리턴합니다.\")\n",
    "        return self._age\n",
    "\n",
    "    def set_age(self, age_value):\n",
    "        print(\"나이를 새로 설정합니다.\")\n",
    "        self._age = age_value\n",
    "\n",
    "\n",
    "citizen = Citizen(20)\n",
    "print(citizen.get_age())\n",
    "citizen.set_age(25)\n",
    "print(citizen.get_age())\n"
   ]
  },
  {
   "cell_type": "code",
   "execution_count": 6,
   "id": "bb4cd8fa",
   "metadata": {},
   "outputs": [],
   "source": [
    "class Citizen:\n",
    "    def __init__(self, age_value):\n",
    "        self.age = age_value\n",
    "\n",
    "    @property\n",
    "    def age(self):\n",
    "        print(\"나이를 리턴합니다.\")\n",
    "        return self._age\n",
    "\n",
    "    @age.setter\n",
    "    def age(self, age_value):\n",
    "        print(\"나이를 새로 설정합니다.\")\n",
    "        self._age = age_value"
   ]
  },
  {
   "cell_type": "code",
   "execution_count": null,
   "id": "6de24b5c",
   "metadata": {},
   "outputs": [],
   "source": []
  },
  {
   "cell_type": "code",
   "execution_count": null,
   "id": "c9ccef38",
   "metadata": {},
   "outputs": [],
   "source": []
  },
  {
   "cell_type": "code",
   "execution_count": null,
   "id": "c92b2ab7",
   "metadata": {},
   "outputs": [],
   "source": []
  },
  {
   "cell_type": "code",
   "execution_count": null,
   "id": "dc333221",
   "metadata": {},
   "outputs": [],
   "source": []
  },
  {
   "cell_type": "code",
   "execution_count": null,
   "id": "007e3c5f",
   "metadata": {},
   "outputs": [],
   "source": []
  },
  {
   "cell_type": "code",
   "execution_count": null,
   "id": "66551727",
   "metadata": {},
   "outputs": [],
   "source": []
  }
 ],
 "metadata": {
  "kernelspec": {
   "display_name": "jupyter",
   "language": "python",
   "name": "jupyter"
  },
  "language_info": {
   "codemirror_mode": {
    "name": "ipython",
    "version": 3
   },
   "file_extension": ".py",
   "mimetype": "text/x-python",
   "name": "python",
   "nbconvert_exporter": "python",
   "pygments_lexer": "ipython3",
   "version": "3.10.4"
  },
  "toc": {
   "base_numbering": 1,
   "nav_menu": {},
   "number_sections": true,
   "sideBar": true,
   "skip_h1_title": false,
   "title_cell": "Table of Contents",
   "title_sidebar": "Contents",
   "toc_cell": false,
   "toc_position": {},
   "toc_section_display": true,
   "toc_window_display": false
  }
 },
 "nbformat": 4,
 "nbformat_minor": 5
}
