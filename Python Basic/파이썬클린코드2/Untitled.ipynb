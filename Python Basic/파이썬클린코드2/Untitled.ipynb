{
 "cells": [
  {
   "cell_type": "markdown",
   "id": "1c0b6daf",
   "metadata": {},
   "source": [
    "# docstring\n",
    "\n",
    "소스코드에 포함된 문서(Documentation)"
   ]
  },
  {
   "cell_type": "code",
   "execution_count": 1,
   "id": "44c0d260",
   "metadata": {},
   "outputs": [],
   "source": [
    "def my_function(firstNum : int, secondNum : int):\n",
    "    \"\"\"두개의 숫자를 입력받아 곱해주는 함수이다.\n",
    "    \"\"\"\n",
    "    return firstNum * secondNum"
   ]
  },
  {
   "cell_type": "code",
   "execution_count": 2,
   "id": "daebc363",
   "metadata": {},
   "outputs": [
    {
     "name": "stdout",
     "output_type": "stream",
     "text": [
      "Help on function my_function in module __main__:\n",
      "\n",
      "my_function(firstNum: int, secondNum: int)\n",
      "    두개의 숫자를 입력받아 곱해주는 함수이다.\n",
      "\n"
     ]
    }
   ],
   "source": [
    "help(my_function)"
   ]
  },
  {
   "cell_type": "code",
   "execution_count": 3,
   "id": "794b3209",
   "metadata": {},
   "outputs": [
    {
     "data": {
      "text/plain": [
       "6"
      ]
     },
     "execution_count": 3,
     "metadata": {},
     "output_type": "execute_result"
    }
   ],
   "source": [
    "my_function(2,3)"
   ]
  },
  {
   "cell_type": "code",
   "execution_count": 20,
   "id": "3ea2b502",
   "metadata": {},
   "outputs": [],
   "source": [
    "def locate(latitude:float, longitude:float)->str:\n",
    "    \"\"\"맵에서 좌표에 해당하는 객체를 검사한다.\"\"\"\n",
    "    return latitude + longitude"
   ]
  },
  {
   "cell_type": "code",
   "execution_count": 25,
   "id": "b9496e20",
   "metadata": {},
   "outputs": [
    {
     "data": {
      "text/plain": [
       "{'latitude': float, 'longitude': float, 'return': str}"
      ]
     },
     "execution_count": 25,
     "metadata": {},
     "output_type": "execute_result"
    }
   ],
   "source": [
    "locate.__annotations__"
   ]
  },
  {
   "cell_type": "markdown",
   "id": "1430662e",
   "metadata": {},
   "source": [
    "# mypy"
   ]
  },
  {
   "cell_type": "code",
   "execution_count": 1,
   "id": "9092ca64",
   "metadata": {},
   "outputs": [],
   "source": [
    "def my_function(firstNum, secondNum):\n",
    "    \"\"\"두개의 숫자를 입력받아 곱해주는 함수이다.\"\"\"\n",
    "    return firtsNum * secondNum"
   ]
  },
  {
   "cell_type": "code",
   "execution_count": null,
   "id": "6898a3b8",
   "metadata": {},
   "outputs": [],
   "source": []
  }
 ],
 "metadata": {
  "kernelspec": {
   "display_name": "jupyter",
   "language": "python",
   "name": "jupyter"
  },
  "language_info": {
   "codemirror_mode": {
    "name": "ipython",
    "version": 3
   },
   "file_extension": ".py",
   "mimetype": "text/x-python",
   "name": "python",
   "nbconvert_exporter": "python",
   "pygments_lexer": "ipython3",
   "version": "3.10.4"
  },
  "toc": {
   "base_numbering": 1,
   "nav_menu": {},
   "number_sections": true,
   "sideBar": true,
   "skip_h1_title": false,
   "title_cell": "Table of Contents",
   "title_sidebar": "Contents",
   "toc_cell": false,
   "toc_position": {},
   "toc_section_display": true,
   "toc_window_display": false
  }
 },
 "nbformat": 4,
 "nbformat_minor": 5
}
