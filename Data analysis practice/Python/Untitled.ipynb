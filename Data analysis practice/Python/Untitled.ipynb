{
 "cells": [
  {
   "cell_type": "markdown",
   "metadata": {},
   "source": [
    "# 파이썬(OOP), 자료구조, 알고리즘"
   ]
  },
  {
   "cell_type": "markdown",
   "metadata": {},
   "source": [
    "#### 정규식(Regex)"
   ]
  },
  {
   "cell_type": "code",
   "execution_count": 1,
   "metadata": {},
   "outputs": [],
   "source": [
    "import re"
   ]
  },
  {
   "cell_type": "markdown",
   "metadata": {},
   "source": [
    "|Method|목적|\n",
    "|-|-|\n",
    "|match()|문자열의 처음부터 정규식과 매치되는지 조사한다.\n",
    "|search()|문자열 전체를 검색하여 정규식과 매치되는지 조사한다.|\n",
    "|findall()|정규식과 매치되는 모든 문자열(substring)을 리스트로 돌려준다.|\n",
    "|finditer()|정규식과 매치되는 모든 문자열(substring)을 반복 가능한 객체로 돌려준다.|"
   ]
  },
  {
   "cell_type": "code",
   "execution_count": 3,
   "metadata": {},
   "outputs": [
    {
     "name": "stdout",
     "output_type": "stream",
     "text": [
      "color\n"
     ]
    }
   ],
   "source": [
    "wordlist = [\"color\", \"colour\", \"work\", \"working\",\n",
    "            \"fox\", \"worker\", \"working\"]\n",
    "\n",
    "for word in wordlist:\n",
    "        if re.search('col.r', word) :  # .(dot) : 모든문자\n",
    "                print (word)"
   ]
  },
  {
   "cell_type": "code",
   "execution_count": 5,
   "metadata": {},
   "outputs": [
    {
     "name": "stdout",
     "output_type": "stream",
     "text": [
      "32\n",
      "(0, 32)\n",
      "<html><head><title>Title</title>\n"
     ]
    }
   ],
   "source": [
    "regular_expressions = '<html><head><title>Title</title>'\n",
    "print(len(regular_expressions))\n",
    "\n",
    "print(re.match('<.*>', regular_expressions).span())\n",
    "\n",
    "print(re.match('<.*>', regular_expressions).group())"
   ]
  },
  {
   "cell_type": "code",
   "execution_count": 6,
   "metadata": {},
   "outputs": [],
   "source": [
    "\n",
    "pat = re.compile(r\"\"\"\n",
    " \\s*                 # Skip leading whitespace\n",
    " (?P<header>[^:]+)   # Header name\n",
    " \\s* :               # Whitespace, and a colon\n",
    " (?P<value>.*?)      # The header's value -- *? used to\n",
    "                     # lose the following trailing whitespace\n",
    " \\s*$                # Trailing whitespace to end-of-line\n",
    "\"\"\", re.VERBOSE)"
   ]
  },
  {
   "cell_type": "code",
   "execution_count": 8,
   "metadata": {},
   "outputs": [
    {
     "data": {
      "text/plain": [
       "re.compile(r'\\s*(?P<header>[^:]+)\\s*:(?P<value>.*?)\\s*$', re.UNICODE)"
      ]
     },
     "execution_count": 8,
     "metadata": {},
     "output_type": "execute_result"
    }
   ],
   "source": [
    "# case 2\n",
    "pat = re.compile(r\"\\s*(?P<header>[^:]+)\\s*:(?P<value>.*?)\\s*$\")\n",
    "pat"
   ]
  },
  {
   "cell_type": "markdown",
   "metadata": {},
   "source": [
    "#### 파이썬 메소드활용\n",
    "- rjust(width, [fillchar])\n",
    "    - 원하는 문자를 따로 지정하고, 다른 문자열로 앞 부분을 채워줄 수 있다."
   ]
  },
  {
   "cell_type": "code",
   "execution_count": 9,
   "metadata": {},
   "outputs": [
    {
     "name": "stdout",
     "output_type": "stream",
     "text": [
      "002\n",
      "50000\n",
      "00123\n",
      "aa123\n"
     ]
    }
   ],
   "source": [
    "#\"002\"\n",
    "print(\"2\".rjust(3,\"0\"))\n",
    " \n",
    "#\"50000\"\n",
    "print(\"50000\".rjust(5,\"0\"))\n",
    " \n",
    "#\"00123\"\n",
    "print(\"123\".rjust(5,\"0\"))\n",
    " \n",
    "#\"aa123\"\n",
    "print(\"123\".rjust(5,\"a\"))"
   ]
  },
  {
   "cell_type": "markdown",
   "metadata": {},
   "source": [
    "- zfill(width)"
   ]
  },
  {
   "cell_type": "code",
   "execution_count": 11,
   "metadata": {},
   "outputs": [
    {
     "name": "stdout",
     "output_type": "stream",
     "text": [
      "002\n",
      "50000\n",
      "00123\n"
     ]
    }
   ],
   "source": [
    "#\"002\"\n",
    "print(\"2\".zfill(3))\n",
    " \n",
    "#\"50000\"\n",
    "print(\"50000\".zfill(5))\n",
    " \n",
    "#\"00123\"\n",
    "print(\"123\".zfill(5))"
   ]
  },
  {
   "cell_type": "markdown",
   "metadata": {},
   "source": [
    "- Split"
   ]
  },
  {
   "cell_type": "code",
   "execution_count": 13,
   "metadata": {},
   "outputs": [
    {
     "name": "stdout",
     "output_type": "stream",
     "text": [
      "Hello, I am Jack and I am a data scientist\n",
      "e\n"
     ]
    }
   ],
   "source": [
    "string_ = \"Hello, I am Jack and I am a data scientist\"\n",
    "print(string_)\n",
    "print(string_[1])"
   ]
  },
  {
   "cell_type": "code",
   "execution_count": 15,
   "metadata": {},
   "outputs": [
    {
     "data": {
      "text/plain": [
       "['Hello,', 'I', 'am', 'Jack', 'and', 'I', 'am', 'a', 'data', 'scientist']"
      ]
     },
     "execution_count": 15,
     "metadata": {},
     "output_type": "execute_result"
    }
   ],
   "source": [
    "string_list = string_.split(\" \")\n",
    "string_list"
   ]
  },
  {
   "cell_type": "code",
   "execution_count": 16,
   "metadata": {},
   "outputs": [
    {
     "data": {
      "text/plain": [
       "True"
      ]
     },
     "execution_count": 16,
     "metadata": {},
     "output_type": "execute_result"
    }
   ],
   "source": [
    "string_.startswith('Hello')"
   ]
  },
  {
   "cell_type": "code",
   "execution_count": 17,
   "metadata": {},
   "outputs": [
    {
     "data": {
      "text/plain": [
       "True"
      ]
     },
     "execution_count": 17,
     "metadata": {},
     "output_type": "execute_result"
    }
   ],
   "source": [
    "string_.endswith('scientist')"
   ]
  },
  {
   "cell_type": "code",
   "execution_count": 18,
   "metadata": {},
   "outputs": [
    {
     "data": {
      "text/plain": [
       "True"
      ]
     },
     "execution_count": 18,
     "metadata": {},
     "output_type": "execute_result"
    }
   ],
   "source": [
    "string_.endswith('tist')"
   ]
  },
  {
   "cell_type": "code",
   "execution_count": 19,
   "metadata": {},
   "outputs": [
    {
     "name": "stdout",
     "output_type": "stream",
     "text": [
      "Hello, I am John and I am a data scientist\n",
      "Hello, I am Jack and I am a data scientist\n"
     ]
    }
   ],
   "source": [
    "print(string_.replace(\"Jack\", \"John\"))\n",
    "print(string_)"
   ]
  },
  {
   "cell_type": "markdown",
   "metadata": {},
   "source": [
    "- 얕은 복사(copy())"
   ]
  },
  {
   "cell_type": "code",
   "execution_count": 20,
   "metadata": {},
   "outputs": [
    {
     "data": {
      "text/plain": [
       "{'apple', 'banana', 'cherry'}"
      ]
     },
     "execution_count": 20,
     "metadata": {},
     "output_type": "execute_result"
    }
   ],
   "source": [
    "fruits = {\"apple\", \"banana\", \"cherry\"}\n",
    "fruits_copy = fruits.copy()\n",
    "fruits_copy"
   ]
  },
  {
   "cell_type": "code",
   "execution_count": 21,
   "metadata": {},
   "outputs": [
    {
     "name": "stdout",
     "output_type": "stream",
     "text": [
      "{'b': 4, 'c': 8}\n",
      "{'b': 4, 'c': 8}\n"
     ]
    }
   ],
   "source": [
    "a = {'a': 5, 'b': 4, 'c': 8}\n",
    "b = a\n",
    "del b['a']\n",
    "print(b)\n",
    "print(a)"
   ]
  },
  {
   "cell_type": "code",
   "execution_count": 23,
   "metadata": {},
   "outputs": [
    {
     "name": "stdout",
     "output_type": "stream",
     "text": [
      "{'b': 4, 'c': 8}\n",
      "{'a': 5, 'b': 4, 'c': 8}\n"
     ]
    }
   ],
   "source": [
    "import copy\n",
    "\n",
    "a = {'a': 5, 'b': 4, 'c': 8}\n",
    "b = copy.copy(a)\n",
    "del b['a']\n",
    "print(b)\n",
    "print(a)"
   ]
  },
  {
   "cell_type": "markdown",
   "metadata": {},
   "source": [
    "- 깊은 복사(deep copy)\n",
    "    - 깊은 복사는 내부에 객체들까지 새롭게 copy 되는 것이다.\n",
    "    - 완전히 새로운 변수를 만드는 것이라고 볼 수 있다.\n",
    "\n"
   ]
  },
  {
   "cell_type": "code",
   "execution_count": 25,
   "metadata": {},
   "outputs": [
    {
     "name": "stdout",
     "output_type": "stream",
     "text": [
      "[[1, 2], [3, 4, 5]]\n",
      "[[1, 2], [3, 4]]\n",
      "[[1, 2], [3, 4, 5]]\n"
     ]
    }
   ],
   "source": [
    "import copy\n",
    "list_var = [[1,2],[3,4]]\n",
    "list_var_deepcopy = copy.deepcopy(list_var)\n",
    "list_var_copy = list_var.copy()\n",
    "\n",
    "list_var[1].append(5)\n",
    "\n",
    "print(list_var)  # 원래 변수\n",
    "\n",
    "print(list_var_deepcopy)  # deepcopy : append와 같은 메소드를 써도 값이 변경되지 않음\n",
    "\n",
    "print(list_var_copy)  # copy : 원본이 변경되었으므로 함께 변경됨"
   ]
  },
  {
   "cell_type": "markdown",
   "metadata": {},
   "source": [
    "#### 반복문과 조건문\n",
    "- 범위 경계 테스트를 반드시 한다.\n",
    "    - 예를 들어 range(4)로 지정했으면 print해서 갑싱 어떻게 나오는지 확인한다.\n",
    "- 실무 측면에서 상황에 적합한 반복문을 활용하도록 한다.\n",
    "    - while문과 for문의 특징에 대해서 생각해본다."
   ]
  },
  {
   "cell_type": "code",
   "execution_count": 26,
   "metadata": {},
   "outputs": [
    {
     "name": "stdout",
     "output_type": "stream",
     "text": [
      "90\n",
      "45\n",
      "32\n",
      "44\n"
     ]
    }
   ],
   "source": [
    "# case 1\n",
    "data = [90, 45, 32, 44]\n",
    "for i in range(len(data)):\n",
    "   print(data[i]) # 90, 45, 32, 44"
   ]
  },
  {
   "cell_type": "code",
   "execution_count": 27,
   "metadata": {},
   "outputs": [
    {
     "name": "stdout",
     "output_type": "stream",
     "text": [
      "id\n",
      "first_name\n",
      "last_name\n",
      "email\n",
      "gender\n",
      "ip_address\n"
     ]
    }
   ],
   "source": [
    "# case 2\n",
    "mock_data = {\n",
    "  \"id\": 1,\n",
    "  \"first_name\": \"states\",\n",
    "  \"last_name\": \"code\",\n",
    "  \"email\": \"code@states.com\",\n",
    "  \"gender\": \"Female\",\n",
    "  \"ip_address\": \"123.123.123.23\"\n",
    "}\n",
    "\n",
    "for x in mock_data:\n",
    "    print(x) # id, first_name, last_name, email, gender, ip_address"
   ]
  },
  {
   "cell_type": "code",
   "execution_count": 28,
   "metadata": {},
   "outputs": [
    {
     "name": "stdout",
     "output_type": "stream",
     "text": [
      "id\n",
      "first_name\n",
      "last_name\n",
      "email\n",
      "gender\n",
      "ip_address\n"
     ]
    }
   ],
   "source": [
    "# case 3\n",
    "mock_data = {\n",
    "  \"id\": 1,\n",
    "  \"first_name\": \"states\",\n",
    "  \"last_name\": \"code\",\n",
    "  \"email\": \"code@states.com\",\n",
    "  \"gender\": \"Female\",\n",
    "  \"ip_address\": \"123.123.123.23\"\n",
    "}\n",
    "\n",
    "for x in mock_data.keys():\n",
    "    print(x)"
   ]
  },
  {
   "cell_type": "code",
   "execution_count": 29,
   "metadata": {},
   "outputs": [
    {
     "name": "stdout",
     "output_type": "stream",
     "text": [
      "1\n",
      "states\n",
      "code\n",
      "code@states.com\n",
      "Female\n",
      "123.123.123.23\n"
     ]
    }
   ],
   "source": [
    "# case 4\n",
    "mock_data = {\n",
    "  \"id\": 1,\n",
    "  \"first_name\": \"states\",\n",
    "  \"last_name\": \"code\",\n",
    "  \"email\": \"code@states.com\",\n",
    "  \"gender\": \"Female\",\n",
    "  \"ip_address\": \"123.123.123.23\"\n",
    "}\n",
    "\n",
    "for x in mock_data.values():\n",
    "    print(x)"
   ]
  },
  {
   "cell_type": "code",
   "execution_count": 30,
   "metadata": {},
   "outputs": [
    {
     "name": "stdout",
     "output_type": "stream",
     "text": [
      "('id', 1)\n",
      "('first_name', 'states')\n",
      "('last_name', 'code')\n",
      "('email', 'code@states.com')\n",
      "('gender', 'Female')\n",
      "('ip_address', '123.123.123.23')\n",
      "id 1\n",
      "first_name states\n",
      "last_name code\n",
      "email code@states.com\n",
      "gender Female\n",
      "ip_address 123.123.123.23\n"
     ]
    }
   ],
   "source": [
    "# case 5 \n",
    "mock_data = {\n",
    "  \"id\": 1,\n",
    "  \"first_name\": \"states\",\n",
    "  \"last_name\": \"code\",\n",
    "  \"email\": \"code@states.com\",\n",
    "  \"gender\": \"Female\",\n",
    "  \"ip_address\": \"123.123.123.23\"\n",
    "}\n",
    "\n",
    "for x in mock_data.items():\n",
    "    print(x)\n",
    "\n",
    "for k,v in mock_data.items():\n",
    "    print(k,v)"
   ]
  },
  {
   "cell_type": "code",
   "execution_count": 31,
   "metadata": {},
   "outputs": [
    {
     "name": "stdout",
     "output_type": "stream",
     "text": [
      "1 10\n",
      "2 20\n",
      "3 30\n",
      "4 40\n",
      "5 50\n"
     ]
    }
   ],
   "source": [
    "# 일반적인 반복문 활용\n",
    "a = [1,2,3,4,5]\n",
    "b = [10,20,30,40,50]\n",
    "for i in range(len(a)):\n",
    "   print(a[i],b[i])"
   ]
  },
  {
   "cell_type": "code",
   "execution_count": 32,
   "metadata": {},
   "outputs": [
    {
     "name": "stdout",
     "output_type": "stream",
     "text": [
      "[(1, 10), (2, 20), (3, 30), (4, 40), (5, 50)]\n"
     ]
    }
   ],
   "source": [
    "# zip 함수 활용\n",
    "a = [1,2,3,4,5]\n",
    "b = [10,20,30,40,50]\n",
    "c = zip(a,b)\n",
    "print(list(c))"
   ]
  },
  {
   "cell_type": "code",
   "execution_count": 33,
   "metadata": {},
   "outputs": [
    {
     "name": "stdout",
     "output_type": "stream",
     "text": [
      "1 10 100\n",
      "2 20 200\n",
      "3 30 300\n",
      "4 40 400\n",
      "5 50 500\n"
     ]
    }
   ],
   "source": [
    "# 반복문과 zip 활용\n",
    "a = [1,2,3,4,5]\n",
    "b = [10,20,30,40,50]\n",
    "c = [100,200,300,400,500]\n",
    "for x,y,z in zip(a,b,c):\n",
    "   print(x,y,z)"
   ]
  },
  {
   "cell_type": "code",
   "execution_count": 34,
   "metadata": {},
   "outputs": [
    {
     "name": "stdout",
     "output_type": "stream",
     "text": [
      "0\n",
      "1\n",
      "2\n"
     ]
    }
   ],
   "source": [
    "# break\n",
    "\n",
    "IntCollection=[0,1,2,3,4,5,6,7]\n",
    "for x in IntCollection:\n",
    "    if(x==3):\n",
    "        break\n",
    "    else:\n",
    "        print(x)"
   ]
  },
  {
   "cell_type": "code",
   "execution_count": 36,
   "metadata": {},
   "outputs": [
    {
     "name": "stdout",
     "output_type": "stream",
     "text": [
      "0\n",
      "1\n",
      "2\n",
      "4\n",
      "5\n",
      "6\n",
      "7\n"
     ]
    }
   ],
   "source": [
    "# continue\n",
    "\n",
    "IntCollection=[0,1,2,3,4,5,6,7]\n",
    "for x in IntCollection:\n",
    "    if(x==3):\n",
    "        continue\n",
    "    else:\n",
    "        print(x)\n"
   ]
  },
  {
   "cell_type": "code",
   "execution_count": 37,
   "metadata": {},
   "outputs": [
    {
     "name": "stdout",
     "output_type": "stream",
     "text": [
      "foo(list_[i])\n",
      "1\n",
      "2\n",
      "3\n",
      "4\n",
      "5\n",
      "foo(element)\n",
      "1\n",
      "2\n",
      "3\n",
      "4\n",
      "5\n"
     ]
    }
   ],
   "source": [
    "# 반복문의 다양한 활용\n",
    "list_ = [1,2,3,4,5]\n",
    "\n",
    "def foo(list_):\n",
    "  print(list_)\n",
    "\n",
    "print('foo(list_[i])')\n",
    "for i in range(len(list_)):\n",
    "    foo(list_[i])\n",
    "\n",
    "print('foo(element)')\n",
    "for element in list_:\n",
    "    foo(element)"
   ]
  },
  {
   "cell_type": "markdown",
   "metadata": {},
   "source": [
    "#### 컬렉션 자료형의 내장메소드\n",
    "- append(), extend(), insert()\n",
    "    - a.insert(len(a),x)는 a.append(x)와 동등합니다.\n",
    "    "
   ]
  },
  {
   "cell_type": "code",
   "execution_count": 40,
   "metadata": {},
   "outputs": [
    {
     "name": "stdout",
     "output_type": "stream",
     "text": [
      "1001,1008,1022,1029,1036,1043,1057,1064,1071,1078,1092,1099,1106,1113,1127,1134,1141,1148,1162,1169,1176,1183,1197,1204,1211,1218,1232,1239,1246,1253,1267,1274,1281,1288,1302,1309,1316,1323,1337,1344,1351,1358,1372,1379,1386,1393,1407,1414,1421,1428,1442,1449,1456,1463,1477,1484,1491,1498,1512,1519,1526,1533,1547,1554,1561,1568,1582,1589,1596,1603,1617,1624,1631,1638,1652,1659,1666,1673,1687,1694,1701,1708,1722,1729,1736,1743,1757,1764,1771,1778,1792,1799,1806,1813,1827,1834,1841,1848,1862,1869,1876,1883,1897,1904,1911,1918,1932,1939,1946,1953,1967,1974,1981,1988,2002,2009,2016,2023,2037,2044,2051,2058,2072,2079,2086,2093,2107,2114,2121,2128,2142,2149,2156,2163,2177,2184,2191,2198\n"
     ]
    }
   ],
   "source": [
    "list=[]\n",
    "for i in range(1000, 2200):\n",
    "    if (i%7==0) and (i%5!=0):\n",
    "        list.append(str(i))\n",
    "\n",
    "print(','.join(list))\n",
    "# '구분자'.join(list) = 리스트안에있는 문자를 구분자로 합쳐준다."
   ]
  },
  {
   "cell_type": "code",
   "execution_count": 42,
   "metadata": {},
   "outputs": [
    {
     "name": "stdout",
     "output_type": "stream",
     "text": [
      "200,202,204,206,208,210,212,214,216,218,220,222,224,226,228,230,232,234,236,238,240,242,244,246,248,250,252,254,256,258,260,262,264,266,268,270,272,274,276,278,280,282,284,286,288,290,292,294,296,298\n"
     ]
    }
   ],
   "source": [
    "values = []\n",
    "for i in range(100, 300):\n",
    "    char = str(i)\n",
    "\n",
    "    if (int(char[0])%2==0) and (int(char[2])%2==0):\n",
    "        values.append(char)\n",
    "\n",
    "print(\",\".join(values))"
   ]
  },
  {
   "cell_type": "code",
   "execution_count": 43,
   "metadata": {},
   "outputs": [
    {
     "name": "stdout",
     "output_type": "stream",
     "text": [
      "list1: ['bread', 'meat', 'Lettuce', 2, 5], list2: ['Lettuce', 2, 5]\n"
     ]
    }
   ],
   "source": [
    "list_1 = ['bread', 'meat']\n",
    "list_2 = ['Lettuce',2 ,5]\n",
    "list_1.extend(list_2)\n",
    "print('list1: {}, list2: {}'.format(list_1, list_2))\n"
   ]
  },
  {
   "cell_type": "code",
   "execution_count": 55,
   "metadata": {},
   "outputs": [],
   "source": [
    "def part1():\n",
    "    for i in range(11):\n",
    "        if i !=0:\n",
    "            print(i*i)"
   ]
  },
  {
   "cell_type": "code",
   "execution_count": 57,
   "metadata": {},
   "outputs": [
    {
     "data": {
      "text/plain": [
       "<function __main__.part1()>"
      ]
     },
     "execution_count": 57,
     "metadata": {},
     "output_type": "execute_result"
    }
   ],
   "source": [
    "part1"
   ]
  },
  {
   "cell_type": "code",
   "execution_count": 69,
   "metadata": {},
   "outputs": [
    {
     "ename": "SyntaxError",
     "evalue": "invalid syntax (<ipython-input-69-1b1b14b528e8>, line 3)",
     "output_type": "error",
     "traceback": [
      "\u001b[1;36m  File \u001b[1;32m\"<ipython-input-69-1b1b14b528e8>\"\u001b[1;36m, line \u001b[1;32m3\u001b[0m\n\u001b[1;33m    answer2 = (lambda  i: '짝수' for i in a if i%2 ==0 else i '홀수')\u001b[0m\n\u001b[1;37m                                                        ^\u001b[0m\n\u001b[1;31mSyntaxError\u001b[0m\u001b[1;31m:\u001b[0m invalid syntax\n"
     ]
    }
   ],
   "source": [
    "def part2(a):   \n",
    "    answer = (lambda i:i*i for i in a)\n",
    "    answer2 = (lambda  i: '짝수' for i in a if i%2 ==0 else i '홀수')\n",
    "    print(answer)\n",
    "    print(answer2)"
   ]
  },
  {
   "cell_type": "code",
   "execution_count": null,
   "metadata": {},
   "outputs": [],
   "source": []
  }
 ],
 "metadata": {
  "kernelspec": {
   "display_name": "Python 3",
   "language": "python",
   "name": "python3"
  },
  "language_info": {
   "codemirror_mode": {
    "name": "ipython",
    "version": 3
   },
   "file_extension": ".py",
   "mimetype": "text/x-python",
   "name": "python",
   "nbconvert_exporter": "python",
   "pygments_lexer": "ipython3",
   "version": "3.7.6"
  }
 },
 "nbformat": 4,
 "nbformat_minor": 4
}
