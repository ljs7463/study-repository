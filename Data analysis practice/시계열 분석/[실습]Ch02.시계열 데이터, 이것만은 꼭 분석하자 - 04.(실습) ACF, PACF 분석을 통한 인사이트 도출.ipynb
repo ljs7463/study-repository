{
  "cells": [
    {
      "cell_type": "markdown",
      "metadata": {
        "id": "tqk4jDbYnLr0"
      },
      "source": [
        "![개요](https://drive.google.com/uc?id=19sCDgEcD2yIf04Yzpiyx-Oz52mG1OLld)"
      ]
    },
    {
      "cell_type": "markdown",
      "source": [
        "시계열 특성 > 안정성(Stationary)\n",
        "==> 시계열 데이터가 미래에 똑같은 모양일 확률이 매우 높다.\n",
        "\n",
        "즉, 시계열이 안정적이지 않으면 현재의 패턴이 미래에 똑같이 재현되지 않으므로, 그대로 예측 기법을 즉용하면 안된다.\n",
        "\n",
        "불안정한 시계열을 그대로 예측하게되면, 설명력(R2)가 90%이상, 정확도 90% 이상이 나온다. 그러나, Spurious regression(가성적회귀귀), Overfitting -> 따라서 안정정인(stationary)하게 만든 후 예측을 해야한다."
      ],
      "metadata": {
        "id": "6-ZP4Q0XzizZ"
      }
    },
    {
      "cell_type": "markdown",
      "source": [
        "<시계열 안정성 판별볍 >\n",
        " \n",
        " \"Dickey Fuller Test\"\n",
        "\n",
        " - 귀무가설 : 원계열은 안정적이지 않다.\n",
        " - 테스트 결과 해석 \n",
        "  - p-value 가 0.05보다 작으면, 귀무가설 기각. 즉, 안정적인 시계열\n",
        "  - p-value 가 0.05보다 크면, 귀무가설 채택. 즉, 불안정한 시계열\n",
        "\n",
        "\n",
        "불안정한 시계열을 안정적인 시계열로 변경하는 가장 보편적인 방법은 성장률로 변화해서 예측하는 것입니다."
      ],
      "metadata": {
        "id": "bfikaT4B0s0O"
      }
    },
    {
      "cell_type": "markdown",
      "source": [
        "<요약>\n",
        "- 시계열 안정성 테스트 -> Augmented Dickey Fuller Test\n",
        "- 불안정한 데이터를 안정적 데이터로 변환 -> 성장률, log difference"
      ],
      "metadata": {
        "id": "ToYGNIMJ2bBC"
      }
    },
    {
      "cell_type": "code",
      "execution_count": null,
      "metadata": {
        "collapsed": true,
        "id": "DA7oDV73GTR-"
      },
      "outputs": [],
      "source": [
        "import pandas as pd\n",
        "import numpy as np\n",
        "import matplotlib.pyplot as plt\n",
        "%matplotlib inline\n",
        "\n",
        "from statsmodels.tsa.stattools import adfuller\n",
        "from statsmodels.tsa.stattools import acf, pacf\n",
        "from statsmodels.graphics.tsaplots import plot_acf, plot_pacf"
      ]
    },
    {
      "cell_type": "code",
      "execution_count": null,
      "metadata": {
        "collapsed": true,
        "id": "SjejCn2Uy3Xa"
      },
      "outputs": [],
      "source": [
        "# plot할때 warning message가 난다면, 아래 명령어로 matplotlib 버전을 3.0.3으로 낮춰주세요.\n",
        "# colab에 설치된 matplotlib은 2020년4월 기준으로 3.2.1 입니다. \n",
        "! pip install matplotlib==3.0.3\n",
        "\n",
        "# 설치된 matplotlib 버전을 확인하려면 아래를 실행하세요.\n",
        "import matplotlib\n",
        "matplotlib.__version__"
      ]
    },
    {
      "cell_type": "code",
      "execution_count": null,
      "metadata": {
        "collapsed": true,
        "id": "TJzA4wxAGTSJ"
      },
      "outputs": [],
      "source": [
        "df=pd.read_csv('https://raw.githubusercontent.com/sm-joo/sm-joo/master/DEXKOUS.csv', parse_dates=['DATE'], index_col='DATE')\n",
        "df.columns=[\"KOUS\"]\n",
        "df['KOUS'].replace('.', '', inplace=True)\n",
        "df['KOUS'] = pd.to_numeric(df['KOUS'])\n",
        "df.fillna(method='ffill', inplace=True)"
      ]
    },
    {
      "cell_type": "markdown",
      "metadata": {
        "id": "Sgo0g5WFHbZx"
      },
      "source": [
        "# 연도별 "
      ]
    },
    {
      "cell_type": "code",
      "execution_count": null,
      "metadata": {
        "collapsed": true,
        "id": "G0YTWcB2bZ2H"
      },
      "outputs": [],
      "source": [
        ""
      ]
    },
    {
      "cell_type": "code",
      "execution_count": null,
      "metadata": {
        "collapsed": true,
        "id": "JUqGN6P1y3Xc"
      },
      "outputs": [],
      "source": [
        ""
      ]
    },
    {
      "cell_type": "code",
      "execution_count": null,
      "metadata": {
        "collapsed": true,
        "id": "x3lI2BU7y3Xc"
      },
      "outputs": [],
      "source": [
        ""
      ]
    },
    {
      "cell_type": "code",
      "execution_count": null,
      "metadata": {
        "collapsed": true,
        "id": "iqIC2YmQy3Xd"
      },
      "outputs": [],
      "source": [
        ""
      ]
    },
    {
      "cell_type": "code",
      "execution_count": null,
      "metadata": {
        "collapsed": true,
        "id": "fqbZuoDZy3Xd"
      },
      "outputs": [],
      "source": [
        ""
      ]
    },
    {
      "cell_type": "code",
      "execution_count": null,
      "metadata": {
        "collapsed": true,
        "id": "6GeHb7Phy3Xd"
      },
      "outputs": [],
      "source": [
        ""
      ]
    },
    {
      "cell_type": "code",
      "execution_count": null,
      "metadata": {
        "collapsed": true,
        "id": "Y5F6vMOEy3Xd"
      },
      "outputs": [],
      "source": [
        ""
      ]
    }
  ],
  "metadata": {
    "colab": {
      "collapsed_sections": [],
      "name": "02_04. (실습) ACF, PACF 분석을 통한 인사이트 도출.ipynb",
      "provenance": []
    },
    "kernelspec": {
      "display_name": "Python 3",
      "language": "python",
      "name": "python3"
    },
    "language_info": {
      "codemirror_mode": {
        "name": "ipython",
        "version": 3
      },
      "file_extension": ".py",
      "mimetype": "text/x-python",
      "name": "python",
      "nbconvert_exporter": "python",
      "pygments_lexer": "ipython3",
      "version": "3.5.2"
    }
  },
  "nbformat": 4,
  "nbformat_minor": 0
}