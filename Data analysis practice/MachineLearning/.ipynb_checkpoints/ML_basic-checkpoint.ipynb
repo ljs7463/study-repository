{
 "cells": [
  {
   "cell_type": "code",
   "execution_count": null,
   "metadata": {
    "id": "fFkcCmPI2EHn"
   },
   "outputs": [],
   "source": [
    "from sklearn.impute import SimpleImputer"
   ]
  },
  {
   "cell_type": "markdown",
   "metadata": {
    "id": "2y8x24aFOY4w"
   },
   "source": [
    "# 머신러닝 모델 기본  실습"
   ]
  },
  {
   "cell_type": "code",
   "execution_count": null,
   "metadata": {
    "id": "3SwaYRBML598"
   },
   "outputs": [],
   "source": [
    "import numpy as np\n",
    "from sklearn.linear_model import LinearRegression"
   ]
  },
  {
   "cell_type": "code",
   "execution_count": null,
   "metadata": {
    "colab": {
     "base_uri": "https://localhost:8080/",
     "height": 208
    },
    "id": "97GaOfo5Mb5c",
    "outputId": "9ee56a59-8faf-46b6-ddad-3cc3e6325e3b"
   },
   "outputs": [
    {
     "ename": "NameError",
     "evalue": "ignored",
     "output_type": "error",
     "traceback": [
      "\u001b[0;31m---------------------------------------------------------------------------\u001b[0m",
      "\u001b[0;31mNameError\u001b[0m                                 Traceback (most recent call last)",
      "\u001b[0;32m<ipython-input-3-3d0dfff2b523>\u001b[0m in \u001b[0;36m<module>\u001b[0;34m()\u001b[0m\n\u001b[1;32m      1\u001b[0m \u001b[0mmodel\u001b[0m \u001b[0;34m=\u001b[0m \u001b[0mLinearRegression\u001b[0m\u001b[0;34m(\u001b[0m\u001b[0;34m)\u001b[0m \u001b[0;31m# 모델선언\u001b[0m\u001b[0;34m\u001b[0m\u001b[0;34m\u001b[0m\u001b[0m\n\u001b[0;32m----> 2\u001b[0;31m \u001b[0mmodel\u001b[0m\u001b[0;34m.\u001b[0m\u001b[0mfit\u001b[0m\u001b[0;34m(\u001b[0m\u001b[0mx\u001b[0m\u001b[0;34m,\u001b[0m \u001b[0my\u001b[0m\u001b[0;34m)\u001b[0m \u001b[0;31m# 학습(fit)\u001b[0m\u001b[0;34m\u001b[0m\u001b[0;34m\u001b[0m\u001b[0m\n\u001b[0m\u001b[1;32m      3\u001b[0m \u001b[0mprediction\u001b[0m \u001b[0;34m=\u001b[0m \u001b[0mmodel\u001b[0m\u001b[0;34m.\u001b[0m\u001b[0mpredict\u001b[0m\u001b[0;34m(\u001b[0m\u001b[0mx2\u001b[0m\u001b[0;34m)\u001b[0m\u001b[0;34m\u001b[0m\u001b[0;34m\u001b[0m\u001b[0m\n",
      "\u001b[0;31mNameError\u001b[0m: name 'x' is not defined"
     ]
    }
   ],
   "source": [
    "model = LinearRegression() # 모델선언\n",
    "model.fit(x, y) # 학습(fit)\n",
    "prediction = model.predict(x2)"
   ]
  },
  {
   "cell_type": "code",
   "execution_count": null,
   "metadata": {
    "id": "U8WoidWONWWh"
   },
   "outputs": [],
   "source": [
    "x = np.arange(10).reshape(-1, 1)\n",
    "y = (2*x +1).reshape(-1, 1)"
   ]
  },
  {
   "cell_type": "code",
   "execution_count": null,
   "metadata": {
    "id": "zIgs6r29Nv9J"
   },
   "outputs": [],
   "source": [
    "# 모델선언\n",
    "model = LinearRegression()"
   ]
  },
  {
   "cell_type": "code",
   "execution_count": null,
   "metadata": {
    "id": "ssQh1NNFNv6c"
   },
   "outputs": [],
   "source": [
    "# 학습\n",
    "model.fit(x, y)"
   ]
  },
  {
   "cell_type": "code",
   "execution_count": null,
   "metadata": {
    "id": "BuudXK2jNv4K"
   },
   "outputs": [],
   "source": [
    "# 예측\n",
    "prediction = model.predict([[10.0]])"
   ]
  },
  {
   "cell_type": "code",
   "execution_count": null,
   "metadata": {
    "id": "FJx-jNrFNv1Y"
   },
   "outputs": [],
   "source": [
    "prediction"
   ]
  },
  {
   "cell_type": "markdown",
   "metadata": {
    "id": "qvqI7_wzOch6"
   },
   "source": [
    "# 학습 데이터, 예측 데이터"
   ]
  },
  {
   "cell_type": "code",
   "execution_count": null,
   "metadata": {
    "id": "UUYuIqFFNvym"
   },
   "outputs": [],
   "source": [
    "X: \n",
    " - feature 라고 부른다\n",
    " - x_train, x_test\n",
    " - 학습을 위한 데이터 세트"
   ]
  },
  {
   "cell_type": "code",
   "execution_count": null,
   "metadata": {
    "id": "nzuFTnQdNvtr"
   },
   "outputs": [],
   "source": [
    "Y:\n",
    " - labels라고 불리웁니다.\n",
    " - y_train, y_test\n",
    " - 예측해야할 값"
   ]
  },
  {
   "cell_type": "code",
   "execution_count": null,
   "metadata": {
    "id": "GzFHUlo3PkQH"
   },
   "outputs": [],
   "source": [
    "학습을 위한 데이터 = Training set, 예측을 위한 데이터 = Test set\n",
    "\n",
    "두개의 데이터의 차이는 학습용 데이터 셋 에는 label이 존재하고 예측을 위한 데이터는\n",
    "feature 만 존재한다."
   ]
  },
  {
   "cell_type": "code",
   "execution_count": null,
   "metadata": {
    "id": "DKwLXALgRKzS"
   },
   "outputs": [],
   "source": [
    "from sklearn.linear_model import LinearRegression\n",
    "\n",
    "model = LinearRegression()\n",
    "model.fit(x_train, y_train)\n",
    "prediction = model.predict(x_test)"
   ]
  },
  {
   "cell_type": "markdown",
   "metadata": {
    "id": "RvocKmlKdUt3"
   },
   "source": [
    "# 전처리"
   ]
  },
  {
   "cell_type": "markdown",
   "metadata": {
    "id": "S9L4mnaEdWhS"
   },
   "source": [
    "데이터 분석에 적합하게 데이터를 가공, 변형, 처리, 클리닝 하는 작업"
   ]
  },
  {
   "cell_type": "markdown",
   "metadata": {
    "id": "puL_p_Dyd4ER"
   },
   "source": [
    "1. 결측지\n",
    "2. 이상치\n",
    "3. 정규화(Normalization)\n",
    "4. 표준화(Standardization)\n",
    "5. 샘플링(over/under sampling)\n",
    "6. 피처공학(Feature Engineering)\n",
    " -  feature 생성/ 연산\n",
    " * 구간 생성, 스케일 변형"
   ]
  },
  {
   "cell_type": "markdown",
   "metadata": {
    "id": "cwPZuS92fdMb"
   },
   "source": [
    "## train_test_split "
   ]
  },
  {
   "cell_type": "code",
   "execution_count": null,
   "metadata": {
    "id": "jApQvshYVWM9"
   },
   "outputs": [],
   "source": [
    "import numpy as np\n",
    "import pandas as pd\n"
   ]
  },
  {
   "cell_type": "code",
   "execution_count": null,
   "metadata": {
    "id": "Utg2GlNnWQ7E"
   },
   "outputs": [],
   "source": [
    "train = pd.read_csv('https://bit.ly/fc-ml-titanic')"
   ]
  },
  {
   "cell_type": "markdown",
   "metadata": {
    "id": "KWyJXTLkgHjY"
   },
   "source": [
    "## train과 validation 세트 나누기\n",
    "\n",
    "1. feature와 label을 정의하기\n",
    "2. 적절한 비율로 train과 validation set을 나눈다."
   ]
  },
  {
   "cell_type": "code",
   "execution_count": null,
   "metadata": {
    "id": "UwEH4kiCfwzp"
   },
   "outputs": [],
   "source": [
    "feature = [\n",
    "           'Pclass', 'Sex', 'Age', 'Fare'\n",
    "           ]"
   ]
  },
  {
   "cell_type": "code",
   "execution_count": null,
   "metadata": {
    "id": "3TLPh6F2gVW1"
   },
   "outputs": [],
   "source": [
    "label = ['Survived']"
   ]
  },
  {
   "cell_type": "code",
   "execution_count": null,
   "metadata": {
    "id": "RxZLbWhUgiLX"
   },
   "outputs": [],
   "source": [
    "train[feature].head()"
   ]
  },
  {
   "cell_type": "code",
   "execution_count": null,
   "metadata": {
    "id": "5C0L-nxmgirX"
   },
   "outputs": [],
   "source": [
    "train[label].head()"
   ]
  },
  {
   "cell_type": "code",
   "execution_count": null,
   "metadata": {
    "id": "MGrbE8D1gsc5"
   },
   "outputs": [],
   "source": [
    "from sklearn.model_selection import train_test_split"
   ]
  },
  {
   "cell_type": "markdown",
   "metadata": {
    "id": "7dOLHxrCgyWd"
   },
   "source": [
    "return 받는 데이터의 순서 중요"
   ]
  },
  {
   "cell_type": "markdown",
   "metadata": {
    "id": "WkE7SG5shV4c"
   },
   "source": [
    "* test_size : validation set에 할당할 비율(20% = 0.2)\n",
    "\n",
    "* shuffle : 셔플 옵션(기본 True)\n",
    "\n",
    "* random_state : 랜덤 시드값"
   ]
  },
  {
   "cell_type": "code",
   "execution_count": null,
   "metadata": {
    "id": "JP0H65Pagsan"
   },
   "outputs": [],
   "source": [
    "x_train, x_valid, y_train, y_valid = \\\n",
    "train_test_split(train[feature], train[label], test_size = 0.2, shuffle =True, random_state = 30)"
   ]
  },
  {
   "cell_type": "code",
   "execution_count": null,
   "metadata": {
    "id": "3WOBzmLggsXt"
   },
   "outputs": [],
   "source": [
    "x_train.shape, y_train.shape"
   ]
  },
  {
   "cell_type": "code",
   "execution_count": null,
   "metadata": {
    "id": "88sk8sR5gibM"
   },
   "outputs": [],
   "source": [
    "x_valid.shape, y_valid.shape"
   ]
  },
  {
   "cell_type": "markdown",
   "metadata": {
    "id": "qP7HtNyJYJaO"
   },
   "source": [
    "## 결측지"
   ]
  },
  {
   "cell_type": "markdown",
   "metadata": {
    "id": "SHcSCuwfYSoV"
   },
   "source": [
    "결측지 확인 : isnull() "
   ]
  },
  {
   "cell_type": "code",
   "execution_count": null,
   "metadata": {
    "id": "BxrVOEyfhsME"
   },
   "outputs": [],
   "source": [
    "train.isnull().sum()"
   ]
  },
  {
   "cell_type": "markdown",
   "metadata": {
    "id": "wuIe2BBrvaLP"
   },
   "source": [
    "## numerical  데이터에 대한 결측지 처리"
   ]
  },
  {
   "cell_type": "code",
   "execution_count": null,
   "metadata": {
    "id": "RfbA96FOYXq-"
   },
   "outputs": [],
   "source": [
    "train['Age'].fillna(0).describe()"
   ]
  },
  {
   "cell_type": "markdown",
   "metadata": {
    "id": "FV8Y5EJ3wlKz"
   },
   "source": [
    "imputer : 2개 이상의 column을 한번에 처리할 때"
   ]
  },
  {
   "cell_type": "code",
   "execution_count": null,
   "metadata": {
    "id": "O8ecARB4vkCV"
   },
   "outputs": [],
   "source": [
    "from sklearn.impute import SimpleImputer"
   ]
  },
  {
   "cell_type": "code",
   "execution_count": null,
   "metadata": {
    "id": "cfOv20q9wxr-"
   },
   "outputs": [],
   "source": [
    "imputer = SimpleImputer(strategy= 'mean')\n",
    "# strategy = 'mean' 평균값으로 채워주겠다"
   ]
  },
  {
   "cell_type": "code",
   "execution_count": null,
   "metadata": {
    "id": "xB2QaksTw9Sg"
   },
   "outputs": [],
   "source": [
    "# fit()을 통해 결측지에 대한 학습을 진행한다.\n",
    "imputer.fit(train[['Age', 'Pclass']])"
   ]
  },
  {
   "cell_type": "code",
   "execution_count": null,
   "metadata": {
    "id": "6a9Yxddgx4RX"
   },
   "outputs": [],
   "source": [
    "# transform()은 실제 결측치에 대한 처리를 해주는 함수(fit에서는 처리가 되지는 않고 학습만 진행)\n",
    "result = imputer.transform(train[['Age','Pclass']])"
   ]
  },
  {
   "cell_type": "code",
   "execution_count": null,
   "metadata": {
    "id": "k5-JNkUOyGBX"
   },
   "outputs": [],
   "source": [
    "train[['Age', 'Pclass']] = result"
   ]
  },
  {
   "cell_type": "code",
   "execution_count": null,
   "metadata": {
    "id": "zUALLetqyKrJ"
   },
   "outputs": [],
   "source": [
    "train[['Age', 'Pclass']].isnull().sum()"
   ]
  },
  {
   "cell_type": "code",
   "execution_count": null,
   "metadata": {
    "id": "P0PRvOWvyPSp"
   },
   "outputs": [],
   "source": [
    "result\n",
    "# array로 생성"
   ]
  },
  {
   "cell_type": "markdown",
   "metadata": {
    "id": "noDLR7ef09yu"
   },
   "source": [
    "fit()과 transform()동시 사용가능"
   ]
  },
  {
   "cell_type": "code",
   "execution_count": null,
   "metadata": {
    "id": "F50vg6GKyjrQ"
   },
   "outputs": [],
   "source": [
    "# # 이렇게 하면 동시에 fit 과 transform을 같이 할 수 있음\n",
    "# result = imputer.fit_transform(train[['Age', 'Pclass']])"
   ]
  },
  {
   "cell_type": "markdown",
   "metadata": {
    "id": "JCViOQ4u1d3q"
   },
   "source": [
    "## categorical 데이터에 대한 결측지 처리"
   ]
  },
  {
   "cell_type": "code",
   "execution_count": null,
   "metadata": {
    "id": "1KwpthGM2BeA"
   },
   "outputs": [],
   "source": [
    "import numpy as np\n",
    "import pandas as pd\n"
   ]
  },
  {
   "cell_type": "code",
   "execution_count": null,
   "metadata": {
    "id": "H9ZP3tn62F9P"
   },
   "outputs": [],
   "source": [
    "from sklearn.impute import SimpleImputer"
   ]
  },
  {
   "cell_type": "code",
   "execution_count": null,
   "metadata": {
    "id": "tQE7KKpD2BeA"
   },
   "outputs": [],
   "source": [
    "train = pd.read_csv('https://bit.ly/fc-ml-titanic')"
   ]
  },
  {
   "cell_type": "code",
   "execution_count": null,
   "metadata": {
    "id": "GLQmaek71hgH"
   },
   "outputs": [],
   "source": [
    "train['Embarked'].fillna('S')"
   ]
  },
  {
   "cell_type": "markdown",
   "metadata": {
    "id": "Kxmv5rXa1snv"
   },
   "source": [
    "imputer 사용하는경우 : 2개 이상의 column을 처리할때"
   ]
  },
  {
   "cell_type": "code",
   "execution_count": null,
   "metadata": {
    "id": "vY2d8i4o1wdN"
   },
   "outputs": [],
   "source": [
    "imputer = SimpleImputer(strategy = 'most_frequent')\n",
    "# most_frequent 가장 빈도수가 높은 것으로 채운다"
   ]
  },
  {
   "cell_type": "code",
   "execution_count": null,
   "metadata": {
    "id": "q8e14quh18aq"
   },
   "outputs": [],
   "source": [
    "result =imputer.fit_transform(train[['Embarked', 'Cabin']])"
   ]
  },
  {
   "cell_type": "code",
   "execution_count": null,
   "metadata": {
    "id": "OqEC6JAR2N2E"
   },
   "outputs": [],
   "source": [
    "train[['Embarked', 'Cabin']] = result"
   ]
  },
  {
   "cell_type": "code",
   "execution_count": null,
   "metadata": {
    "id": "oaMmpvPF2Wh2"
   },
   "outputs": [],
   "source": [
    "train[['Embarked', 'Cabin']].isnull().sum()"
   ]
  },
  {
   "cell_type": "markdown",
   "metadata": {
    "id": "QdM3HtMwapMK"
   },
   "source": [
    "## Label Encoding : 문자(categorical)를 수치(numerical)로 변환"
   ]
  },
  {
   "cell_type": "markdown",
   "metadata": {
    "id": "MW_D68sUazF_"
   },
   "source": [
    "학습을 위해 문자로 된 데이터를 수치로 변환한다."
   ]
  },
  {
   "cell_type": "code",
   "execution_count": null,
   "metadata": {
    "id": "CppC4IaX2Yuu"
   },
   "outputs": [],
   "source": [
    "# 함수식으로 변환\n",
    "def convert(data):\n",
    "  if data == 'male':\n",
    "    return 1\n",
    "  elif data == 'female':\n",
    "    return 0"
   ]
  },
  {
   "cell_type": "code",
   "execution_count": null,
   "metadata": {
    "colab": {
     "base_uri": "https://localhost:8080/"
    },
    "id": "8SH5xmZlbGGn",
    "outputId": "0d2fa642-de2b-4b36-a1c5-03816019248c"
   },
   "outputs": [
    {
     "data": {
      "text/plain": [
       "0      1\n",
       "1      0\n",
       "2      0\n",
       "3      0\n",
       "4      1\n",
       "      ..\n",
       "886    1\n",
       "887    0\n",
       "888    0\n",
       "889    1\n",
       "890    1\n",
       "Name: Sex, Length: 891, dtype: int64"
      ]
     },
     "execution_count": 13,
     "metadata": {
      "tags": []
     },
     "output_type": "execute_result"
    }
   ],
   "source": [
    "train['Sex'].apply(convert)"
   ]
  },
  {
   "cell_type": "code",
   "execution_count": null,
   "metadata": {
    "id": "hl6fZ4B3blQF"
   },
   "outputs": [],
   "source": [
    "from sklearn.preprocessing import LabelEncoder"
   ]
  },
  {
   "cell_type": "code",
   "execution_count": null,
   "metadata": {
    "id": "Bk4HmkCUbqcF"
   },
   "outputs": [],
   "source": [
    "le = LabelEncoder()\n",
    "train['Sex'] = le.fit_transform(train['Sex'])"
   ]
  },
  {
   "cell_type": "code",
   "execution_count": null,
   "metadata": {
    "colab": {
     "base_uri": "https://localhost:8080/"
    },
    "id": "yfintTkfbwYd",
    "outputId": "f95048a6-2a52-4440-f112-a804dab1bb51"
   },
   "outputs": [
    {
     "data": {
      "text/plain": [
       "1    577\n",
       "0    314\n",
       "Name: Sex, dtype: int64"
      ]
     },
     "execution_count": 17,
     "metadata": {
      "tags": []
     },
     "output_type": "execute_result"
    }
   ],
   "source": [
    "train['Sex'].value_counts()"
   ]
  },
  {
   "cell_type": "code",
   "execution_count": null,
   "metadata": {
    "colab": {
     "base_uri": "https://localhost:8080/"
    },
    "id": "xwECd3jPb5X8",
    "outputId": "bc61015a-0133-4a2a-8707-9adc03710b4e"
   },
   "outputs": [
    {
     "data": {
      "text/plain": [
       "array(['female', 'male'], dtype=object)"
      ]
     },
     "execution_count": 18,
     "metadata": {
      "tags": []
     },
     "output_type": "execute_result"
    }
   ],
   "source": [
    "le.classes_"
   ]
  },
  {
   "cell_type": "code",
   "execution_count": null,
   "metadata": {
    "colab": {
     "base_uri": "https://localhost:8080/"
    },
    "id": "hERnOeJYb-1N",
    "outputId": "608cb3c2-b5e4-4482-e492-1eb7c17c4e0d"
   },
   "outputs": [
    {
     "data": {
      "text/plain": [
       "array(['female', 'male', 'male', 'female', 'female', 'male', 'male'],\n",
       "      dtype=object)"
      ]
     },
     "execution_count": 19,
     "metadata": {
      "tags": []
     },
     "output_type": "execute_result"
    }
   ],
   "source": [
    "# 다시원래대로 \n",
    "le.inverse_transform([0,1,1,0,0,1,1])"
   ]
  },
  {
   "cell_type": "markdown",
   "metadata": {
    "id": "z9Q3cyVZcEnF"
   },
   "source": [
    "NaN값이 포함되어 있다면, LabelEncoder가 적상적으로 동작하지 않는다."
   ]
  },
  {
   "cell_type": "markdown",
   "metadata": {
    "id": "aR6Ah1CEilEq"
   },
   "source": [
    "## One-Hot Encoding"
   ]
  },
  {
   "cell_type": "code",
   "execution_count": null,
   "metadata": {
    "id": "odIbrR_zcCCt"
   },
   "outputs": [],
   "source": [
    "train = pd.read_csv('https://bit.ly/fc-ml-titanic')"
   ]
  },
  {
   "cell_type": "code",
   "execution_count": null,
   "metadata": {
    "colab": {
     "base_uri": "https://localhost:8080/"
    },
    "id": "KGkmpy9wi04g",
    "outputId": "ec116022-f44e-4d4b-d690-ae67818d4b8d"
   },
   "outputs": [
    {
     "data": {
      "text/plain": [
       "S    644\n",
       "C    168\n",
       "Q     77\n",
       "Name: Embarked, dtype: int64"
      ]
     },
     "execution_count": 22,
     "metadata": {
      "tags": []
     },
     "output_type": "execute_result"
    }
   ],
   "source": [
    "train['Embarked'].value_counts()"
   ]
  },
  {
   "cell_type": "code",
   "execution_count": null,
   "metadata": {
    "id": "HQPlzcEji_dy"
   },
   "outputs": [],
   "source": [
    "# NaN값 제거\n",
    "train['Embarked'] = train['Embarked'].fillna('S')"
   ]
  },
  {
   "cell_type": "code",
   "execution_count": null,
   "metadata": {
    "colab": {
     "base_uri": "https://localhost:8080/"
    },
    "id": "KzSN8YSIjHm4",
    "outputId": "6a258911-2c64-4f3d-99d4-e7699ccaeeab"
   },
   "outputs": [
    {
     "data": {
      "text/plain": [
       "S    646\n",
       "C    168\n",
       "Q     77\n",
       "Name: Embarked, dtype: int64"
      ]
     },
     "execution_count": 24,
     "metadata": {
      "tags": []
     },
     "output_type": "execute_result"
    }
   ],
   "source": [
    "train['Embarked'].value_counts()"
   ]
  },
  {
   "cell_type": "markdown",
   "metadata": {
    "id": "m15SFiGmjX88"
   },
   "source": [
    "여기서 만약 LabelEncoding을 하게 되면 0, 1, 2이렇게 변환이 된다.\n",
    "Embarked는 항구 이름에 대한것인데 S = 2 이고 Q =1 일때  Q + Q = S가 된다. 즉 규칙성이 갑자기 생겨버리게 된다. 따라서 이런 독립적인 데이터는 별도로 분리하는 방법이 원핫인코딩이다."
   ]
  },
  {
   "cell_type": "code",
   "execution_count": null,
   "metadata": {
    "colab": {
     "base_uri": "https://localhost:8080/"
    },
    "id": "Tn9VjFqvjIPS",
    "outputId": "5ba2d0d8-0f0f-4c5c-e30f-a5d656ea6070"
   },
   "outputs": [
    {
     "data": {
      "text/plain": [
       "0    S\n",
       "1    C\n",
       "2    S\n",
       "3    S\n",
       "4    S\n",
       "5    Q\n",
       "Name: Embarked, dtype: object"
      ]
     },
     "execution_count": 25,
     "metadata": {
      "tags": []
     },
     "output_type": "execute_result"
    }
   ],
   "source": [
    "train['Embarked'][:6]"
   ]
  },
  {
   "cell_type": "code",
   "execution_count": null,
   "metadata": {
    "colab": {
     "base_uri": "https://localhost:8080/",
     "height": 235
    },
    "id": "hWO5rWIhj5vs",
    "outputId": "0fb769dd-57e5-4969-a675-13aa6d935558"
   },
   "outputs": [
    {
     "data": {
      "text/html": [
       "<div>\n",
       "<style scoped>\n",
       "    .dataframe tbody tr th:only-of-type {\n",
       "        vertical-align: middle;\n",
       "    }\n",
       "\n",
       "    .dataframe tbody tr th {\n",
       "        vertical-align: top;\n",
       "    }\n",
       "\n",
       "    .dataframe thead th {\n",
       "        text-align: right;\n",
       "    }\n",
       "</style>\n",
       "<table border=\"1\" class=\"dataframe\">\n",
       "  <thead>\n",
       "    <tr style=\"text-align: right;\">\n",
       "      <th></th>\n",
       "      <th>C</th>\n",
       "      <th>Q</th>\n",
       "      <th>S</th>\n",
       "    </tr>\n",
       "  </thead>\n",
       "  <tbody>\n",
       "    <tr>\n",
       "      <th>0</th>\n",
       "      <td>0</td>\n",
       "      <td>0</td>\n",
       "      <td>1</td>\n",
       "    </tr>\n",
       "    <tr>\n",
       "      <th>1</th>\n",
       "      <td>1</td>\n",
       "      <td>0</td>\n",
       "      <td>0</td>\n",
       "    </tr>\n",
       "    <tr>\n",
       "      <th>2</th>\n",
       "      <td>0</td>\n",
       "      <td>0</td>\n",
       "      <td>1</td>\n",
       "    </tr>\n",
       "    <tr>\n",
       "      <th>3</th>\n",
       "      <td>0</td>\n",
       "      <td>0</td>\n",
       "      <td>1</td>\n",
       "    </tr>\n",
       "    <tr>\n",
       "      <th>4</th>\n",
       "      <td>0</td>\n",
       "      <td>0</td>\n",
       "      <td>1</td>\n",
       "    </tr>\n",
       "    <tr>\n",
       "      <th>5</th>\n",
       "      <td>0</td>\n",
       "      <td>1</td>\n",
       "      <td>0</td>\n",
       "    </tr>\n",
       "  </tbody>\n",
       "</table>\n",
       "</div>"
      ],
      "text/plain": [
       "   C  Q  S\n",
       "0  0  0  1\n",
       "1  1  0  0\n",
       "2  0  0  1\n",
       "3  0  0  1\n",
       "4  0  0  1\n",
       "5  0  1  0"
      ]
     },
     "execution_count": 26,
     "metadata": {
      "tags": []
     },
     "output_type": "execute_result"
    }
   ],
   "source": [
    "# 원핫 인코딩 사용 (pd.get_dummies())\n",
    "pd.get_dummies(train['Embarked'][:6])"
   ]
  },
  {
   "cell_type": "markdown",
   "metadata": {
    "id": "NEBIOn-9k0a_"
   },
   "source": [
    "이렇게 원핫인코딩은 카테고리 의 특성을 가지는 column에 대해서 적용 한다."
   ]
  },
  {
   "cell_type": "markdown",
   "metadata": {
    "id": "6jnjhNNHlb8w"
   },
   "source": [
    "norminal 데이터 : 원핫인코딩, map\n",
    "ordinal 데이터 : LabelEncoding"
   ]
  },
  {
   "cell_type": "markdown",
   "metadata": {
    "id": "MtTVOK32zucd"
   },
   "source": [
    "## Normalize (정규화)"
   ]
  },
  {
   "cell_type": "markdown",
   "metadata": {
    "id": "kbN7_Or4z1qV"
   },
   "source": [
    "column 간에 다른 min, max값을 가지는 경우, 정규화를 통해 최소치/ 최대값의 척도를 맞추어 주는것\n",
    "\n",
    "- 네이버 영화평점 (0점~ 10점) : [2, 4, 6, 8, 10]\n",
    "- 넷플릭스 영화평점 (0점 ~ 5점) : [1, 2, 3, 4, 5]"
   ]
  },
  {
   "cell_type": "code",
   "execution_count": null,
   "metadata": {
    "id": "lHtase68kIe6"
   },
   "outputs": [],
   "source": [
    "movie = {'naver' : [2, 4, 6, 8, 10],\n",
    "         'netflix' : [1, 2, 3, 4, 5]\n",
    "         }"
   ]
  },
  {
   "cell_type": "code",
   "execution_count": null,
   "metadata": {
    "colab": {
     "base_uri": "https://localhost:8080/",
     "height": 198
    },
    "id": "bcLwvOCB0ivy",
    "outputId": "011f3512-36a9-434f-d8b7-dfd79e6f482e"
   },
   "outputs": [
    {
     "data": {
      "text/html": [
       "<div>\n",
       "<style scoped>\n",
       "    .dataframe tbody tr th:only-of-type {\n",
       "        vertical-align: middle;\n",
       "    }\n",
       "\n",
       "    .dataframe tbody tr th {\n",
       "        vertical-align: top;\n",
       "    }\n",
       "\n",
       "    .dataframe thead th {\n",
       "        text-align: right;\n",
       "    }\n",
       "</style>\n",
       "<table border=\"1\" class=\"dataframe\">\n",
       "  <thead>\n",
       "    <tr style=\"text-align: right;\">\n",
       "      <th></th>\n",
       "      <th>naver</th>\n",
       "      <th>netflix</th>\n",
       "    </tr>\n",
       "  </thead>\n",
       "  <tbody>\n",
       "    <tr>\n",
       "      <th>0</th>\n",
       "      <td>2</td>\n",
       "      <td>1</td>\n",
       "    </tr>\n",
       "    <tr>\n",
       "      <th>1</th>\n",
       "      <td>4</td>\n",
       "      <td>2</td>\n",
       "    </tr>\n",
       "    <tr>\n",
       "      <th>2</th>\n",
       "      <td>6</td>\n",
       "      <td>3</td>\n",
       "    </tr>\n",
       "    <tr>\n",
       "      <th>3</th>\n",
       "      <td>8</td>\n",
       "      <td>4</td>\n",
       "    </tr>\n",
       "    <tr>\n",
       "      <th>4</th>\n",
       "      <td>10</td>\n",
       "      <td>5</td>\n",
       "    </tr>\n",
       "  </tbody>\n",
       "</table>\n",
       "</div>"
      ],
      "text/plain": [
       "   naver  netflix\n",
       "0      2        1\n",
       "1      4        2\n",
       "2      6        3\n",
       "3      8        4\n",
       "4     10        5"
      ]
     },
     "execution_count": 4,
     "metadata": {
      "tags": []
     },
     "output_type": "execute_result"
    }
   ],
   "source": [
    "import pandas as pd\n",
    "movie = pd.DataFrame(data = movie)\n",
    "movie"
   ]
  },
  {
   "cell_type": "code",
   "execution_count": null,
   "metadata": {
    "id": "MmEg48wO0r8a"
   },
   "outputs": [],
   "source": [
    "from sklearn.preprocessing import MinMaxScaler"
   ]
  },
  {
   "cell_type": "code",
   "execution_count": null,
   "metadata": {
    "id": "xJa0e1iO0xtS"
   },
   "outputs": [],
   "source": [
    "min_max_scaler = MinMaxScaler()"
   ]
  },
  {
   "cell_type": "code",
   "execution_count": null,
   "metadata": {
    "id": "21LKxv3u02oK"
   },
   "outputs": [],
   "source": [
    "min_max_movie = min_max_scaler.fit_transform(movie)"
   ]
  },
  {
   "cell_type": "code",
   "execution_count": null,
   "metadata": {
    "colab": {
     "base_uri": "https://localhost:8080/",
     "height": 198
    },
    "id": "D2hG5wvc0-gK",
    "outputId": "0d22b3df-d5bf-49b8-ccdf-55b590a6e0fb"
   },
   "outputs": [
    {
     "data": {
      "text/html": [
       "<div>\n",
       "<style scoped>\n",
       "    .dataframe tbody tr th:only-of-type {\n",
       "        vertical-align: middle;\n",
       "    }\n",
       "\n",
       "    .dataframe tbody tr th {\n",
       "        vertical-align: top;\n",
       "    }\n",
       "\n",
       "    .dataframe thead th {\n",
       "        text-align: right;\n",
       "    }\n",
       "</style>\n",
       "<table border=\"1\" class=\"dataframe\">\n",
       "  <thead>\n",
       "    <tr style=\"text-align: right;\">\n",
       "      <th></th>\n",
       "      <th>naver</th>\n",
       "      <th>netflix</th>\n",
       "    </tr>\n",
       "  </thead>\n",
       "  <tbody>\n",
       "    <tr>\n",
       "      <th>0</th>\n",
       "      <td>0.00</td>\n",
       "      <td>0.00</td>\n",
       "    </tr>\n",
       "    <tr>\n",
       "      <th>1</th>\n",
       "      <td>0.25</td>\n",
       "      <td>0.25</td>\n",
       "    </tr>\n",
       "    <tr>\n",
       "      <th>2</th>\n",
       "      <td>0.50</td>\n",
       "      <td>0.50</td>\n",
       "    </tr>\n",
       "    <tr>\n",
       "      <th>3</th>\n",
       "      <td>0.75</td>\n",
       "      <td>0.75</td>\n",
       "    </tr>\n",
       "    <tr>\n",
       "      <th>4</th>\n",
       "      <td>1.00</td>\n",
       "      <td>1.00</td>\n",
       "    </tr>\n",
       "  </tbody>\n",
       "</table>\n",
       "</div>"
      ],
      "text/plain": [
       "   naver  netflix\n",
       "0   0.00     0.00\n",
       "1   0.25     0.25\n",
       "2   0.50     0.50\n",
       "3   0.75     0.75\n",
       "4   1.00     1.00"
      ]
     },
     "execution_count": 8,
     "metadata": {
      "tags": []
     },
     "output_type": "execute_result"
    }
   ],
   "source": [
    "pd.DataFrame(min_max_movie, columns=['naver', 'netflix'])"
   ]
  },
  {
   "cell_type": "markdown",
   "metadata": {
    "id": "cBxDLhvG1VmD"
   },
   "source": [
    "## 표준화 (Standard Scaling)\n"
   ]
  },
  {
   "cell_type": "markdown",
   "metadata": {
    "id": "-S1IW-921Z1s"
   },
   "source": [
    "평균이 0과 표준편차가 1이 되도록 변환"
   ]
  },
  {
   "cell_type": "code",
   "execution_count": null,
   "metadata": {
    "id": "h8VF1Qhv1FfW"
   },
   "outputs": [],
   "source": [
    "from sklearn.preprocessing import StandardScaler\n",
    "standard_scaler = StandardScaler()"
   ]
  },
  {
   "cell_type": "markdown",
   "metadata": {
    "id": "2p2Qatf01l9d"
   },
   "source": [
    "샘플데이터를 생성합니다"
   ]
  },
  {
   "cell_type": "code",
   "execution_count": null,
   "metadata": {
    "id": "sLkcyoxw1lQZ"
   },
   "outputs": [],
   "source": [
    "x = np.arange(10)\n",
    "# outlier 추가\n",
    "x[9] = 1000"
   ]
  },
  {
   "cell_type": "code",
   "execution_count": null,
   "metadata": {
    "colab": {
     "base_uri": "https://localhost:8080/"
    },
    "id": "2Wxf0Ucp10qo",
    "outputId": "a3c95c80-34ca-40cc-e457-b9d3a27f958f"
   },
   "outputs": [
    {
     "data": {
      "text/plain": [
       "(103.6, 298.8100399919654)"
      ]
     },
     "execution_count": 11,
     "metadata": {
      "tags": []
     },
     "output_type": "execute_result"
    }
   ],
   "source": [
    "x.mean(), x.std()"
   ]
  },
  {
   "cell_type": "code",
   "execution_count": null,
   "metadata": {
    "id": "IX5mVvja14bd"
   },
   "outputs": [],
   "source": [
    "scaled = standard_scaler.fit_transform(x.reshape(-1,1))"
   ]
  },
  {
   "cell_type": "code",
   "execution_count": null,
   "metadata": {
    "colab": {
     "base_uri": "https://localhost:8080/"
    },
    "id": "_yur-Qmu2ABI",
    "outputId": "6766a896-7b6c-42d4-a2dc-d38d9c5b38c8"
   },
   "outputs": [
    {
     "data": {
      "text/plain": [
       "(103.6, 298.8100399919654)"
      ]
     },
     "execution_count": 13,
     "metadata": {
      "tags": []
     },
     "output_type": "execute_result"
    }
   ],
   "source": [
    "x.mean(), x.std()"
   ]
  },
  {
   "cell_type": "code",
   "execution_count": null,
   "metadata": {
    "colab": {
     "base_uri": "https://localhost:8080/"
    },
    "id": "7eEm7bvw2EOD",
    "outputId": "5128fdca-df98-4abc-9d41-87bbf2b71842"
   },
   "outputs": [
    {
     "data": {
      "text/plain": [
       "(4.4408920985006264e-17, 1.0)"
      ]
     },
     "execution_count": 14,
     "metadata": {
      "tags": []
     },
     "output_type": "execute_result"
    }
   ],
   "source": [
    "scaled.mean(), scaled.std()"
   ]
  },
  {
   "cell_type": "code",
   "execution_count": null,
   "metadata": {
    "colab": {
     "base_uri": "https://localhost:8080/"
    },
    "id": "SbBOoHFl2HTd",
    "outputId": "58ef3255-1499-427c-bca6-a5f204fdbda8"
   },
   "outputs": [
    {
     "data": {
      "text/plain": [
       "(0.0, 1.0)"
      ]
     },
     "execution_count": 15,
     "metadata": {
      "tags": []
     },
     "output_type": "execute_result"
    }
   ],
   "source": [
    "round(scaled.mean(), 2), scaled.std()"
   ]
  },
  {
   "cell_type": "markdown",
   "metadata": {
    "id": "UqkgJnbe97PH"
   },
   "source": [
    "# 분류(Classification)"
   ]
  },
  {
   "cell_type": "code",
   "execution_count": 1,
   "metadata": {
    "id": "tNiwXcbW2NxP"
   },
   "outputs": [],
   "source": [
    "import warnings\n",
    "# 불 필요한 경고 출력을 방지한다.\n",
    "warnings.filterwarnings('ignore')"
   ]
  },
  {
   "cell_type": "code",
   "execution_count": 2,
   "metadata": {
    "id": "dt1b48Vm-OxA"
   },
   "outputs": [],
   "source": [
    "import pandas as pd"
   ]
  },
  {
   "cell_type": "markdown",
   "metadata": {
    "id": "_QfHZZMj-S-E"
   },
   "source": [
    "## iris데이터 셋 "
   ]
  },
  {
   "cell_type": "code",
   "execution_count": 3,
   "metadata": {
    "id": "nhoKpvuN-Pkc"
   },
   "outputs": [],
   "source": [
    "from sklearn.datasets import load_iris"
   ]
  },
  {
   "cell_type": "code",
   "execution_count": 4,
   "metadata": {
    "id": "6EsOEnQS-f3Z"
   },
   "outputs": [],
   "source": [
    "# iris 데이터셋을 로드합니다.\n",
    "iris = load_iris"
   ]
  },
  {
   "cell_type": "code",
   "execution_count": 5,
   "metadata": {
    "colab": {
     "base_uri": "https://localhost:8080/"
    },
    "id": "_N71ZuP2-jbB",
    "outputId": "09e726e6-acb1-416f-86c5-4a99c34c4462"
   },
   "outputs": [
    {
     "data": {
      "text/plain": [
       "<function sklearn.datasets._base.load_iris>"
      ]
     },
     "execution_count": 5,
     "metadata": {
      "tags": []
     },
     "output_type": "execute_result"
    }
   ],
   "source": [
    "iris"
   ]
  },
  {
   "cell_type": "markdown",
   "metadata": {
    "id": "saoFLZSv-rgG"
   },
   "source": [
    "- DESCR : 데이터셋의 정보를 보여준다.\n",
    "- data : feature data.\n",
    "- feature_names : feature data의 컬럼 이름\n",
    "- target : label data(수치형)\n",
    "- target_names : label의 이름(문자형)"
   ]
  },
  {
   "cell_type": "code",
   "execution_count": null,
   "metadata": {
    "id": "qfBufjIq-k9R"
   },
   "outputs": [],
   "source": []
  }
 ],
 "metadata": {
  "colab": {
   "name": "ML_basic.ipynb",
   "provenance": []
  },
  "kernelspec": {
   "display_name": "Python 3",
   "language": "python",
   "name": "python3"
  },
  "language_info": {
   "codemirror_mode": {
    "name": "ipython",
    "version": 3
   },
   "file_extension": ".py",
   "mimetype": "text/x-python",
   "name": "python",
   "nbconvert_exporter": "python",
   "pygments_lexer": "ipython3",
   "version": "3.7.6"
  }
 },
 "nbformat": 4,
 "nbformat_minor": 1
}
