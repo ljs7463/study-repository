{
 "cells": [
  {
   "cell_type": "code",
   "execution_count": 1,
   "id": "4f26cd69",
   "metadata": {},
   "outputs": [
    {
     "name": "stdout",
     "output_type": "stream",
     "text": [
      "Collecting finance-datareader\n",
      "  Downloading finance_datareader-0.9.31-py3-none-any.whl (17 kB)\n",
      "Collecting requests>=2.3.0\n",
      "  Downloading requests-2.27.1-py2.py3-none-any.whl (63 kB)\n",
      "\u001b[K     |████████████████████████████████| 63 kB 3.4 MB/s eta 0:00:011\n",
      "\u001b[?25hCollecting requests-file\n",
      "  Downloading requests_file-1.5.1-py2.py3-none-any.whl (3.7 kB)\n",
      "Collecting tqdm\n",
      "  Downloading tqdm-4.63.0-py2.py3-none-any.whl (76 kB)\n",
      "\u001b[K     |████████████████████████████████| 76 kB 4.0 MB/s eta 0:00:01\n",
      "\u001b[?25hCollecting lxml\n",
      "  Downloading lxml-4.8.0-cp38-cp38-macosx_10_14_x86_64.whl (4.5 MB)\n",
      "\u001b[K     |████████████████████████████████| 4.5 MB 5.9 MB/s eta 0:00:01\n",
      "\u001b[?25hRequirement already satisfied: pandas>=0.19.2 in /Users/jeongseok/opt/anaconda3/envs/main/lib/python3.8/site-packages (from finance-datareader) (1.4.1)\n",
      "Requirement already satisfied: python-dateutil>=2.8.1 in /Users/jeongseok/opt/anaconda3/envs/main/lib/python3.8/site-packages (from pandas>=0.19.2->finance-datareader) (2.8.2)\n",
      "Requirement already satisfied: pytz>=2020.1 in /Users/jeongseok/opt/anaconda3/envs/main/lib/python3.8/site-packages (from pandas>=0.19.2->finance-datareader) (2021.3)\n",
      "Requirement already satisfied: numpy>=1.18.5 in /Users/jeongseok/opt/anaconda3/envs/main/lib/python3.8/site-packages (from pandas>=0.19.2->finance-datareader) (1.22.3)\n",
      "Requirement already satisfied: six>=1.5 in /Users/jeongseok/opt/anaconda3/envs/main/lib/python3.8/site-packages (from python-dateutil>=2.8.1->pandas>=0.19.2->finance-datareader) (1.16.0)\n",
      "Collecting idna<4,>=2.5\n",
      "  Downloading idna-3.3-py3-none-any.whl (61 kB)\n",
      "\u001b[K     |████████████████████████████████| 61 kB 6.7 MB/s eta 0:00:011\n",
      "\u001b[?25hCollecting urllib3<1.27,>=1.21.1\n",
      "  Downloading urllib3-1.26.8-py2.py3-none-any.whl (138 kB)\n",
      "\u001b[K     |████████████████████████████████| 138 kB 6.9 MB/s eta 0:00:01\n",
      "\u001b[?25hRequirement already satisfied: certifi>=2017.4.17 in /Users/jeongseok/opt/anaconda3/envs/main/lib/python3.8/site-packages (from requests>=2.3.0->finance-datareader) (2021.10.8)\n",
      "Collecting charset-normalizer~=2.0.0\n",
      "  Downloading charset_normalizer-2.0.12-py3-none-any.whl (39 kB)\n",
      "Installing collected packages: urllib3, idna, charset-normalizer, requests, tqdm, requests-file, lxml, finance-datareader\n",
      "Successfully installed charset-normalizer-2.0.12 finance-datareader-0.9.31 idna-3.3 lxml-4.8.0 requests-2.27.1 requests-file-1.5.1 tqdm-4.63.0 urllib3-1.26.8\n"
     ]
    }
   ],
   "source": [
    "# Download finance-datareader \n",
    "!pip install -U finance-datareader"
   ]
  },
  {
   "cell_type": "code",
   "execution_count": 4,
   "id": "1685a21d",
   "metadata": {},
   "outputs": [
    {
     "name": "stdout",
     "output_type": "stream",
     "text": [
      "Collecting beautifulsoup4\n",
      "  Downloading beautifulsoup4-4.10.0-py3-none-any.whl (97 kB)\n",
      "\u001b[K     |████████████████████████████████| 97 kB 3.1 MB/s eta 0:00:011\n",
      "\u001b[?25hCollecting soupsieve>1.2\n",
      "  Downloading soupsieve-2.3.1-py3-none-any.whl (37 kB)\n",
      "Installing collected packages: soupsieve, beautifulsoup4\n",
      "Successfully installed beautifulsoup4-4.10.0 soupsieve-2.3.1\n"
     ]
    }
   ],
   "source": [
    "!pip install beautifulsoup4 "
   ]
  },
  {
   "cell_type": "code",
   "execution_count": 5,
   "id": "691d5b58",
   "metadata": {},
   "outputs": [
    {
     "name": "stdout",
     "output_type": "stream",
     "text": [
      "Collecting openpyxl\n",
      "  Downloading openpyxl-3.0.9-py2.py3-none-any.whl (242 kB)\n",
      "\u001b[K     |████████████████████████████████| 242 kB 3.9 MB/s eta 0:00:01\n",
      "\u001b[?25hCollecting et-xmlfile\n",
      "  Downloading et_xmlfile-1.1.0-py3-none-any.whl (4.7 kB)\n",
      "Installing collected packages: et-xmlfile, openpyxl\n",
      "Successfully installed et-xmlfile-1.1.0 openpyxl-3.0.9\n"
     ]
    }
   ],
   "source": [
    "!pip install openpyxl"
   ]
  },
  {
   "cell_type": "code",
   "execution_count": 1,
   "id": "7db9dd18",
   "metadata": {},
   "outputs": [],
   "source": [
    "import FinanceDataReader as fdr"
   ]
  },
  {
   "cell_type": "code",
   "execution_count": 10,
   "id": "c8a5eef4",
   "metadata": {},
   "outputs": [],
   "source": [
    "fdr.DataReader?"
   ]
  },
  {
   "cell_type": "code",
   "execution_count": 2,
   "id": "23141d9d",
   "metadata": {},
   "outputs": [],
   "source": [
    "samsung = fdr.DataReader(\"005930\")"
   ]
  },
  {
   "cell_type": "code",
   "execution_count": 3,
   "id": "0741662c",
   "metadata": {},
   "outputs": [
    {
     "data": {
      "text/html": [
       "<div>\n",
       "<style scoped>\n",
       "    .dataframe tbody tr th:only-of-type {\n",
       "        vertical-align: middle;\n",
       "    }\n",
       "\n",
       "    .dataframe tbody tr th {\n",
       "        vertical-align: top;\n",
       "    }\n",
       "\n",
       "    .dataframe thead th {\n",
       "        text-align: right;\n",
       "    }\n",
       "</style>\n",
       "<table border=\"1\" class=\"dataframe\">\n",
       "  <thead>\n",
       "    <tr style=\"text-align: right;\">\n",
       "      <th></th>\n",
       "      <th>Open</th>\n",
       "      <th>High</th>\n",
       "      <th>Low</th>\n",
       "      <th>Close</th>\n",
       "      <th>Volume</th>\n",
       "      <th>Change</th>\n",
       "    </tr>\n",
       "    <tr>\n",
       "      <th>Date</th>\n",
       "      <th></th>\n",
       "      <th></th>\n",
       "      <th></th>\n",
       "      <th></th>\n",
       "      <th></th>\n",
       "      <th></th>\n",
       "    </tr>\n",
       "  </thead>\n",
       "  <tbody>\n",
       "    <tr>\n",
       "      <th>1998-01-22</th>\n",
       "      <td>1307</td>\n",
       "      <td>1325</td>\n",
       "      <td>1214</td>\n",
       "      <td>1215</td>\n",
       "      <td>905730</td>\n",
       "      <td>NaN</td>\n",
       "    </tr>\n",
       "    <tr>\n",
       "      <th>1998-01-23</th>\n",
       "      <td>1234</td>\n",
       "      <td>1263</td>\n",
       "      <td>1200</td>\n",
       "      <td>1262</td>\n",
       "      <td>616720</td>\n",
       "      <td>0.038683</td>\n",
       "    </tr>\n",
       "    <tr>\n",
       "      <th>1998-01-24</th>\n",
       "      <td>1288</td>\n",
       "      <td>1361</td>\n",
       "      <td>1270</td>\n",
       "      <td>1362</td>\n",
       "      <td>467950</td>\n",
       "      <td>0.079239</td>\n",
       "    </tr>\n",
       "    <tr>\n",
       "      <th>1998-01-26</th>\n",
       "      <td>1377</td>\n",
       "      <td>1468</td>\n",
       "      <td>1377</td>\n",
       "      <td>1461</td>\n",
       "      <td>1244670</td>\n",
       "      <td>0.072687</td>\n",
       "    </tr>\n",
       "    <tr>\n",
       "      <th>1998-01-30</th>\n",
       "      <td>1577</td>\n",
       "      <td>1577</td>\n",
       "      <td>1561</td>\n",
       "      <td>1578</td>\n",
       "      <td>700090</td>\n",
       "      <td>0.080082</td>\n",
       "    </tr>\n",
       "    <tr>\n",
       "      <th>...</th>\n",
       "      <td>...</td>\n",
       "      <td>...</td>\n",
       "      <td>...</td>\n",
       "      <td>...</td>\n",
       "      <td>...</td>\n",
       "      <td>...</td>\n",
       "    </tr>\n",
       "    <tr>\n",
       "      <th>2022-03-02</th>\n",
       "      <td>72300</td>\n",
       "      <td>72400</td>\n",
       "      <td>71500</td>\n",
       "      <td>71700</td>\n",
       "      <td>12481430</td>\n",
       "      <td>-0.005548</td>\n",
       "    </tr>\n",
       "    <tr>\n",
       "      <th>2022-03-03</th>\n",
       "      <td>72300</td>\n",
       "      <td>73100</td>\n",
       "      <td>72200</td>\n",
       "      <td>72900</td>\n",
       "      <td>13232638</td>\n",
       "      <td>0.016736</td>\n",
       "    </tr>\n",
       "    <tr>\n",
       "      <th>2022-03-04</th>\n",
       "      <td>72700</td>\n",
       "      <td>72700</td>\n",
       "      <td>71200</td>\n",
       "      <td>71500</td>\n",
       "      <td>13409634</td>\n",
       "      <td>-0.019204</td>\n",
       "    </tr>\n",
       "    <tr>\n",
       "      <th>2022-03-07</th>\n",
       "      <td>70000</td>\n",
       "      <td>70600</td>\n",
       "      <td>69900</td>\n",
       "      <td>70100</td>\n",
       "      <td>18617138</td>\n",
       "      <td>-0.019580</td>\n",
       "    </tr>\n",
       "    <tr>\n",
       "      <th>2022-03-08</th>\n",
       "      <td>68800</td>\n",
       "      <td>70000</td>\n",
       "      <td>68700</td>\n",
       "      <td>69500</td>\n",
       "      <td>15720806</td>\n",
       "      <td>-0.008559</td>\n",
       "    </tr>\n",
       "  </tbody>\n",
       "</table>\n",
       "<p>6000 rows × 6 columns</p>\n",
       "</div>"
      ],
      "text/plain": [
       "             Open   High    Low  Close    Volume    Change\n",
       "Date                                                      \n",
       "1998-01-22   1307   1325   1214   1215    905730       NaN\n",
       "1998-01-23   1234   1263   1200   1262    616720  0.038683\n",
       "1998-01-24   1288   1361   1270   1362    467950  0.079239\n",
       "1998-01-26   1377   1468   1377   1461   1244670  0.072687\n",
       "1998-01-30   1577   1577   1561   1578    700090  0.080082\n",
       "...           ...    ...    ...    ...       ...       ...\n",
       "2022-03-02  72300  72400  71500  71700  12481430 -0.005548\n",
       "2022-03-03  72300  73100  72200  72900  13232638  0.016736\n",
       "2022-03-04  72700  72700  71200  71500  13409634 -0.019204\n",
       "2022-03-07  70000  70600  69900  70100  18617138 -0.019580\n",
       "2022-03-08  68800  70000  68700  69500  15720806 -0.008559\n",
       "\n",
       "[6000 rows x 6 columns]"
      ]
     },
     "execution_count": 3,
     "metadata": {},
     "output_type": "execute_result"
    }
   ],
   "source": [
    "samsung"
   ]
  },
  {
   "cell_type": "code",
   "execution_count": 6,
   "id": "3e5a80ea",
   "metadata": {},
   "outputs": [],
   "source": [
    "samsung.to_excel('samsung.xlsx')"
   ]
  },
  {
   "cell_type": "code",
   "execution_count": 17,
   "id": "b3945fe9",
   "metadata": {},
   "outputs": [
    {
     "name": "stdout",
     "output_type": "stream",
     "text": [
      "Collecting matplotlib\n",
      "  Downloading matplotlib-3.5.1-cp38-cp38-macosx_10_9_x86_64.whl (7.3 MB)\n",
      "\u001b[K     |████████████████████████████████| 7.3 MB 7.4 MB/s eta 0:00:01\n",
      "\u001b[?25hRequirement already satisfied: packaging>=20.0 in /Users/jeongseok/opt/anaconda3/envs/main/lib/python3.8/site-packages (from matplotlib) (21.3)\n",
      "Requirement already satisfied: numpy>=1.17 in /Users/jeongseok/opt/anaconda3/envs/main/lib/python3.8/site-packages (from matplotlib) (1.22.3)\n",
      "Collecting fonttools>=4.22.0\n",
      "  Downloading fonttools-4.29.1-py3-none-any.whl (895 kB)\n",
      "\u001b[K     |████████████████████████████████| 895 kB 4.0 MB/s eta 0:00:01\n",
      "\u001b[?25hRequirement already satisfied: pyparsing>=2.2.1 in /Users/jeongseok/opt/anaconda3/envs/main/lib/python3.8/site-packages (from matplotlib) (3.0.4)\n",
      "Collecting pillow>=6.2.0\n",
      "  Downloading Pillow-9.0.1-cp38-cp38-macosx_10_10_x86_64.whl (3.0 MB)\n",
      "\u001b[K     |████████████████████████████████| 3.0 MB 6.9 MB/s eta 0:00:01\n",
      "\u001b[?25hCollecting kiwisolver>=1.0.1\n",
      "  Downloading kiwisolver-1.3.2-cp38-cp38-macosx_10_9_x86_64.whl (61 kB)\n",
      "\u001b[K     |████████████████████████████████| 61 kB 890 kB/s eta 0:00:011\n",
      "\u001b[?25hCollecting cycler>=0.10\n",
      "  Downloading cycler-0.11.0-py3-none-any.whl (6.4 kB)\n",
      "Requirement already satisfied: python-dateutil>=2.7 in /Users/jeongseok/opt/anaconda3/envs/main/lib/python3.8/site-packages (from matplotlib) (2.8.2)\n",
      "Requirement already satisfied: six>=1.5 in /Users/jeongseok/opt/anaconda3/envs/main/lib/python3.8/site-packages (from python-dateutil>=2.7->matplotlib) (1.16.0)\n",
      "Installing collected packages: pillow, kiwisolver, fonttools, cycler, matplotlib\n",
      "Successfully installed cycler-0.11.0 fonttools-4.29.1 kiwisolver-1.3.2 matplotlib-3.5.1 pillow-9.0.1\n"
     ]
    }
   ],
   "source": [
    "!pip install matplotlib"
   ]
  },
  {
   "cell_type": "code",
   "execution_count": 19,
   "id": "d721cd1f",
   "metadata": {},
   "outputs": [
    {
     "data": {
      "text/plain": [
       "<AxesSubplot:xlabel='Date'>"
      ]
     },
     "execution_count": 19,
     "metadata": {},
     "output_type": "execute_result"
    },
    {
     "data": {
      "image/png": "[encoded data removed]",
      "text/plain": [
       "<Figure size 864x360 with 1 Axes>"
      ]
     },
     "metadata": {
      "needs_background": "light"
     },
     "output_type": "display_data"
    }
   ],
   "source": [
    "import matplotlib.pyplot as plt\n",
    "samsung['Close'].plot(figsize =(12,5))"
   ]
  },
  {
   "cell_type": "code",
   "execution_count": null,
   "id": "e298bba2",
   "metadata": {},
   "outputs": [],
   "source": []
  }
 ],
 "metadata": {
  "kernelspec": {
   "display_name": "Python 3 (ipykernel)",
   "language": "python",
   "name": "python3"
  },
  "language_info": {
   "codemirror_mode": {
    "name": "ipython",
    "version": 3
   },
   "file_extension": ".py",
   "mimetype": "text/x-python",
   "name": "python",
   "nbconvert_exporter": "python",
   "pygments_lexer": "ipython3",
   "version": "3.8.12"
  }
 },
 "nbformat": 4,
 "nbformat_minor": 5
}
