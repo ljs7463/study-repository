{
 "cells": [
  {
   "cell_type": "code",
   "execution_count": 15,
   "metadata": {
    "scrolled": true
   },
   "outputs": [],
   "source": [
    "import requests\n",
    "from bs4 import BeautifulSoup"
   ]
  },
  {
   "cell_type": "code",
   "execution_count": 249,
   "metadata": {},
   "outputs": [],
   "source": [
    "BASE_URL = \"https://movie.naver.com/movie/board/review/list.naver\"\n",
    "url = BASE_URL\n",
    "page = requests.get(url)\n",
    "\n",
    "soup = BeautifulSoup(page.content, 'html.parser')\n",
    "\n"
   ]
  },
  {
   "cell_type": "code",
   "execution_count": 251,
   "metadata": {
    "scrolled": true
   },
   "outputs": [
    {
     "data": {
      "text/plain": [
       "'\\n[드라마] Homeland\\n\\n\\n'"
      ]
     },
     "execution_count": 251,
     "metadata": {},
     "output_type": "execute_result"
    }
   ],
   "source": [
    "reviewtext = soup.find(class_= 'title')\n",
    "review_text.text"
   ]
  },
  {
   "cell_type": "code",
   "execution_count": 110,
   "metadata": {},
   "outputs": [
    {
     "data": {
      "text/plain": [
       "'\\n'"
      ]
     },
     "execution_count": 110,
     "metadata": {},
     "output_type": "execute_result"
    }
   ],
   "source": [
    "review_star = soup.find(class_ = 'mask' )\n",
    "review_star.text"
   ]
  },
  {
   "cell_type": "code",
   "execution_count": 121,
   "metadata": {
    "scrolled": true
   },
   "outputs": [
    {
     "data": {
      "text/plain": [
       "dict_values([3, 2])"
      ]
     },
     "execution_count": 121,
     "metadata": {},
     "output_type": "execute_result"
    }
   ],
   "source": [
    "a = {'ab':3,'cd':2}\n",
    "a.values()"
   ]
  },
  {
   "cell_type": "code",
   "execution_count": 125,
   "metadata": {},
   "outputs": [],
   "source": [
    "reviews =[{'review_text': 'Wow...!','review_star': 7},{'review_text': 'Okay movie','review_star': 6}\n",
    "    ]"
   ]
  },
  {
   "cell_type": "code",
   "execution_count": 126,
   "metadata": {},
   "outputs": [
    {
     "data": {
      "text/plain": [
       "[{'review_text': 'Wow...!', 'review_star': 7},\n",
       " {'review_text': 'Okay movie', 'review_star': 6}]"
      ]
     },
     "execution_count": 126,
     "metadata": {},
     "output_type": "execute_result"
    }
   ],
   "source": [
    "reviews"
   ]
  },
  {
   "cell_type": "code",
   "execution_count": 170,
   "metadata": {},
   "outputs": [
    {
     "name": "stdout",
     "output_type": "stream",
     "text": [
      "7\n",
      "6\n"
     ]
    }
   ],
   "source": [
    "for i in range(len(reviews)):\n",
    "    print(reviews[i]['review_star'])\n",
    "    "
   ]
  },
  {
   "cell_type": "code",
   "execution_count": 177,
   "metadata": {},
   "outputs": [
    {
     "data": {
      "text/plain": [
       "[{'review_text': 'Wow...!', 'review_star': 7},\n",
       " {'review_text': 'Okay movie', 'review_star': 6}]"
      ]
     },
     "execution_count": 177,
     "metadata": {},
     "output_type": "execute_result"
    }
   ],
   "source": [
    "reviews"
   ]
  },
  {
   "cell_type": "code",
   "execution_count": 214,
   "metadata": {},
   "outputs": [
    {
     "name": "stdout",
     "output_type": "stream",
     "text": [
      "6.5\n"
     ]
    }
   ],
   "source": [
    "list =[]\n",
    "for i in range(len(reviews)):\n",
    "    list.append(reviews[i]['review_star'])\n",
    "\n",
    "print(sum(list)/len(list)"
   ]
  },
  {
   "cell_type": "code",
   "execution_count": 212,
   "metadata": {},
   "outputs": [
    {
     "name": "stdout",
     "output_type": "stream",
     "text": [
      "6.5\n"
     ]
    }
   ],
   "source": [
    "print(sum(list)/len(list))"
   ]
  },
  {
   "cell_type": "code",
   "execution_count": 215,
   "metadata": {},
   "outputs": [],
   "source": [
    "def get_avg_stars(reviews):\n",
    "    \n",
    "    \n",
    "    \n",
    "    list = []\n",
    "    for i in range(len(reviews)):\n",
    "        list.append(reviews[i]['review_star'])\n",
    "    \n",
    "    avg = print(sum(list)/len(list)) \n",
    "\n",
    "    return avg\n"
   ]
  },
  {
   "cell_type": "code",
   "execution_count": 209,
   "metadata": {},
   "outputs": [
    {
     "name": "stdout",
     "output_type": "stream",
     "text": [
      "6.0\n"
     ]
    }
   ],
   "source": [
    "\n",
    "         test_data = [\n",
    "             {\n",
    "                 'review_text': 'Outstanding',\n",
    "                 'review_star': 9\n",
    "             },\n",
    "             {\n",
    "                 'review_text': 'Excellent',\n",
    "                 'review_star': 9\n",
    "             },\n",
    "             {\n",
    "                 'review_text': 'Not my cup of tea',\n",
    "                 'review_star': 4\n",
    "             },\n",
    "             {\n",
    "                 'review_text': 'Okay!',\n",
    "                 'review_star': 5\n",
    "             },\n",
    "             {\n",
    "                 'review_text': 'Horrible...',\n",
    "                 'review_star': 1\n",
    "             },\n",
    "             {\n",
    "                 'review_text': 'Great Movie!',\n",
    "                 'review_star': 8\n",
    "             }\n",
    "         ]\n",
    "\n",
    "avg_stars = get_avg_stars(test_data)"
   ]
  },
  {
   "cell_type": "code",
   "execution_count": 217,
   "metadata": {},
   "outputs": [],
   "source": [
    "def get_movie_code(movie_title):\n",
    "    \"\"\"\n",
    "    get_movie_code 함수는 영화 제목을 받으면 해당 영화 제목으로 검색했을 때\n",
    "    가장 먼저 나오는 영화의 아이디를 리턴합니다.\n",
    "\n",
    "    해당 영화의 아이디는 네이버에서 지정한대로 사용합니다. \n",
    "    여기에서 네이버에서 지정한 아이디란 예를 들어 다음과 같습니다:\n",
    "        - `https://movie.naver.com/` 에 접속\n",
    "        - 검색란에 영화 제목 (예: Soul) 입력 뒤 검색\n",
    "        - 해당 영화 페이지의 URL (예: `https://movie.naver.com/movie/bi/mi/basic.nhn?code=184517`) 의 'code=' 뒤에 나오는 숫자\n",
    "\n",
    "    파라미터:\n",
    "        - movie_title: 리뷰를 스크레이핑할 영화 제목이 담긴 문자열(str) 입니다.\n",
    "\n",
    "    리턴:\n",
    "        - 영화 아이디 번호: 네이버에서 지정한 영화의 아이디 번호가 담긴\n",
    "        숫자(int) 입니다.\n",
    "    \"\"\"\n",
    "    search_url = f\"{BASE_URL}/search/result.naver?query={movie_title}&section=all&ie=utf8\"\n",
    "    \n",
    "    movie_code = None\n",
    "\n",
    "    return movie_code"
   ]
  },
  {
   "cell_type": "code",
   "execution_count": 219,
   "metadata": {},
   "outputs": [],
   "source": [
    "get_movie_code('랑종')"
   ]
  },
  {
   "cell_type": "code",
   "execution_count": 316,
   "metadata": {},
   "outputs": [],
   "source": [
    "search_url = \"https://movie.naver.com/movie/search/result.naver?query=%EB%9E%91%EC%A2%85&section=all\"\n",
    "page = requests.get(search_url)\n",
    "soup = BeautifulSoup(page.content, 'html.parser')"
   ]
  },
  {
   "cell_type": "code",
   "execution_count": 317,
   "metadata": {},
   "outputs": [
    {
     "data": {
      "text/plain": [
       "<a href=\"/movie/bi/mi/basic.naver?code=204496\"><strong>랑종</strong> (The Medium)</a>"
      ]
     },
     "execution_count": 317,
     "metadata": {},
     "output_type": "execute_result"
    }
   ],
   "source": [
    "movie_text = soup.find('dt').find('a')\n",
    "movie_text"
   ]
  },
  {
   "cell_type": "code",
   "execution_count": 318,
   "metadata": {},
   "outputs": [
    {
     "data": {
      "text/plain": [
       "'204496'"
      ]
     },
     "execution_count": 318,
     "metadata": {},
     "output_type": "execute_result"
    }
   ],
   "source": [
    "movie_text = soup.find('dt').find('a').get('href').split('=')[1]\n",
    "movie_text"
   ]
  },
  {
   "cell_type": "code",
   "execution_count": 308,
   "metadata": {},
   "outputs": [
    {
     "data": {
      "text/plain": [
       "204496"
      ]
     },
     "execution_count": 308,
     "metadata": {},
     "output_type": "execute_result"
    }
   ],
   "source": [
    "movie_text = int(soup.find('dt').find('a')['href'].split('=')[1])\n",
    "movie_text"
   ]
  },
  {
   "cell_type": "code",
   "execution_count": 306,
   "metadata": {},
   "outputs": [
    {
     "ename": "TypeError",
     "evalue": "'NoneType' object is not callable",
     "output_type": "error",
     "traceback": [
      "\u001b[1;31m---------------------------------------------------------------------------\u001b[0m",
      "\u001b[1;31mTypeError\u001b[0m                                 Traceback (most recent call last)",
      "\u001b[1;32m<ipython-input-306-9efb2ab05dac>\u001b[0m in \u001b[0;36m<module>\u001b[1;34m\u001b[0m\n\u001b[1;32m----> 1\u001b[1;33m \u001b[0mmovie_text\u001b[0m\u001b[1;33m.\u001b[0m\u001b[0msplit\u001b[0m\u001b[1;33m(\u001b[0m\u001b[1;34m'='\u001b[0m\u001b[1;33m)\u001b[0m\u001b[1;33m\u001b[0m\u001b[1;33m\u001b[0m\u001b[0m\n\u001b[0m",
      "\u001b[1;31mTypeError\u001b[0m: 'NoneType' object is not callable"
     ]
    }
   ],
   "source": [
    "movie_text.split('=')"
   ]
  },
  {
   "cell_type": "code",
   "execution_count": 319,
   "metadata": {},
   "outputs": [],
   "source": [
    "def get_movie_code(movie_title):\n",
    "    \"\"\"\n",
    "    get_movie_code 함수는 영화 제목을 받으면 해당 영화 제목으로 검색했을 때\n",
    "    가장 먼저 나오는 영화의 아이디를 리턴합니다.\n",
    "\n",
    "    해당 영화의 아이디는 네이버에서 지정한대로 사용합니다. \n",
    "    여기에서 네이버에서 지정한 아이디란 예를 들어 다음과 같습니다:\n",
    "        - `https://movie.naver.com/` 에 접속\n",
    "        - 검색란에 영화 제목 (예: Soul) 입력 뒤 검색\n",
    "        - 해당 영화 페이지의 URL (예: `https://movie.naver.com/movie/bi/mi/basic.nhn?code=184517`) 의 'code=' 뒤에 나오는 숫자\n",
    "\n",
    "    파라미터:\n",
    "        - movie_title: 리뷰를 스크레이핑할 영화 제목이 담긴 문자열(str) 입니다.\n",
    "\n",
    "    리턴:\n",
    "        - 영화 아이디 번호: 네이버에서 지정한 영화의 아이디 번호가 담긴\n",
    "        숫자(int) 입니다.\n",
    "    \"\"\"\n",
    "    search_url = f\"{BASE_URL}/search/result.naver?query={movie_title}&section=all&ie=utf8\"\n",
    "    page = requests.get(search_url)\n",
    "    soup = BeautifulSoup(page.content, 'html.parser')\n",
    "\n",
    "    movie_code = soup.find('dt').find('a')['href'].split('=')[1]\n",
    "\n",
    "    return int(movie_code)"
   ]
  },
  {
   "cell_type": "code",
   "execution_count": 320,
   "metadata": {},
   "outputs": [
    {
     "ename": "IndexError",
     "evalue": "list index out of range",
     "output_type": "error",
     "traceback": [
      "\u001b[1;31m---------------------------------------------------------------------------\u001b[0m",
      "\u001b[1;31mIndexError\u001b[0m                                Traceback (most recent call last)",
      "\u001b[1;32m<ipython-input-320-bb9c14358ea2>\u001b[0m in \u001b[0;36m<module>\u001b[1;34m\u001b[0m\n\u001b[1;32m----> 1\u001b[1;33m \u001b[0mget_movie_code\u001b[0m\u001b[1;33m(\u001b[0m\u001b[1;34m'랑종'\u001b[0m\u001b[1;33m)\u001b[0m\u001b[1;33m\u001b[0m\u001b[1;33m\u001b[0m\u001b[0m\n\u001b[0m",
      "\u001b[1;32m<ipython-input-319-2fc32de8cf4c>\u001b[0m in \u001b[0;36mget_movie_code\u001b[1;34m(movie_title)\u001b[0m\n\u001b[0;32m     21\u001b[0m     \u001b[0msoup\u001b[0m \u001b[1;33m=\u001b[0m \u001b[0mBeautifulSoup\u001b[0m\u001b[1;33m(\u001b[0m\u001b[0mpage\u001b[0m\u001b[1;33m.\u001b[0m\u001b[0mcontent\u001b[0m\u001b[1;33m,\u001b[0m \u001b[1;34m'html.parser'\u001b[0m\u001b[1;33m)\u001b[0m\u001b[1;33m\u001b[0m\u001b[1;33m\u001b[0m\u001b[0m\n\u001b[0;32m     22\u001b[0m \u001b[1;33m\u001b[0m\u001b[0m\n\u001b[1;32m---> 23\u001b[1;33m     \u001b[0mmovie_code\u001b[0m \u001b[1;33m=\u001b[0m \u001b[0msoup\u001b[0m\u001b[1;33m.\u001b[0m\u001b[0mfind\u001b[0m\u001b[1;33m(\u001b[0m\u001b[1;34m'dt'\u001b[0m\u001b[1;33m)\u001b[0m\u001b[1;33m.\u001b[0m\u001b[0mfind\u001b[0m\u001b[1;33m(\u001b[0m\u001b[1;34m'a'\u001b[0m\u001b[1;33m)\u001b[0m\u001b[1;33m[\u001b[0m\u001b[1;34m'href'\u001b[0m\u001b[1;33m]\u001b[0m\u001b[1;33m.\u001b[0m\u001b[0msplit\u001b[0m\u001b[1;33m(\u001b[0m\u001b[1;34m'='\u001b[0m\u001b[1;33m)\u001b[0m\u001b[1;33m[\u001b[0m\u001b[1;36m1\u001b[0m\u001b[1;33m]\u001b[0m\u001b[1;33m\u001b[0m\u001b[1;33m\u001b[0m\u001b[0m\n\u001b[0m\u001b[0;32m     24\u001b[0m \u001b[1;33m\u001b[0m\u001b[0m\n\u001b[0;32m     25\u001b[0m     \u001b[1;32mreturn\u001b[0m \u001b[0mint\u001b[0m\u001b[1;33m(\u001b[0m\u001b[0mmovie_code\u001b[0m\u001b[1;33m)\u001b[0m\u001b[1;33m\u001b[0m\u001b[1;33m\u001b[0m\u001b[0m\n",
      "\u001b[1;31mIndexError\u001b[0m: list index out of range"
     ]
    }
   ],
   "source": [
    "\n",
    "get_movie_code('랑종')"
   ]
  },
  {
   "cell_type": "code",
   "execution_count": null,
   "metadata": {},
   "outputs": [],
   "source": []
  }
 ],
 "metadata": {
  "colab": {
   "collapsed_sections": [],
   "name": "ch01-part-04-sklearn-실습",
   "provenance": []
  },
  "kernelspec": {
   "display_name": "Python 3",
   "language": "python",
   "name": "python3"
  },
  "language_info": {
   "codemirror_mode": {
    "name": "ipython",
    "version": 3
   },
   "file_extension": ".py",
   "mimetype": "text/x-python",
   "name": "python",
   "nbconvert_exporter": "python",
   "pygments_lexer": "ipython3",
   "version": "3.7.6"
  }
 },
 "nbformat": 4,
 "nbformat_minor": 1
}
