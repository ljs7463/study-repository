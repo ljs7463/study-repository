{
 "cells": [
  {
   "cell_type": "code",
   "execution_count": 26,
   "metadata": {
    "scrolled": true
   },
   "outputs": [],
   "source": [
    "import requests\n",
    "from bs4 import BeautifulSoup"
   ]
  },
  {
   "cell_type": "code",
   "execution_count": 41,
   "metadata": {},
   "outputs": [],
   "source": [
    "BASE_URL = \"https://movie.naver.com/movie/board/review/list.naver\"\n",
    "page = requests.get(BASE_URL)\n",
    "soup = BeautifulSoup(page.content, 'html.parser')"
   ]
  },
  {
   "cell_type": "code",
   "execution_count": 72,
   "metadata": {},
   "outputs": [
    {
     "name": "stdout",
     "output_type": "stream",
     "text": [
      "\n",
      "\n",
      "1위해적: 도깨비 깃발\n",
      "\n",
      "1\n",
      "\n",
      "2위특송\n",
      "\n",
      "1\n",
      "\n",
      "3위킹메이커\n",
      "\n",
      "2\n",
      "\n",
      "4위스파이더맨: 노 웨..\n",
      "\n",
      "1\n",
      "\n",
      "5위씽2게더\n",
      "\n",
      "1\n",
      "\n"
     ]
    }
   ],
   "source": [
    "title = soup.find_all('ul',attrs = {'class':'r_ranking'})\n",
    "for t in title:\n",
    "    print(t.getText())"
   ]
  },
  {
   "cell_type": "code",
   "execution_count": 55,
   "metadata": {},
   "outputs": [
    {
     "data": {
      "text/plain": [
       "'1위해적: 도깨비 깃발'"
      ]
     },
     "execution_count": 55,
     "metadata": {},
     "output_type": "execute_result"
    }
   ],
   "source": [
    "soup.find(class_='box_type_1 mb_8').find('a').text"
   ]
  },
  {
   "cell_type": "code",
   "execution_count": 57,
   "metadata": {},
   "outputs": [
    {
     "data": {
      "text/plain": [
       "<ul class=\"r_ranking\">\n",
       "<li class=\"ranking01\">\n",
       "<a class=\"b\" href=\"/movie/bi/mi/basic.naver?code=194204\" onclick=\"clickcr(this,'pop.list','194204','1',event);\" title=\"해적: 도깨비 깃발\"><span class=\"blind\">1위</span>해적: 도깨비 깃발</a>\n",
       "<span class=\"rank\">\n",
       "<img alt=\"순위 상승\" height=\"10\" src=\"https://ssl.pstatic.net/imgmovie/2007/img/common/icon_up_1.gif\" width=\"7\"/>1</span>\n",
       "<li class=\"ranking02\">\n",
       "<a href=\"/movie/bi/mi/basic.naver?code=186233\" onclick=\"clickcr(this,'pop.list','186233','2',event);\" title=\"특송\"><span class=\"blind\">2위</span>특송</a>\n",
       "<span class=\"rank\">\n",
       "<img alt=\"순위 하락\" height=\"10\" src=\"https://ssl.pstatic.net/imgmovie/2007/img/common/icon_down_1.gif\" width=\"7\"/>1</span>\n",
       "<li class=\"ranking03\">\n",
       "<a href=\"/movie/bi/mi/basic.naver?code=177366\" onclick=\"clickcr(this,'pop.list','177366','3',event);\" title=\"킹메이커\"><span class=\"blind\">3위</span>킹메이커</a>\n",
       "<span class=\"rank\">\n",
       "<img alt=\"순위 상승\" height=\"10\" src=\"https://ssl.pstatic.net/imgmovie/2007/img/common/icon_up_1.gif\" width=\"7\"/>2</span>\n",
       "<li class=\"ranking04\">\n",
       "<a href=\"/movie/bi/mi/basic.naver?code=208077\" onclick=\"clickcr(this,'pop.list','208077','4',event);\" title=\"스파이더맨: 노 웨이 홈\"><span class=\"blind\">4위</span>스파이더맨: 노 웨..</a>\n",
       "<span class=\"rank\">\n",
       "<img alt=\"순위 하락\" height=\"10\" src=\"https://ssl.pstatic.net/imgmovie/2007/img/common/icon_down_1.gif\" width=\"7\"/>1</span>\n",
       "<li class=\"ranking05\">\n",
       "<a href=\"/movie/bi/mi/basic.naver?code=187320\" onclick=\"clickcr(this,'pop.list','187320','5',event);\" title=\"씽2게더\"><span class=\"blind\">5위</span>씽2게더</a>\n",
       "<span class=\"rank\">\n",
       "<img alt=\"순위 하락\" height=\"10\" src=\"https://ssl.pstatic.net/imgmovie/2007/img/common/icon_down_1.gif\" width=\"7\"/>1</span>\n",
       "</li></li></li></li></li></ul>"
      ]
     },
     "execution_count": 57,
     "metadata": {},
     "output_type": "execute_result"
    }
   ],
   "source": [
    "soup.find(class_='r_ranking')"
   ]
  },
  {
   "cell_type": "code",
   "execution_count": null,
   "metadata": {},
   "outputs": [],
   "source": []
  },
  {
   "cell_type": "code",
   "execution_count": 4,
   "metadata": {
    "scrolled": true
   },
   "outputs": [
    {
     "data": {
      "text/plain": [
       "'\\n[범죄액션영화] 허밍버드(Redemption, Hummingbird, 2013) - 제이슨 스...\\n\\n\\n'"
      ]
     },
     "execution_count": 4,
     "metadata": {},
     "output_type": "execute_result"
    }
   ],
   "source": [
    "reviewtext = soup.find(class_= 'title')\n",
    "review_text.text"
   ]
  },
  {
   "cell_type": "code",
   "execution_count": 5,
   "metadata": {},
   "outputs": [
    {
     "data": {
      "text/plain": [
       "'\\n'"
      ]
     },
     "execution_count": 5,
     "metadata": {},
     "output_type": "execute_result"
    }
   ],
   "source": [
    "review_star = soup.find(class_ = 'mask' )\n",
    "review_star.text"
   ]
  },
  {
   "cell_type": "code",
   "execution_count": 6,
   "metadata": {
    "scrolled": true
   },
   "outputs": [
    {
     "data": {
      "text/plain": [
       "dict_values([3, 2])"
      ]
     },
     "execution_count": 6,
     "metadata": {},
     "output_type": "execute_result"
    }
   ],
   "source": [
    "a = {'ab':3,'cd':2}\n",
    "a.values()"
   ]
  },
  {
   "cell_type": "code",
   "execution_count": 7,
   "metadata": {},
   "outputs": [],
   "source": [
    "reviews =[{'review_text': 'Wow...!','review_star': 7},{'review_text': 'Okay movie','review_star': 6}\n",
    "    ]"
   ]
  },
  {
   "cell_type": "code",
   "execution_count": 8,
   "metadata": {},
   "outputs": [
    {
     "data": {
      "text/plain": [
       "[{'review_text': 'Wow...!', 'review_star': 7},\n",
       " {'review_text': 'Okay movie', 'review_star': 6}]"
      ]
     },
     "execution_count": 8,
     "metadata": {},
     "output_type": "execute_result"
    }
   ],
   "source": [
    "reviews"
   ]
  },
  {
   "cell_type": "code",
   "execution_count": 9,
   "metadata": {},
   "outputs": [
    {
     "name": "stdout",
     "output_type": "stream",
     "text": [
      "7\n",
      "6\n"
     ]
    }
   ],
   "source": [
    "for i in range(len(reviews)):\n",
    "    print(reviews[i]['review_star'])\n",
    "    "
   ]
  },
  {
   "cell_type": "code",
   "execution_count": 10,
   "metadata": {},
   "outputs": [
    {
     "data": {
      "text/plain": [
       "[{'review_text': 'Wow...!', 'review_star': 7},\n",
       " {'review_text': 'Okay movie', 'review_star': 6}]"
      ]
     },
     "execution_count": 10,
     "metadata": {},
     "output_type": "execute_result"
    }
   ],
   "source": [
    "reviews"
   ]
  },
  {
   "cell_type": "code",
   "execution_count": 12,
   "metadata": {},
   "outputs": [
    {
     "name": "stdout",
     "output_type": "stream",
     "text": [
      "6.5\n"
     ]
    }
   ],
   "source": [
    "list =[]\n",
    "for i in range(len(reviews)):\n",
    "    list.append(reviews[i]['review_star'])\n",
    "\n",
    "print(sum(list)/len(list))"
   ]
  },
  {
   "cell_type": "code",
   "execution_count": 13,
   "metadata": {},
   "outputs": [
    {
     "name": "stdout",
     "output_type": "stream",
     "text": [
      "6.5\n"
     ]
    }
   ],
   "source": [
    "print(sum(list)/len(list))"
   ]
  },
  {
   "cell_type": "code",
   "execution_count": 14,
   "metadata": {},
   "outputs": [],
   "source": [
    "def get_avg_stars(reviews):\n",
    "    \n",
    "    \n",
    "    \n",
    "    list = []\n",
    "    for i in range(len(reviews)):\n",
    "        list.append(reviews[i]['review_star'])\n",
    "    \n",
    "    avg = print(sum(list)/len(list)) \n",
    "\n",
    "    return avg\n"
   ]
  },
  {
   "cell_type": "code",
   "execution_count": 15,
   "metadata": {},
   "outputs": [
    {
     "name": "stdout",
     "output_type": "stream",
     "text": [
      "6.0\n"
     ]
    }
   ],
   "source": [
    "\n",
    "         test_data = [\n",
    "             {\n",
    "                 'review_text': 'Outstanding',\n",
    "                 'review_star': 9\n",
    "             },\n",
    "             {\n",
    "                 'review_text': 'Excellent',\n",
    "                 'review_star': 9\n",
    "             },\n",
    "             {\n",
    "                 'review_text': 'Not my cup of tea',\n",
    "                 'review_star': 4\n",
    "             },\n",
    "             {\n",
    "                 'review_text': 'Okay!',\n",
    "                 'review_star': 5\n",
    "             },\n",
    "             {\n",
    "                 'review_text': 'Horrible...',\n",
    "                 'review_star': 1\n",
    "             },\n",
    "             {\n",
    "                 'review_text': 'Great Movie!',\n",
    "                 'review_star': 8\n",
    "             }\n",
    "         ]\n",
    "\n",
    "avg_stars = get_avg_stars(test_data)"
   ]
  },
  {
   "cell_type": "code",
   "execution_count": 16,
   "metadata": {},
   "outputs": [],
   "source": [
    "def get_movie_code(movie_title):\n",
    "    \"\"\"\n",
    "    get_movie_code 함수는 영화 제목을 받으면 해당 영화 제목으로 검색했을 때\n",
    "    가장 먼저 나오는 영화의 아이디를 리턴합니다.\n",
    "\n",
    "    해당 영화의 아이디는 네이버에서 지정한대로 사용합니다. \n",
    "    여기에서 네이버에서 지정한 아이디란 예를 들어 다음과 같습니다:\n",
    "        - `https://movie.naver.com/` 에 접속\n",
    "        - 검색란에 영화 제목 (예: Soul) 입력 뒤 검색\n",
    "        - 해당 영화 페이지의 URL (예: `https://movie.naver.com/movie/bi/mi/basic.nhn?code=184517`) 의 'code=' 뒤에 나오는 숫자\n",
    "\n",
    "    파라미터:\n",
    "        - movie_title: 리뷰를 스크레이핑할 영화 제목이 담긴 문자열(str) 입니다.\n",
    "\n",
    "    리턴:\n",
    "        - 영화 아이디 번호: 네이버에서 지정한 영화의 아이디 번호가 담긴\n",
    "        숫자(int) 입니다.\n",
    "    \"\"\"\n",
    "    search_url = f\"{BASE_URL}/search/result.naver?query={movie_title}&section=all&ie=utf8\"\n",
    "    \n",
    "    movie_code = None\n",
    "\n",
    "    return movie_code"
   ]
  },
  {
   "cell_type": "code",
   "execution_count": 17,
   "metadata": {},
   "outputs": [],
   "source": [
    "get_movie_code('랑종')"
   ]
  },
  {
   "cell_type": "code",
   "execution_count": 18,
   "metadata": {},
   "outputs": [],
   "source": [
    "search_url = \"https://movie.naver.com/movie/search/result.naver?query=%EB%9E%91%EC%A2%85&section=all\"\n",
    "page = requests.get(search_url)\n",
    "soup = BeautifulSoup(page.content, 'html.parser')"
   ]
  },
  {
   "cell_type": "code",
   "execution_count": 19,
   "metadata": {},
   "outputs": [
    {
     "data": {
      "text/plain": [
       "<a href=\"/movie/bi/mi/basic.naver?code=204496\"><strong>랑종</strong> (The Medium)</a>"
      ]
     },
     "execution_count": 19,
     "metadata": {},
     "output_type": "execute_result"
    }
   ],
   "source": [
    "movie_text = soup.find('dt').find('a')\n",
    "movie_text"
   ]
  },
  {
   "cell_type": "code",
   "execution_count": 20,
   "metadata": {},
   "outputs": [
    {
     "data": {
      "text/plain": [
       "'204496'"
      ]
     },
     "execution_count": 20,
     "metadata": {},
     "output_type": "execute_result"
    }
   ],
   "source": [
    "movie_text = soup.find('dt').find('a').get('href').split('=')[1]\n",
    "movie_text"
   ]
  },
  {
   "cell_type": "code",
   "execution_count": 21,
   "metadata": {},
   "outputs": [
    {
     "data": {
      "text/plain": [
       "204496"
      ]
     },
     "execution_count": 21,
     "metadata": {},
     "output_type": "execute_result"
    }
   ],
   "source": [
    "movie_text = int(soup.find('dt').find('a')['href'].split('=')[1])\n",
    "movie_text"
   ]
  },
  {
   "cell_type": "code",
   "execution_count": 22,
   "metadata": {},
   "outputs": [
    {
     "ename": "AttributeError",
     "evalue": "'int' object has no attribute 'split'",
     "output_type": "error",
     "traceback": [
      "\u001b[1;31m---------------------------------------------------------------------------\u001b[0m",
      "\u001b[1;31mAttributeError\u001b[0m                            Traceback (most recent call last)",
      "\u001b[1;32mC:\\Users\\JEONGS~1\\AppData\\Local\\Temp/ipykernel_7384/1098289510.py\u001b[0m in \u001b[0;36m<module>\u001b[1;34m\u001b[0m\n\u001b[1;32m----> 1\u001b[1;33m \u001b[0mmovie_text\u001b[0m\u001b[1;33m.\u001b[0m\u001b[0msplit\u001b[0m\u001b[1;33m(\u001b[0m\u001b[1;34m'='\u001b[0m\u001b[1;33m)\u001b[0m\u001b[1;33m\u001b[0m\u001b[1;33m\u001b[0m\u001b[0m\n\u001b[0m",
      "\u001b[1;31mAttributeError\u001b[0m: 'int' object has no attribute 'split'"
     ]
    }
   ],
   "source": [
    "movie_text.split('=')"
   ]
  },
  {
   "cell_type": "code",
   "execution_count": 23,
   "metadata": {},
   "outputs": [],
   "source": [
    "def get_movie_code(movie_title):\n",
    "    \"\"\"\n",
    "    get_movie_code 함수는 영화 제목을 받으면 해당 영화 제목으로 검색했을 때\n",
    "    가장 먼저 나오는 영화의 아이디를 리턴합니다.\n",
    "\n",
    "    해당 영화의 아이디는 네이버에서 지정한대로 사용합니다. \n",
    "    여기에서 네이버에서 지정한 아이디란 예를 들어 다음과 같습니다:\n",
    "        - `https://movie.naver.com/` 에 접속\n",
    "        - 검색란에 영화 제목 (예: Soul) 입력 뒤 검색\n",
    "        - 해당 영화 페이지의 URL (예: `https://movie.naver.com/movie/bi/mi/basic.nhn?code=184517`) 의 'code=' 뒤에 나오는 숫자\n",
    "\n",
    "    파라미터:\n",
    "        - movie_title: 리뷰를 스크레이핑할 영화 제목이 담긴 문자열(str) 입니다.\n",
    "\n",
    "    리턴:\n",
    "        - 영화 아이디 번호: 네이버에서 지정한 영화의 아이디 번호가 담긴\n",
    "        숫자(int) 입니다.\n",
    "    \"\"\"\n",
    "    search_url = f\"{BASE_URL}/search/result.naver?query={movie_title}&section=all&ie=utf8\"\n",
    "    page = requests.get(search_url)\n",
    "    soup = BeautifulSoup(page.content, 'html.parser')\n",
    "\n",
    "    movie_code = soup.find('dt').find('a')['href'].split('=')[1]\n",
    "\n",
    "    return int(movie_code)"
   ]
  },
  {
   "cell_type": "code",
   "execution_count": 24,
   "metadata": {},
   "outputs": [
    {
     "ename": "IndexError",
     "evalue": "list index out of range",
     "output_type": "error",
     "traceback": [
      "\u001b[1;31m---------------------------------------------------------------------------\u001b[0m",
      "\u001b[1;31mIndexError\u001b[0m                                Traceback (most recent call last)",
      "\u001b[1;32mC:\\Users\\JEONGS~1\\AppData\\Local\\Temp/ipykernel_7384/1736867537.py\u001b[0m in \u001b[0;36m<module>\u001b[1;34m\u001b[0m\n\u001b[1;32m----> 1\u001b[1;33m \u001b[0mget_movie_code\u001b[0m\u001b[1;33m(\u001b[0m\u001b[1;34m'랑종'\u001b[0m\u001b[1;33m)\u001b[0m\u001b[1;33m\u001b[0m\u001b[1;33m\u001b[0m\u001b[0m\n\u001b[0m",
      "\u001b[1;32mC:\\Users\\JEONGS~1\\AppData\\Local\\Temp/ipykernel_7384/1583800434.py\u001b[0m in \u001b[0;36mget_movie_code\u001b[1;34m(movie_title)\u001b[0m\n\u001b[0;32m     21\u001b[0m     \u001b[0msoup\u001b[0m \u001b[1;33m=\u001b[0m \u001b[0mBeautifulSoup\u001b[0m\u001b[1;33m(\u001b[0m\u001b[0mpage\u001b[0m\u001b[1;33m.\u001b[0m\u001b[0mcontent\u001b[0m\u001b[1;33m,\u001b[0m \u001b[1;34m'html.parser'\u001b[0m\u001b[1;33m)\u001b[0m\u001b[1;33m\u001b[0m\u001b[1;33m\u001b[0m\u001b[0m\n\u001b[0;32m     22\u001b[0m \u001b[1;33m\u001b[0m\u001b[0m\n\u001b[1;32m---> 23\u001b[1;33m     \u001b[0mmovie_code\u001b[0m \u001b[1;33m=\u001b[0m \u001b[0msoup\u001b[0m\u001b[1;33m.\u001b[0m\u001b[0mfind\u001b[0m\u001b[1;33m(\u001b[0m\u001b[1;34m'dt'\u001b[0m\u001b[1;33m)\u001b[0m\u001b[1;33m.\u001b[0m\u001b[0mfind\u001b[0m\u001b[1;33m(\u001b[0m\u001b[1;34m'a'\u001b[0m\u001b[1;33m)\u001b[0m\u001b[1;33m[\u001b[0m\u001b[1;34m'href'\u001b[0m\u001b[1;33m]\u001b[0m\u001b[1;33m.\u001b[0m\u001b[0msplit\u001b[0m\u001b[1;33m(\u001b[0m\u001b[1;34m'='\u001b[0m\u001b[1;33m)\u001b[0m\u001b[1;33m[\u001b[0m\u001b[1;36m1\u001b[0m\u001b[1;33m]\u001b[0m\u001b[1;33m\u001b[0m\u001b[1;33m\u001b[0m\u001b[0m\n\u001b[0m\u001b[0;32m     24\u001b[0m \u001b[1;33m\u001b[0m\u001b[0m\n\u001b[0;32m     25\u001b[0m     \u001b[1;32mreturn\u001b[0m \u001b[0mint\u001b[0m\u001b[1;33m(\u001b[0m\u001b[0mmovie_code\u001b[0m\u001b[1;33m)\u001b[0m\u001b[1;33m\u001b[0m\u001b[1;33m\u001b[0m\u001b[0m\n",
      "\u001b[1;31mIndexError\u001b[0m: list index out of range"
     ]
    }
   ],
   "source": [
    "\n",
    "get_movie_code('랑종')"
   ]
  },
  {
   "cell_type": "code",
   "execution_count": null,
   "metadata": {},
   "outputs": [],
   "source": []
  }
 ],
 "metadata": {
  "colab": {
   "collapsed_sections": [],
   "name": "ch01-part-04-sklearn-실습",
   "provenance": []
  },
  "kernelspec": {
   "display_name": "Python 3 (ipykernel)",
   "language": "python",
   "name": "python3"
  },
  "language_info": {
   "codemirror_mode": {
    "name": "ipython",
    "version": 3
   },
   "file_extension": ".py",
   "mimetype": "text/x-python",
   "name": "python",
   "nbconvert_exporter": "python",
   "pygments_lexer": "ipython3",
   "version": "3.9.7"
  }
 },
 "nbformat": 4,
 "nbformat_minor": 1
}
