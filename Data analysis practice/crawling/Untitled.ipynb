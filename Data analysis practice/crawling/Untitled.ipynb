{
 "cells": [
  {
   "cell_type": "code",
   "execution_count": 2,
   "metadata": {},
   "outputs": [
    {
     "name": "stdout",
     "output_type": "stream",
     "text": [
      "검색어를 입력해 주세요 :딸기\n",
      "[]\n"
     ]
    }
   ],
   "source": [
    "from urllib.request import urlopen\n",
    "from urllib.parse import quote_plus\n",
    "from bs4 import BeautifulSoup\n",
    "\n",
    "baseUrl = 'https://search.naver.com/search.naver?sm=tab_hty.top&where=image&query='\n",
    "plusUrl = input('검색어를 입력해 주세요 :')\n",
    "url =baseUrl + quote_plus(plusUrl)\n",
    "\n",
    "html = urlopen(url).read()\n",
    "soup = BeautifulSoup(html, 'html.parser')\n",
    "\n",
    "imgList = []\n",
    "imgDiv = soup.find_all(\"div\", class_='thumb')\n",
    "for x in range(len(imgDiv)):\n",
    "    img = imgDiv[x].find_next(\"img\").get('src')\n",
    "    imgList.append(img)\n",
    "print(imgList)"
   ]
  },
  {
   "cell_type": "code",
   "execution_count": null,
   "metadata": {},
   "outputs": [],
   "source": [
    "# url 주소는 https://search.naver.com/search.naver?sm=tab_hty.top&where=image&query=%EB%94%B8%EA%B8%B0 \n",
    "# 여기서 개발자도구로 보면서 했습니다!!\n",
    "# 목적은 딸기로 검색해서 이미지 크롤링 하는것인데 class= \"_image _listImage\"로 접근해서 하고있었는데 접근이안됩니다 ㅠㅠ\n"
   ]
  }
 ],
 "metadata": {
  "kernelspec": {
   "display_name": "Python 3",
   "language": "python",
   "name": "python3"
  },
  "language_info": {
   "codemirror_mode": {
    "name": "ipython",
    "version": 3
   },
   "file_extension": ".py",
   "mimetype": "text/x-python",
   "name": "python",
   "nbconvert_exporter": "python",
   "pygments_lexer": "ipython3",
   "version": "3.7.6"
  }
 },
 "nbformat": 4,
 "nbformat_minor": 4
}
